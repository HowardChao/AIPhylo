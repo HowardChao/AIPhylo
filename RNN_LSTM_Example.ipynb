{
 "cells": [
  {
   "cell_type": "code",
   "execution_count": 1,
   "metadata": {},
   "outputs": [
    {
     "name": "stderr",
     "output_type": "stream",
     "text": [
      "Using TensorFlow backend.\n"
     ]
    }
   ],
   "source": [
    "from keras.models import Sequential \n",
    "from keras.layers import Dense\n",
    "from keras.layers import LSTM\n",
    "from sklearn.model_selection import train_test_split\n",
    "import numpy as np\n",
    "import matplotlib.pyplot as plt"
   ]
  },
  {
   "cell_type": "markdown",
   "metadata": {},
   "source": [
    "## Data Preparation"
   ]
  },
  {
   "cell_type": "code",
   "execution_count": 81,
   "metadata": {},
   "outputs": [],
   "source": [
    "Data = [[[(i+j)/100] for i in range(5)] for j in range(100)]\n",
    "Target = [(i+5)/100 for i in range(100)]"
   ]
  },
  {
   "cell_type": "code",
   "execution_count": 82,
   "metadata": {},
   "outputs": [],
   "source": [
    "data = np.array(Data, dtype=float)\n",
    "target = np.array(Target, dtype=float)"
   ]
  },
  {
   "cell_type": "code",
   "execution_count": 83,
   "metadata": {},
   "outputs": [
    {
     "data": {
      "text/plain": [
       "(100, 5, 1)"
      ]
     },
     "execution_count": 83,
     "metadata": {},
     "output_type": "execute_result"
    }
   ],
   "source": [
    "data.shape"
   ]
  },
  {
   "cell_type": "code",
   "execution_count": 84,
   "metadata": {},
   "outputs": [
    {
     "data": {
      "text/plain": [
       "(100,)"
      ]
     },
     "execution_count": 84,
     "metadata": {},
     "output_type": "execute_result"
    }
   ],
   "source": [
    "target.shape"
   ]
  },
  {
   "cell_type": "code",
   "execution_count": 85,
   "metadata": {},
   "outputs": [],
   "source": [
    "x_train,x_test,y_train,y_test = train_test_split(data, target, test_size=0.2, random_state=4)"
   ]
  },
  {
   "cell_type": "code",
   "execution_count": 86,
   "metadata": {},
   "outputs": [
    {
     "name": "stdout",
     "output_type": "stream",
     "text": [
      "x_train shape:  (80, 5, 1)\n",
      "x_test shape:  (20, 5, 1)\n",
      "y_train shape:  (80,)\n",
      "y_test shape:  (20,)\n"
     ]
    }
   ],
   "source": [
    "print(\"x_train shape: \", x_train.shape)\n",
    "print(\"x_test shape: \", x_test.shape)\n",
    "print(\"y_train shape: \", y_train.shape)\n",
    "print(\"y_test shape: \", y_test.shape)"
   ]
  },
  {
   "cell_type": "code",
   "execution_count": 87,
   "metadata": {},
   "outputs": [],
   "source": [
    "model = Sequential()"
   ]
  },
  {
   "cell_type": "code",
   "execution_count": 88,
   "metadata": {},
   "outputs": [],
   "source": [
    "model.add(LSTM((1), batch_input_shape=(None,5,1), return_sequences=True))\n",
    "model.add(LSTM((1), return_sequences=False))"
   ]
  },
  {
   "cell_type": "code",
   "execution_count": 89,
   "metadata": {},
   "outputs": [],
   "source": [
    "model.compile(loss='mean_absolute_error', optimizer='adam', metrics=['accuracy'])"
   ]
  },
  {
   "cell_type": "code",
   "execution_count": 90,
   "metadata": {},
   "outputs": [
    {
     "name": "stdout",
     "output_type": "stream",
     "text": [
      "Model: \"sequential_5\"\n",
      "_________________________________________________________________\n",
      "Layer (type)                 Output Shape              Param #   \n",
      "=================================================================\n",
      "lstm_10 (LSTM)               (None, 5, 1)              12        \n",
      "_________________________________________________________________\n",
      "lstm_11 (LSTM)               (None, 1)                 12        \n",
      "=================================================================\n",
      "Total params: 24\n",
      "Trainable params: 24\n",
      "Non-trainable params: 0\n",
      "_________________________________________________________________\n"
     ]
    }
   ],
   "source": [
    "model.summary()"
   ]
  },
  {
   "cell_type": "code",
   "execution_count": null,
   "metadata": {},
   "outputs": [
    {
     "name": "stdout",
     "output_type": "stream",
     "text": [
      "Train on 80 samples, validate on 20 samples\n",
      "Epoch 1/800\n",
      "80/80 [==============================] - 1s 8ms/step - loss: 0.5372 - accuracy: 0.0000e+00 - val_loss: 0.4300 - val_accuracy: 0.0000e+00\n",
      "Epoch 2/800\n",
      "80/80 [==============================] - 0s 155us/step - loss: 0.5345 - accuracy: 0.0000e+00 - val_loss: 0.4272 - val_accuracy: 0.0000e+00\n",
      "Epoch 3/800\n",
      "80/80 [==============================] - 0s 155us/step - loss: 0.5316 - accuracy: 0.0000e+00 - val_loss: 0.4243 - val_accuracy: 0.0000e+00\n",
      "Epoch 4/800\n",
      "80/80 [==============================] - 0s 160us/step - loss: 0.5286 - accuracy: 0.0000e+00 - val_loss: 0.4213 - val_accuracy: 0.0000e+00\n",
      "Epoch 5/800\n",
      "80/80 [==============================] - 0s 165us/step - loss: 0.5254 - accuracy: 0.0000e+00 - val_loss: 0.4182 - val_accuracy: 0.0000e+00\n",
      "Epoch 6/800\n",
      "80/80 [==============================] - 0s 178us/step - loss: 0.5223 - accuracy: 0.0000e+00 - val_loss: 0.4150 - val_accuracy: 0.0000e+00\n",
      "Epoch 7/800\n",
      "80/80 [==============================] - 0s 174us/step - loss: 0.5190 - accuracy: 0.0000e+00 - val_loss: 0.4117 - val_accuracy: 0.0000e+00\n",
      "Epoch 8/800\n",
      "80/80 [==============================] - 0s 207us/step - loss: 0.5157 - accuracy: 0.0000e+00 - val_loss: 0.4084 - val_accuracy: 0.0000e+00\n",
      "Epoch 9/800\n",
      "80/80 [==============================] - 0s 165us/step - loss: 0.5123 - accuracy: 0.0000e+00 - val_loss: 0.4050 - val_accuracy: 0.0000e+00\n",
      "Epoch 10/800\n",
      "80/80 [==============================] - 0s 174us/step - loss: 0.5088 - accuracy: 0.0000e+00 - val_loss: 0.4015 - val_accuracy: 0.0000e+00\n",
      "Epoch 11/800\n",
      "80/80 [==============================] - 0s 164us/step - loss: 0.5052 - accuracy: 0.0000e+00 - val_loss: 0.3980 - val_accuracy: 0.0000e+00\n",
      "Epoch 12/800\n",
      "80/80 [==============================] - 0s 175us/step - loss: 0.5016 - accuracy: 0.0000e+00 - val_loss: 0.3944 - val_accuracy: 0.0000e+00\n",
      "Epoch 13/800\n",
      "80/80 [==============================] - 0s 176us/step - loss: 0.4979 - accuracy: 0.0000e+00 - val_loss: 0.3907 - val_accuracy: 0.0000e+00\n",
      "Epoch 14/800\n",
      "80/80 [==============================] - 0s 168us/step - loss: 0.4941 - accuracy: 0.0000e+00 - val_loss: 0.3869 - val_accuracy: 0.0000e+00\n",
      "Epoch 15/800\n",
      "80/80 [==============================] - 0s 170us/step - loss: 0.4902 - accuracy: 0.0000e+00 - val_loss: 0.3830 - val_accuracy: 0.0000e+00\n",
      "Epoch 16/800\n",
      "80/80 [==============================] - 0s 185us/step - loss: 0.4862 - accuracy: 0.0000e+00 - val_loss: 0.3790 - val_accuracy: 0.0000e+00\n",
      "Epoch 17/800\n",
      "80/80 [==============================] - 0s 210us/step - loss: 0.4821 - accuracy: 0.0000e+00 - val_loss: 0.3749 - val_accuracy: 0.0000e+00\n",
      "Epoch 18/800\n",
      "80/80 [==============================] - 0s 170us/step - loss: 0.4779 - accuracy: 0.0000e+00 - val_loss: 0.3707 - val_accuracy: 0.0000e+00\n",
      "Epoch 19/800\n",
      "80/80 [==============================] - 0s 170us/step - loss: 0.4737 - accuracy: 0.0000e+00 - val_loss: 0.3665 - val_accuracy: 0.0000e+00\n",
      "Epoch 20/800\n",
      "80/80 [==============================] - 0s 167us/step - loss: 0.4694 - accuracy: 0.0000e+00 - val_loss: 0.3621 - val_accuracy: 0.0000e+00\n",
      "Epoch 21/800\n",
      "80/80 [==============================] - 0s 219us/step - loss: 0.4652 - accuracy: 0.0000e+00 - val_loss: 0.3576 - val_accuracy: 0.0000e+00\n",
      "Epoch 22/800\n",
      "80/80 [==============================] - 0s 188us/step - loss: 0.4608 - accuracy: 0.0000e+00 - val_loss: 0.3532 - val_accuracy: 0.0000e+00\n",
      "Epoch 23/800\n",
      "80/80 [==============================] - 0s 180us/step - loss: 0.4563 - accuracy: 0.0000e+00 - val_loss: 0.3490 - val_accuracy: 0.0000e+00\n",
      "Epoch 24/800\n",
      "80/80 [==============================] - 0s 189us/step - loss: 0.4517 - accuracy: 0.0000e+00 - val_loss: 0.3447 - val_accuracy: 0.0000e+00\n",
      "Epoch 25/800\n",
      "80/80 [==============================] - 0s 208us/step - loss: 0.4472 - accuracy: 0.0000e+00 - val_loss: 0.3402 - val_accuracy: 0.0000e+00\n",
      "Epoch 26/800\n",
      "32/80 [===========>..................] - ETA: 0s - loss: 0.4568 - accuracy: 0.0000e+00"
     ]
    }
   ],
   "source": [
    "history = model.fit(x_train, y_train, epochs=800, validation_data=(x_test,y_test))"
   ]
  },
  {
   "cell_type": "code",
   "execution_count": null,
   "metadata": {},
   "outputs": [],
   "source": [
    "results = model.predict(x_test)"
   ]
  },
  {
   "cell_type": "code",
   "execution_count": null,
   "metadata": {},
   "outputs": [],
   "source": [
    "plt.scatter(range(20), results, c='r')\n",
    "plt.scatter(range(20), y_test, c='g')"
   ]
  },
  {
   "cell_type": "code",
   "execution_count": null,
   "metadata": {},
   "outputs": [],
   "source": [
    "plt.plot(history.history['loss'])\n",
    "plt.show()"
   ]
  },
  {
   "cell_type": "code",
   "execution_count": null,
   "metadata": {},
   "outputs": [],
   "source": []
  }
 ],
 "metadata": {
  "kernelspec": {
   "display_name": "Python 3",
   "language": "python",
   "name": "python3"
  },
  "language_info": {
   "codemirror_mode": {
    "name": "ipython",
    "version": 3
   },
   "file_extension": ".py",
   "mimetype": "text/x-python",
   "name": "python",
   "nbconvert_exporter": "python",
   "pygments_lexer": "ipython3",
   "version": "3.7.6"
  }
 },
 "nbformat": 4,
 "nbformat_minor": 4
}
