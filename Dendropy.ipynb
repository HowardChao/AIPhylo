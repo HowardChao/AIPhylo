{
 "cells": [
  {
   "cell_type": "code",
   "execution_count": 87,
   "metadata": {},
   "outputs": [],
   "source": [
    "import dendropy\n",
    "from dendropy.calculate import treecompare\n",
    "import random\n",
    "import sys"
   ]
  },
  {
   "cell_type": "code",
   "execution_count": 88,
   "metadata": {},
   "outputs": [],
   "source": [
    "sys.path.append(\"./AIPhylo\")"
   ]
  },
  {
   "cell_type": "code",
   "execution_count": 89,
   "metadata": {},
   "outputs": [],
   "source": [
    "import Bandelt_Encode_Decode.Bandelt_Node as BN"
   ]
  },
  {
   "cell_type": "code",
   "execution_count": 110,
   "metadata": {},
   "outputs": [
    {
     "name": "stderr",
     "output_type": "stream",
     "text": [
      "/home/howard/miniconda3/lib/python3.7/site-packages/ipykernel_launcher.py:1: CriticalDeprecationWarning: Deprecated since DendroPy 4: 'TaxonSet' will no longer be supported in future releases; use 'TaxonNamespace' instead\n",
      "  \"\"\"Entry point for launching an IPython kernel.\n"
     ]
    }
   ],
   "source": [
    "taxon_namespace = dendropy.TaxonSet()\n",
    "# tree1 = dendropy.Tree.get(path=\"./test_tree.nwk\", schema=\"newick\", taxon_set=taxon_namespace)\n",
    "tree1 = dendropy.Tree.get(path=\"./AIPhylo/PhyloTree_Read/mytree.nwk\", schema=\"newick\", taxon_set=taxon_namespace, rooting='force-rooted')\n"
   ]
  },
  {
   "cell_type": "markdown",
   "metadata": {},
   "source": [
    "(Andex_insignis:0.88489,((Canthyporus_hottentotus:1.43450,((((((((((Heterosternusa_pulcher:2.14201,Hydroporus_fortis:0.02166):0.65409,Hydroporus_axillaris:0.63198):0.00000,((Hydroporus_neglectus:1.07853,Hydroporus_scalesianus:0.83301):0.15218,((Neoporus_arizonicus:1.27684,Neoporus_undulatus:1.01511):0.25633,(Suphrodytes_dorsalis:0.56179,Suphrodytes_figuratus:0.21590):0.40226):0.31090):0.30229):0.04464,(((Hydroporus_appalachius:0.20023,Hydroporus_mannerheimi:0.12852):0.17270,Sanfilippodytes_terminalis:0.91664):0.20285,((((Hydroporus_carri:0.01594,Hydroporus_longiusculus:0.00000):0.48684,Hydroporus_nigellus:0.37304):0.15924,(Hydroporus_lapponum:0.12649,Hydroporus_submuticus:0.05930):0.29198):0.18409,(((Hydroporus_erythrocephalus:0.56960,Hydroporus_obscurus:0.47038):0.35433,Hydroporus_rufifrons:0.54930):0.00087,(Hydroporus_niger:0.28072,Hydroporus_notabilis:0.38240):0.44650):0.12585):0.08013):0.07883):0.10353,Hydrocolus_sahlbergi:1.08298):0.08342,((Hydroporus_sinuatipes:0.08032,Hydroporus_tristis:0.35177):0.35289,Hydroporus_vagepictus:0.33153):0.19816):0.13062,Hydroporus_puberulus:0.98432):0.03671,(Hydroporus_kraatzii:0.46285,Hydroporus_memnonius:0.41284):0.44021):0.12842,(((Hydroporus_nigrita:0.41476,Hydroporus_pubescens:0.60549):0.14125,Hydroporus_pilosus:0.56165):0.00017,Hydroporus_tessellatus:0.60630):0.15117):0.16789,Laccornellus_copelatoides:0.95647):0.04894):0.32400,Hyphydrus_ovatus:1.41331):0.06764,Hovahydrus_minutissimus:1.24682):0.00000;"
   ]
  },
  {
   "cell_type": "code",
   "execution_count": 111,
   "metadata": {},
   "outputs": [],
   "source": [
    "encode_dict = {}\n",
    "decode_dict = {}\n",
    "for idx, lves in enumerate(tree1.leaf_nodes()):\n",
    "    encode_dict[lves.taxon.label] = idx\n",
    "    decode_dict[idx] = lves.taxon.label"
   ]
  },
  {
   "cell_type": "code",
   "execution_count": 120,
   "metadata": {},
   "outputs": [
    {
     "data": {
      "text/plain": [
       "True"
      ]
     },
     "execution_count": 120,
     "metadata": {},
     "output_type": "execute_result"
    }
   ],
   "source": [
    "tree1.is_rooted"
   ]
  },
  {
   "cell_type": "code",
   "execution_count": 113,
   "metadata": {},
   "outputs": [],
   "source": [
    "# def process_node(node, start=1.0):\n",
    "#     if node.parent_node is None:\n",
    "#         node.value = start\n",
    "#     else:\n",
    "#         node.value = random.gauss(node.parent_node.value, node.edge.length)\n",
    "# #     print(\"len(node.child_nodes()): \", len(node.child_nodes())) \n",
    "# #     if len(node.child_nodes()) == 0:\n",
    "# #         print(\"This is the terminal node!\")\n",
    "\n",
    "# #     parent_node = Bandelt_Node(int(mapping_dic_dic))\n",
    "# #     print(node.value)\n",
    "    \n",
    "#     for child in node.child_nodes():\n",
    "#         process_node(child)\n",
    "#     if node.taxon is not None:\n",
    "# #         mapping_dic_dic[node.taxon] = \n",
    "#         print(\"%s : %s\" % (node.taxon, node.value))"
   ]
  },
  {
   "cell_type": "code",
   "execution_count": 114,
   "metadata": {},
   "outputs": [],
   "source": [
    "def process_node(parent_node, start=1.0):\n",
    "#     if node.parent_node is None:\n",
    "#         node.value = start\n",
    "#     else:\n",
    "#         node.value = 1\n",
    "    \n",
    "    for idx, child in enumerate(node.child_nodes()):\n",
    "        if node.taxon is not None:\n",
    "            child_node = BN.Bandelt_Node(encode_dict[node.taxon.label])\n",
    "#             print(\"%s : %s\" % (node.taxon, node.value))\n",
    "        else:\n",
    "            child_node = BN.Bandelt_Node(-100) \n",
    "        if idx == 0:\n",
    "            parent_node.left = child_node\n",
    "            child_node.parent = parent_node\n",
    "        elif idx == 1:\n",
    "            parent_node.right = child_node\n",
    "            child_node.parent = parent_node\n",
    "        process_node(child_node)"
   ]
  },
  {
   "cell_type": "code",
   "execution_count": 115,
   "metadata": {},
   "outputs": [],
   "source": [
    "root_node = BN.Bandelt_Node(sys.maxsize)"
   ]
  },
  {
   "cell_type": "code",
   "execution_count": 116,
   "metadata": {},
   "outputs": [
    {
     "name": "stdout",
     "output_type": "stream",
     "text": [
      "Current Value:  9223372036854775807 ; Parent:  None ; left:  None ; right:  None\n"
     ]
    }
   ],
   "source": [
    "root_node.print_details()"
   ]
  },
  {
   "cell_type": "code",
   "execution_count": 117,
   "metadata": {
    "scrolled": false
   },
   "outputs": [
    {
     "ename": "NameError",
     "evalue": "name 'node' is not defined",
     "output_type": "error",
     "traceback": [
      "\u001b[0;31m---------------------------------------------------------------------------\u001b[0m",
      "\u001b[0;31mNameError\u001b[0m                                 Traceback (most recent call last)",
      "\u001b[0;32m<ipython-input-117-643a76e34f35>\u001b[0m in \u001b[0;36m<module>\u001b[0;34m\u001b[0m\n\u001b[0;32m----> 1\u001b[0;31m \u001b[0mprocess_node\u001b[0m\u001b[0;34m(\u001b[0m\u001b[0mtree1\u001b[0m\u001b[0;34m.\u001b[0m\u001b[0mseed_node\u001b[0m\u001b[0;34m)\u001b[0m\u001b[0;34m\u001b[0m\u001b[0;34m\u001b[0m\u001b[0m\n\u001b[0m",
      "\u001b[0;32m<ipython-input-114-e970fcb554ee>\u001b[0m in \u001b[0;36mprocess_node\u001b[0;34m(parent_node, start)\u001b[0m\n\u001b[1;32m      5\u001b[0m \u001b[0;31m#         node.value = 1\u001b[0m\u001b[0;34m\u001b[0m\u001b[0;34m\u001b[0m\u001b[0;34m\u001b[0m\u001b[0m\n\u001b[1;32m      6\u001b[0m \u001b[0;34m\u001b[0m\u001b[0m\n\u001b[0;32m----> 7\u001b[0;31m     \u001b[0;32mfor\u001b[0m \u001b[0midx\u001b[0m\u001b[0;34m,\u001b[0m \u001b[0mchild\u001b[0m \u001b[0;32min\u001b[0m \u001b[0menumerate\u001b[0m\u001b[0;34m(\u001b[0m\u001b[0mnode\u001b[0m\u001b[0;34m.\u001b[0m\u001b[0mchild_nodes\u001b[0m\u001b[0;34m(\u001b[0m\u001b[0;34m)\u001b[0m\u001b[0;34m)\u001b[0m\u001b[0;34m:\u001b[0m\u001b[0;34m\u001b[0m\u001b[0;34m\u001b[0m\u001b[0m\n\u001b[0m\u001b[1;32m      8\u001b[0m         \u001b[0;32mif\u001b[0m \u001b[0mnode\u001b[0m\u001b[0;34m.\u001b[0m\u001b[0mtaxon\u001b[0m \u001b[0;32mis\u001b[0m \u001b[0;32mnot\u001b[0m \u001b[0;32mNone\u001b[0m\u001b[0;34m:\u001b[0m\u001b[0;34m\u001b[0m\u001b[0;34m\u001b[0m\u001b[0m\n\u001b[1;32m      9\u001b[0m             \u001b[0mchild_node\u001b[0m \u001b[0;34m=\u001b[0m \u001b[0mBN\u001b[0m\u001b[0;34m.\u001b[0m\u001b[0mBandelt_Node\u001b[0m\u001b[0;34m(\u001b[0m\u001b[0mencode_dict\u001b[0m\u001b[0;34m[\u001b[0m\u001b[0mnode\u001b[0m\u001b[0;34m.\u001b[0m\u001b[0mtaxon\u001b[0m\u001b[0;34m.\u001b[0m\u001b[0mlabel\u001b[0m\u001b[0;34m]\u001b[0m\u001b[0;34m)\u001b[0m\u001b[0;34m\u001b[0m\u001b[0;34m\u001b[0m\u001b[0m\n",
      "\u001b[0;31mNameError\u001b[0m: name 'node' is not defined"
     ]
    }
   ],
   "source": [
    "process_node(tree1.seed_node)"
   ]
  },
  {
   "cell_type": "code",
   "execution_count": 118,
   "metadata": {},
   "outputs": [
    {
     "data": {
      "text/plain": [
       "<Tree object at 0x7fdef7881d90>"
      ]
     },
     "execution_count": 118,
     "metadata": {},
     "output_type": "execute_result"
    }
   ],
   "source": [
    "tree1"
   ]
  },
  {
   "cell_type": "code",
   "execution_count": 119,
   "metadata": {
    "scrolled": false
   },
   "outputs": [
    {
     "name": "stdout",
     "output_type": "stream",
     "text": [
      "/----------------------------------------------------------------------------------------------------- Andex insignis            \n",
      "|                                                                                                                                \n",
      "|            /---------------------------------------------------------------------------------------- Canthyporus hottentotus   \n",
      "|            |                                                                                                                   \n",
      "|            |                                                                                 /------ Heterosternusa pulcher    \n",
      "|            |                                                                          /------+                                 \n",
      "|            |                                                            /-------------+      \\------ Hydroporus fortis         \n",
      "|            |                                                            |             |                                        \n",
      "|            |                                                            |             \\------------- Hydroporus axillaris      \n",
      "|            |                                                            |                                                      \n",
      "|            |                                               /------------+                    /------ Hydroporus neglectus      \n",
      "|            |                                               |            |      /-------------+                                 \n",
      "|            |                                               |            |      |             \\------ Hydroporus scalesianus    \n",
      "|            |                                               |            |      |                                               \n",
      "|            |                                               |            \\------+             /------ Neoporus arizonicus       \n",
      "|            |                                               |                   |      /------+                                 \n",
      "|            |                                               |                   |      |      \\------ Neoporus undulatus        \n",
      "|            |                                               |                   \\------+                                        \n",
      "|            |                                               |                          |      /------ Suphrodytes dorsalis      \n",
      "|            |                                               |                          \\------+                                 \n",
      "|            |                                        /------+                                 \\------ Suphrodytes figuratus     \n",
      "|            |                                        |      |                                                                   \n",
      "|            |                                        |      |                                 /------ Hydroporus appalachius    \n",
      "|            |                                        |      |                          /------+                                 \n",
      "|            |                                        |      |      /-------------------+      \\------ Hydroporus mannerheimi    \n",
      "|            |                                        |      |      |                   |                                        \n",
      "|            |                                        |      |      |                   \\------------- Sanfilippodytes terminalis\n",
      "|            |                                        |      |      |                                                            \n",
      "|            |                                        |      |      |                          /------ Hydroporus carri          \n",
      "|            |                                        |      |      |                   /------+                                 \n",
      "|            |                                        |      \\------+            /------+      \\------ Hydroporus longiusculus   \n",
      "|            |                                        |             |            |      |                                        \n",
      "|            |                                        |             |     /------+      \\------------- Hydroporus nigellus       \n",
      "|     /------+                                        |             |     |      |                                               \n",
      "|     |      |                                 /------+             |     |      |             /------ Hydroporus lapponum       \n",
      "|     |      |                                 |      |             |     |      \\-------------+                                 \n",
      "|     |      |                                 |      |             |     |                    \\------ Hydroporus submuticus     \n",
      "+     |      |                                 |      |             \\-----+                                                      \n",
      "|     |      |                                 |      |                   |                    /------ Hydroporus erythrocephalus\n",
      "|     |      |                                 |      |                   |             /------+                                 \n",
      "|     |      |                                 |      |                   |      /------+      \\------ Hydroporus obscurus       \n",
      "|     |      |                                 |      |                   |      |      |                                        \n",
      "|     |      |                                 |      |                   \\------+      \\------------- Hydroporus rufifrons      \n",
      "|     |      |                          /------+      |                          |                                               \n",
      "|     |      |                          |      |      |                          |             /------ Hydroporus niger          \n",
      "|     |      |                          |      |      |                          \\-------------+                                 \n",
      "|     |      |                          |      |      |                                        \\------ Hydroporus notabilis      \n",
      "|     |      |                          |      |      |                                                                          \n",
      "|     |      |                          |      |      \\----------------------------------------------- Hydrocolus sahlbergi      \n",
      "|     |      |                    /-----+      |                                                                                 \n",
      "|     |      |                    |     |      |                                               /------ Hydroporus sinuatipes     \n",
      "|     |      |                    |     |      |                                        /------+                                 \n",
      "|-----+      |                    |     |      \\----------------------------------------+      \\------ Hydroporus tristis        \n",
      "|     |      |                    |     |                                               |                                        \n",
      "|     |      |             /------+     |                                               \\------------- Hydroporus vagepictus     \n",
      "|     |      |             |      |     |                                                                                        \n",
      "|     |      |             |      |     \\------------------------------------------------------------- Hydroporus puberulus      \n",
      "|     |      |             |      |                                                                                              \n",
      "|     |      |             |      |                                                            /------ Hydroporus kraatzii       \n",
      "|     |      |             |      \\------------------------------------------------------------+                                 \n",
      "|     |      |      /------+                                                                   \\------ Hydroporus memnonius      \n",
      "|     |      |      |      |                                                                                                     \n",
      "|     |      |      |      |                                                                   /------ Hydroporus nigrita        \n",
      "|     |      |      |      |                                                            /------+                                 \n",
      "|     |      |      |      |                                                     /------+      \\------ Hydroporus pubescens      \n",
      "|     |      \\------+      |                                                     |      |                                        \n",
      "|     |             |      \\-----------------------------------------------------+      \\------------- Hydroporus pilosus        \n",
      "|     |             |                                                            |                                               \n",
      "|     |             |                                                            \\-------------------- Hydroporus tessellatus    \n",
      "|     |             |                                                                                                            \n",
      "|     |             \\--------------------------------------------------------------------------------- Laccornellus copelatoides \n",
      "|     |                                                                                                                          \n",
      "|     \\----------------------------------------------------------------------------------------------- Hyphydrus ovatus          \n",
      "|                                                                                                                                \n",
      "\\----------------------------------------------------------------------------------------------------- Hovahydrus minutissimus   \n",
      "                                                                                                                                 \n",
      "                                                                                                                                 \n"
     ]
    }
   ],
   "source": [
    "s = tree1.as_ascii_plot()\n",
    "print(s)"
   ]
  },
  {
   "cell_type": "code",
   "execution_count": null,
   "metadata": {},
   "outputs": [],
   "source": []
  }
 ],
 "metadata": {
  "kernelspec": {
   "display_name": "Python 3",
   "language": "python",
   "name": "python3"
  },
  "language_info": {
   "codemirror_mode": {
    "name": "ipython",
    "version": 3
   },
   "file_extension": ".py",
   "mimetype": "text/x-python",
   "name": "python",
   "nbconvert_exporter": "python",
   "pygments_lexer": "ipython3",
   "version": "3.7.4"
  }
 },
 "nbformat": 4,
 "nbformat_minor": 4
}
