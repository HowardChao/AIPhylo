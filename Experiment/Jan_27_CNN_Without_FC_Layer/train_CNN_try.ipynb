{
 "cells": [
  {
   "cell_type": "code",
   "execution_count": 1,
   "metadata": {},
   "outputs": [
    {
     "name": "stderr",
     "output_type": "stream",
     "text": [
      "Using TensorFlow backend.\n"
     ]
    }
   ],
   "source": [
    "import numpy as np\n",
    "import keras\n",
    "from keras.models import Sequential\n",
    "from keras.layers import Dense, Activation, Dropout, Flatten, Conv2D, MaxPooling2D, ZeroPadding2D\n",
    "from keras.layers.normalization import BatchNormalization\n",
    "from PIL import Image\n",
    "import random\n",
    "import math\n",
    "import matplotlib.pyplot as plt"
   ]
  },
  {
   "cell_type": "code",
   "execution_count": 2,
   "metadata": {},
   "outputs": [],
   "source": [
    "training_data = np.load('./output/training_data.npy')\n",
    "training_labels = np.load('./output/training_dists.npy')\n",
    "\n",
    "#pad the training data matrix so it is 100x1024\n",
    "\n",
    "#(500, 100, 1000, 1)\n",
    "\n",
    "zero_padding_array = np.zeros((500,75,200,1))"
   ]
  },
  {
   "cell_type": "code",
   "execution_count": 3,
   "metadata": {},
   "outputs": [
    {
     "data": {
      "text/plain": [
       "(500, 75, 1000, 1)"
      ]
     },
     "execution_count": 3,
     "metadata": {},
     "output_type": "execute_result"
    }
   ],
   "source": [
    "training_data.shape"
   ]
  },
  {
   "cell_type": "code",
   "execution_count": 4,
   "metadata": {},
   "outputs": [
    {
     "data": {
      "text/plain": [
       "(500, 75, 75, 1)"
      ]
     },
     "execution_count": 4,
     "metadata": {},
     "output_type": "execute_result"
    }
   ],
   "source": [
    "training_labels.shape"
   ]
  },
  {
   "cell_type": "code",
   "execution_count": 5,
   "metadata": {},
   "outputs": [
    {
     "data": {
      "text/plain": [
       "(500, 75, 200, 1)"
      ]
     },
     "execution_count": 5,
     "metadata": {},
     "output_type": "execute_result"
    }
   ],
   "source": [
    "zero_padding_array.shape"
   ]
  },
  {
   "cell_type": "code",
   "execution_count": 6,
   "metadata": {},
   "outputs": [
    {
     "name": "stdout",
     "output_type": "stream",
     "text": [
      "(500, 75, 1000, 1)\n",
      "(500, 75, 1200, 1)\n",
      "(500, 75, 75, 1)\n",
      "train_size:  425\n",
      "samples_count:  500\n",
      "X_train.shape :  (425, 75, 1200, 1)\n",
      "X_test.shape :  (75, 75, 1200, 1)\n",
      "Y_train.shape :  (425, 75, 75, 1)\n",
      "Y_test.shape :  (75, 75, 75, 1)\n"
     ]
    }
   ],
   "source": [
    "print(training_data.shape)\n",
    "training_data = np.concatenate([training_data, zero_padding_array], axis=2)\n",
    "print(training_data.shape)\n",
    "\n",
    "print(training_labels.shape)\n",
    "\n",
    "samples_count = training_data.shape[0]\n",
    "\n",
    "train_size = math.floor(0.85*training_data.shape[0])\n",
    "\n",
    "shuffle_indices = random.sample(range(0, samples_count), samples_count)\n",
    "\n",
    "print('train_size: ', train_size)\n",
    "print('samples_count: ', samples_count)\n",
    "indices_train = shuffle_indices[0:train_size]\n",
    "indices_test = shuffle_indices[train_size:samples_count]\n",
    "\n",
    "X_train = training_data[indices_train,:]\n",
    "Y_train = training_labels[indices_train]\n",
    "\n",
    "X_test = training_data[indices_test,:]\n",
    "Y_test = training_labels[indices_test]\n",
    "\n",
    "print('X_train.shape : ', X_train.shape)\n",
    "print('X_test.shape : ', X_test.shape)\n",
    "\n",
    "print('Y_train.shape : ', Y_train.shape)\n",
    "print('Y_test.shape : ', Y_test.shape)\n",
    "\n",
    "np.save('./output/X_test.npy', X_test)\n",
    "np.save('./output/Y_test.npy', Y_test)"
   ]
  },
  {
   "cell_type": "code",
   "execution_count": 7,
   "metadata": {},
   "outputs": [],
   "source": [
    "model = Sequential()\n",
    "\n",
    "# Layer 1\n",
    "model.add(Conv2D(64, input_shape=(75,1200,1), kernel_size=(2,1), strides=(1,1), padding='same'))\n",
    "#model.add(Conv2D(48, input_shape=(400,11,1), kernel_size=(2,2), strides=(1,1), padding='same'))\n",
    "model.add(BatchNormalization())\n",
    "model.add(Activation('relu'))\n",
    "model.add(MaxPooling2D(pool_size=(1, 2)))\n",
    "\n",
    "# Layer 2\n",
    "model.add(Conv2D(32, (2, 1), padding='same'))\n",
    "model.add(BatchNormalization())\n",
    "model.add(Activation('relu'))\n",
    "model.add(MaxPooling2D(pool_size=(1, 2)))\n",
    "\n",
    "# Layer 3\n",
    "model.add(Conv2D(16, (2, 1), padding='same'))\n",
    "model.add(BatchNormalization())\n",
    "model.add(Activation('relu'))\n",
    "model.add(MaxPooling2D(pool_size=(1, 2)))\n",
    "\n",
    "# Layer 4\n",
    "model.add(Conv2D(1, (2, 1), padding='same'))\n",
    "model.add(BatchNormalization())\n",
    "model.add(Activation('relu'))\n",
    "model.add(MaxPooling2D(pool_size=(1, 2)))"
   ]
  },
  {
   "cell_type": "code",
   "execution_count": 8,
   "metadata": {},
   "outputs": [
    {
     "name": "stdout",
     "output_type": "stream",
     "text": [
      "Model: \"sequential_1\"\n",
      "_________________________________________________________________\n",
      "Layer (type)                 Output Shape              Param #   \n",
      "=================================================================\n",
      "conv2d_1 (Conv2D)            (None, 75, 1200, 64)      192       \n",
      "_________________________________________________________________\n",
      "batch_normalization_1 (Batch (None, 75, 1200, 64)      256       \n",
      "_________________________________________________________________\n",
      "activation_1 (Activation)    (None, 75, 1200, 64)      0         \n",
      "_________________________________________________________________\n",
      "max_pooling2d_1 (MaxPooling2 (None, 75, 600, 64)       0         \n",
      "_________________________________________________________________\n",
      "conv2d_2 (Conv2D)            (None, 75, 600, 32)       4128      \n",
      "_________________________________________________________________\n",
      "batch_normalization_2 (Batch (None, 75, 600, 32)       128       \n",
      "_________________________________________________________________\n",
      "activation_2 (Activation)    (None, 75, 600, 32)       0         \n",
      "_________________________________________________________________\n",
      "max_pooling2d_2 (MaxPooling2 (None, 75, 300, 32)       0         \n",
      "_________________________________________________________________\n",
      "conv2d_3 (Conv2D)            (None, 75, 300, 16)       1040      \n",
      "_________________________________________________________________\n",
      "batch_normalization_3 (Batch (None, 75, 300, 16)       64        \n",
      "_________________________________________________________________\n",
      "activation_3 (Activation)    (None, 75, 300, 16)       0         \n",
      "_________________________________________________________________\n",
      "max_pooling2d_3 (MaxPooling2 (None, 75, 150, 16)       0         \n",
      "_________________________________________________________________\n",
      "conv2d_4 (Conv2D)            (None, 75, 150, 1)        33        \n",
      "_________________________________________________________________\n",
      "batch_normalization_4 (Batch (None, 75, 150, 1)        4         \n",
      "_________________________________________________________________\n",
      "activation_4 (Activation)    (None, 75, 150, 1)        0         \n",
      "_________________________________________________________________\n",
      "max_pooling2d_4 (MaxPooling2 (None, 75, 75, 1)         0         \n",
      "=================================================================\n",
      "Total params: 5,845\n",
      "Trainable params: 5,619\n",
      "Non-trainable params: 226\n",
      "_________________________________________________________________\n"
     ]
    }
   ],
   "source": [
    "model.summary()"
   ]
  },
  {
   "cell_type": "code",
   "execution_count": 9,
   "metadata": {},
   "outputs": [],
   "source": [
    "# (4) Compile \n",
    "#model.compile(loss='mse', optimizer='adam', metrics=['accuracy'])\n",
    "model.compile(loss='mse', optimizer='adam', metrics=['accuracy'])"
   ]
  },
  {
   "cell_type": "code",
   "execution_count": 10,
   "metadata": {},
   "outputs": [
    {
     "name": "stdout",
     "output_type": "stream",
     "text": [
      "Train on 425 samples, validate on 75 samples\n",
      "Epoch 1/30\n",
      "425/425 [==============================] - 57s 134ms/step - loss: 1.2030 - accuracy: 0.3740 - val_loss: 0.4705 - val_accuracy: 0.3522\n",
      "Epoch 2/30\n",
      "425/425 [==============================] - 56s 133ms/step - loss: 1.1184 - accuracy: 0.3740 - val_loss: 0.4735 - val_accuracy: 0.3522\n",
      "Epoch 3/30\n",
      "425/425 [==============================] - 56s 133ms/step - loss: 1.0557 - accuracy: 0.3708 - val_loss: 0.4720 - val_accuracy: 0.3522\n",
      "Epoch 4/30\n",
      "425/425 [==============================] - 57s 133ms/step - loss: 0.7417 - accuracy: 0.3642 - val_loss: 0.4795 - val_accuracy: 0.3522\n",
      "Epoch 5/30\n",
      "425/425 [==============================] - 56s 133ms/step - loss: 0.5133 - accuracy: 0.3764 - val_loss: 0.4778 - val_accuracy: 0.3522\n",
      "Epoch 6/30\n",
      "425/425 [==============================] - 57s 133ms/step - loss: 0.5077 - accuracy: 0.3764 - val_loss: 0.4675 - val_accuracy: 0.3522\n",
      "Epoch 7/30\n",
      "425/425 [==============================] - 57s 133ms/step - loss: 0.5046 - accuracy: 0.3764 - val_loss: 0.4631 - val_accuracy: 0.3522\n",
      "Epoch 8/30\n",
      "425/425 [==============================] - 57s 133ms/step - loss: 0.5028 - accuracy: 0.3764 - val_loss: 0.4593 - val_accuracy: 0.3522\n",
      "Epoch 9/30\n",
      "425/425 [==============================] - 56s 133ms/step - loss: 0.5012 - accuracy: 0.3764 - val_loss: 0.4540 - val_accuracy: 0.3522\n",
      "Epoch 10/30\n",
      "425/425 [==============================] - 57s 133ms/step - loss: 0.4998 - accuracy: 0.3764 - val_loss: 0.4177 - val_accuracy: 0.3522\n",
      "Epoch 11/30\n",
      "425/425 [==============================] - 57s 133ms/step - loss: 0.4985 - accuracy: 0.3764 - val_loss: 0.3957 - val_accuracy: 0.3521\n",
      "Epoch 12/30\n",
      "425/425 [==============================] - 57s 133ms/step - loss: 0.4979 - accuracy: 0.3764 - val_loss: 0.4145 - val_accuracy: 0.3521\n",
      "Epoch 13/30\n",
      "425/425 [==============================] - 57s 133ms/step - loss: 0.4977 - accuracy: 0.3764 - val_loss: 0.3859 - val_accuracy: 0.3520\n",
      "Epoch 14/30\n",
      "425/425 [==============================] - 57s 133ms/step - loss: 0.4970 - accuracy: 0.3764 - val_loss: 0.4700 - val_accuracy: 0.3521\n",
      "Epoch 15/30\n",
      "425/425 [==============================] - 57s 133ms/step - loss: 0.4972 - accuracy: 0.3764 - val_loss: 0.4758 - val_accuracy: 0.3522\n",
      "Epoch 16/30\n",
      "425/425 [==============================] - 57s 133ms/step - loss: 0.4974 - accuracy: 0.3764 - val_loss: 0.4764 - val_accuracy: 0.3521\n",
      "Epoch 17/30\n",
      "425/425 [==============================] - 57s 133ms/step - loss: 0.4970 - accuracy: 0.3764 - val_loss: 0.4786 - val_accuracy: 0.3522\n",
      "Epoch 18/30\n",
      "425/425 [==============================] - 57s 133ms/step - loss: 0.4976 - accuracy: 0.3764 - val_loss: 0.4796 - val_accuracy: 0.3522\n",
      "Epoch 19/30\n",
      "425/425 [==============================] - 56s 133ms/step - loss: 0.4971 - accuracy: 0.3764 - val_loss: 0.4792 - val_accuracy: 0.3522\n",
      "Epoch 20/30\n",
      "425/425 [==============================] - 56s 133ms/step - loss: 0.4961 - accuracy: 0.3764 - val_loss: 0.4769 - val_accuracy: 0.3521\n",
      "Epoch 21/30\n",
      "425/425 [==============================] - 57s 133ms/step - loss: 0.4956 - accuracy: 0.3763 - val_loss: 0.3617 - val_accuracy: 0.3520\n",
      "Epoch 22/30\n",
      "425/425 [==============================] - 57s 133ms/step - loss: 0.4948 - accuracy: 0.3763 - val_loss: 0.4047 - val_accuracy: 0.0403\n",
      "Epoch 23/30\n",
      "425/425 [==============================] - 57s 133ms/step - loss: 0.4888 - accuracy: 0.3760 - val_loss: 0.3592 - val_accuracy: 0.3518\n",
      "Epoch 24/30\n",
      "425/425 [==============================] - 57s 133ms/step - loss: 0.4784 - accuracy: 0.3757 - val_loss: 0.3784 - val_accuracy: 0.3521\n",
      "Epoch 25/30\n",
      "425/425 [==============================] - 57s 133ms/step - loss: 0.4696 - accuracy: 0.3756 - val_loss: 0.3491 - val_accuracy: 0.3504\n",
      "Epoch 26/30\n",
      "425/425 [==============================] - 56s 133ms/step - loss: 0.4733 - accuracy: 0.3755 - val_loss: 0.3807 - val_accuracy: 0.0391\n",
      "Epoch 27/30\n",
      "425/425 [==============================] - 57s 133ms/step - loss: 0.4631 - accuracy: 0.3753 - val_loss: 0.3709 - val_accuracy: 0.0393\n",
      "Epoch 28/30\n",
      "425/425 [==============================] - 56s 133ms/step - loss: 0.4593 - accuracy: 0.3750 - val_loss: 0.4109 - val_accuracy: 0.0391\n",
      "Epoch 29/30\n",
      "425/425 [==============================] - 56s 133ms/step - loss: 0.4566 - accuracy: 0.3750 - val_loss: 0.4849 - val_accuracy: 0.0391\n",
      "Epoch 30/30\n",
      "425/425 [==============================] - 57s 133ms/step - loss: 0.4543 - accuracy: 0.3746 - val_loss: 0.3821 - val_accuracy: 0.0391\n"
     ]
    }
   ],
   "source": [
    "# (5) Train\n",
    "history = model.fit(X_train, Y_train, validation_data=(X_test, Y_test), batch_size=16, epochs=30, verbose=1)\n",
    "\n",
    "model.save('./output/CNN_model_03.h5')"
   ]
  },
  {
   "cell_type": "code",
   "execution_count": 11,
   "metadata": {},
   "outputs": [
    {
     "name": "stdout",
     "output_type": "stream",
     "text": [
      "425/425 [==============================] - 16s 39ms/step\n",
      "75/75 [==============================] - 3s 38ms/step\n"
     ]
    }
   ],
   "source": [
    "training_result = model.evaluate(X_train, Y_train)\n",
    "testing_result = model.evaluate(X_test, Y_test)"
   ]
  },
  {
   "cell_type": "code",
   "execution_count": 12,
   "metadata": {},
   "outputs": [
    {
     "name": "stdout",
     "output_type": "stream",
     "text": [
      "Training Acc:  0.039300184696912766\n",
      "Testing Acc:  0.03914429619908333\n"
     ]
    }
   ],
   "source": [
    "print('Training Acc: ', training_result[1])\n",
    "print('Testing Acc: ', testing_result[1])"
   ]
  },
  {
   "cell_type": "markdown",
   "metadata": {},
   "source": [
    "## Load Model"
   ]
  },
  {
   "cell_type": "code",
   "execution_count": 13,
   "metadata": {},
   "outputs": [],
   "source": [
    "model = keras.models.load_model('./output/CNN_model_03.h5')"
   ]
  },
  {
   "cell_type": "markdown",
   "metadata": {},
   "source": [
    "## X_train plot"
   ]
  },
  {
   "cell_type": "code",
   "execution_count": 14,
   "metadata": {},
   "outputs": [],
   "source": [
    "X_train_results = model.predict(X_train)"
   ]
  },
  {
   "cell_type": "code",
   "execution_count": 41,
   "metadata": {},
   "outputs": [],
   "source": [
    "train_show_index_1 = 1\n",
    "train_show_index_2 = 10"
   ]
  },
  {
   "cell_type": "code",
   "execution_count": 42,
   "metadata": {},
   "outputs": [
    {
     "data": {
      "text/plain": [
       "<matplotlib.collections.PathCollection at 0x7f458b1d5cd0>"
      ]
     },
     "execution_count": 42,
     "metadata": {},
     "output_type": "execute_result"
    },
    {
     "data": {
      "image/png": "[encoded data removed]",
      "text/plain": [
       "<Figure size 432x288 with 1 Axes>"
      ]
     },
     "metadata": {
      "needs_background": "light"
     },
     "output_type": "display_data"
    }
   ],
   "source": [
    "plt.scatter(range(X_train_results[train_show_index_1][train_show_index_2].shape[0]), X_train_results[train_show_index_1][train_show_index_2], c='r', s = 2)\n",
    "plt.scatter(range(Y_train[train_show_index_1][train_show_index_2].shape[0]), Y_train[train_show_index_1][train_show_index_2], c='g', s = 2)"
   ]
  },
  {
   "cell_type": "markdown",
   "metadata": {},
   "source": [
    "## X_test plot"
   ]
  },
  {
   "cell_type": "code",
   "execution_count": 17,
   "metadata": {},
   "outputs": [],
   "source": [
    "X_test_results = model.predict(X_test)"
   ]
  },
  {
   "cell_type": "code",
   "execution_count": 18,
   "metadata": {},
   "outputs": [],
   "source": [
    "test_show_index_1 = 0\n",
    "test_show_index_2 = 0"
   ]
  },
  {
   "cell_type": "code",
   "execution_count": 19,
   "metadata": {},
   "outputs": [
    {
     "data": {
      "text/plain": [
       "<matplotlib.collections.PathCollection at 0x7f45a935ad10>"
      ]
     },
     "execution_count": 19,
     "metadata": {},
     "output_type": "execute_result"
    },
    {
     "data": {
      "image/png": "[encoded data removed]",
      "text/plain": [
       "<Figure size 432x288 with 1 Axes>"
      ]
     },
     "metadata": {
      "needs_background": "light"
     },
     "output_type": "display_data"
    }
   ],
   "source": [
    "plt.scatter(range(X_test_results[test_show_index_1][test_show_index_2].shape[0]), X_test_results[test_show_index_1][test_show_index_2], c='r', s = 2)\n",
    "plt.scatter(range(Y_test[test_show_index_1][test_show_index_2].shape[0]), Y_test[test_show_index_1][test_show_index_2], c='g', s = 2)"
   ]
  },
  {
   "cell_type": "code",
   "execution_count": 20,
   "metadata": {},
   "outputs": [
    {
     "data": {
      "image/png": "[encoded data removed]",
      "text/plain": [
       "<Figure size 432x288 with 1 Axes>"
      ]
     },
     "metadata": {
      "needs_background": "light"
     },
     "output_type": "display_data"
    }
   ],
   "source": [
    "plt.plot(history.history['loss'])\n",
    "plt.show()"
   ]
  },
  {
   "cell_type": "code",
   "execution_count": null,
   "metadata": {},
   "outputs": [],
   "source": []
  }
 ],
 "metadata": {
  "kernelspec": {
   "display_name": "Python 3",
   "language": "python",
   "name": "python3"
  },
  "language_info": {
   "codemirror_mode": {
    "name": "ipython",
    "version": 3
   },
   "file_extension": ".py",
   "mimetype": "text/x-python",
   "name": "python",
   "nbconvert_exporter": "python",
   "pygments_lexer": "ipython3",
   "version": "3.7.6"
  }
 },
 "nbformat": 4,
 "nbformat_minor": 2
}
