{
 "cells": [
  {
   "cell_type": "code",
   "execution_count": 1,
   "metadata": {},
   "outputs": [
    {
     "name": "stderr",
     "output_type": "stream",
     "text": [
      "Using TensorFlow backend.\n"
     ]
    }
   ],
   "source": [
    "import numpy as np\n",
    "import keras\n",
    "from keras.models import Sequential\n",
    "from keras.layers import Dense, Activation, Dropout, Flatten, Conv2D, MaxPooling2D, ZeroPadding2D\n",
    "from keras.layers.normalization import BatchNormalization\n",
    "from PIL import Image\n",
    "import random\n",
    "import math\n",
    "import matplotlib.pyplot as plt"
   ]
  },
  {
   "cell_type": "code",
   "execution_count": 2,
   "metadata": {},
   "outputs": [],
   "source": [
    "training_data = np.load('./output/training_data.npy')\n",
    "training_labels = np.load('./output/training_dists.npy')\n",
    "\n",
    "#pad the training data matrix so it is 100x1024\n",
    "\n",
    "#(500, 100, 1000, 1)\n",
    "\n",
    "# zero_padding_array = np.zeros((500,100,600,1))"
   ]
  },
  {
   "cell_type": "code",
   "execution_count": 3,
   "metadata": {},
   "outputs": [
    {
     "data": {
      "text/plain": [
       "(500, 100, 1000, 1)"
      ]
     },
     "execution_count": 3,
     "metadata": {},
     "output_type": "execute_result"
    }
   ],
   "source": [
    "training_data.shape"
   ]
  },
  {
   "cell_type": "code",
   "execution_count": 4,
   "metadata": {},
   "outputs": [
    {
     "data": {
      "text/plain": [
       "(500, 10000)"
      ]
     },
     "execution_count": 4,
     "metadata": {},
     "output_type": "execute_result"
    }
   ],
   "source": [
    "training_labels.shape"
   ]
  },
  {
   "cell_type": "code",
   "execution_count": 5,
   "metadata": {},
   "outputs": [],
   "source": [
    "# zero_padding_array.shape"
   ]
  },
  {
   "cell_type": "code",
   "execution_count": 6,
   "metadata": {},
   "outputs": [
    {
     "name": "stdout",
     "output_type": "stream",
     "text": [
      "(500, 100, 1000, 1)\n",
      "(500, 10000)\n",
      "X_train.shape :  (425, 100, 1000, 1)\n",
      "X_test.shape :  (75, 100, 1000, 1)\n",
      "Y_train.shape :  (425, 10000)\n",
      "Y_test.shape :  (75, 10000)\n"
     ]
    }
   ],
   "source": [
    "# print(training_data.shape)\n",
    "# training_data = np.concatenate([training_data, zero_padding_array], axis=2)\n",
    "print(training_data.shape)\n",
    "\n",
    "print(training_labels.shape)\n",
    "\n",
    "samples_count = training_data.shape[0]\n",
    "\n",
    "train_size = math.floor(0.85*training_data.shape[0])\n",
    "\n",
    "shuffle_indices = random.sample(range(0, samples_count), samples_count)\n",
    "\n",
    "indices_train = shuffle_indices[0:train_size]\n",
    "indices_test = shuffle_indices[train_size:samples_count]\n",
    "\n",
    "X_train = training_data[indices_train,:]\n",
    "Y_train = training_labels[indices_train]\n",
    "\n",
    "X_test = training_data[indices_test,:]\n",
    "Y_test = training_labels[indices_test]\n",
    "\n",
    "print('X_train.shape : ', X_train.shape)\n",
    "print('X_test.shape : ', X_test.shape)\n",
    "\n",
    "print('Y_train.shape : ', Y_train.shape)\n",
    "print('Y_test.shape : ', Y_test.shape)\n",
    "\n",
    "np.save('./output/X_test.npy', X_test)\n",
    "np.save('./output/Y_test.npy', Y_test)"
   ]
  },
  {
   "cell_type": "code",
   "execution_count": 7,
   "metadata": {},
   "outputs": [],
   "source": [
    "model = Sequential()\n",
    "\n",
    "# Layer 1\n",
    "model.add(Conv2D(10, input_shape=X_train.shape[1:], kernel_size=(3,3), strides=(1,1)))\n",
    "#model.add(Conv2D(48, input_shape=(400,11,1), kernel_size=(2,2), strides=(1,1), padding='same'))\n",
    "model.add(BatchNormalization())\n",
    "model.add(Activation('relu'))\n",
    "model.add(MaxPooling2D(pool_size=(2, 2)))\n",
    "\n",
    "# Layer 2\n",
    "model.add(Conv2D(5, (3,3)))\n",
    "model.add(BatchNormalization())\n",
    "model.add(Activation('relu'))\n",
    "model.add(MaxPooling2D(pool_size=(2, 2)))\n",
    "\n",
    "# Layer 3\n",
    "model.add(Conv2D(5, (3,3)))\n",
    "model.add(BatchNormalization())\n",
    "model.add(Activation('relu'))\n",
    "model.add(MaxPooling2D(pool_size=(2, 2)))\n",
    "\n",
    "# Layer 4\n",
    "model.add(Conv2D(1, (3,3)))\n",
    "model.add(BatchNormalization())\n",
    "model.add(Activation('relu'))\n",
    "model.add(MaxPooling2D(pool_size=(2, 2)))\n",
    "\n",
    "# Layer 5\n",
    "model.add(Flatten())\n",
    "model.add(Dense(Y_train.shape[1], activation='relu'))"
   ]
  },
  {
   "cell_type": "code",
   "execution_count": 8,
   "metadata": {},
   "outputs": [
    {
     "name": "stdout",
     "output_type": "stream",
     "text": [
      "Model: \"sequential_1\"\n",
      "_________________________________________________________________\n",
      "Layer (type)                 Output Shape              Param #   \n",
      "=================================================================\n",
      "conv2d_1 (Conv2D)            (None, 98, 998, 10)       100       \n",
      "_________________________________________________________________\n",
      "batch_normalization_1 (Batch (None, 98, 998, 10)       40        \n",
      "_________________________________________________________________\n",
      "activation_1 (Activation)    (None, 98, 998, 10)       0         \n",
      "_________________________________________________________________\n",
      "max_pooling2d_1 (MaxPooling2 (None, 49, 499, 10)       0         \n",
      "_________________________________________________________________\n",
      "conv2d_2 (Conv2D)            (None, 47, 497, 5)        455       \n",
      "_________________________________________________________________\n",
      "batch_normalization_2 (Batch (None, 47, 497, 5)        20        \n",
      "_________________________________________________________________\n",
      "activation_2 (Activation)    (None, 47, 497, 5)        0         \n",
      "_________________________________________________________________\n",
      "max_pooling2d_2 (MaxPooling2 (None, 23, 248, 5)        0         \n",
      "_________________________________________________________________\n",
      "conv2d_3 (Conv2D)            (None, 21, 246, 5)        230       \n",
      "_________________________________________________________________\n",
      "batch_normalization_3 (Batch (None, 21, 246, 5)        20        \n",
      "_________________________________________________________________\n",
      "activation_3 (Activation)    (None, 21, 246, 5)        0         \n",
      "_________________________________________________________________\n",
      "max_pooling2d_3 (MaxPooling2 (None, 10, 123, 5)        0         \n",
      "_________________________________________________________________\n",
      "conv2d_4 (Conv2D)            (None, 8, 121, 1)         46        \n",
      "_________________________________________________________________\n",
      "batch_normalization_4 (Batch (None, 8, 121, 1)         4         \n",
      "_________________________________________________________________\n",
      "activation_4 (Activation)    (None, 8, 121, 1)         0         \n",
      "_________________________________________________________________\n",
      "max_pooling2d_4 (MaxPooling2 (None, 4, 60, 1)          0         \n",
      "_________________________________________________________________\n",
      "flatten_1 (Flatten)          (None, 240)               0         \n",
      "_________________________________________________________________\n",
      "dense_1 (Dense)              (None, 10000)             2410000   \n",
      "=================================================================\n",
      "Total params: 2,410,915\n",
      "Trainable params: 2,410,873\n",
      "Non-trainable params: 42\n",
      "_________________________________________________________________\n"
     ]
    }
   ],
   "source": [
    "model.summary()"
   ]
  },
  {
   "cell_type": "code",
   "execution_count": 9,
   "metadata": {},
   "outputs": [],
   "source": [
    "opt = keras.optimizers.Adam(lr=0.01, decay=1e-5)"
   ]
  },
  {
   "cell_type": "code",
   "execution_count": 10,
   "metadata": {},
   "outputs": [],
   "source": [
    "# (4) Compile \n",
    "#model.compile(loss='mse', optimizer='adam', metrics=['accuracy'])\n",
    "model.compile(loss='mse', optimizer=opt, metrics=['accuracy'])"
   ]
  },
  {
   "cell_type": "code",
   "execution_count": 11,
   "metadata": {},
   "outputs": [
    {
     "name": "stdout",
     "output_type": "stream",
     "text": [
      "Train on 425 samples, validate on 75 samples\n",
      "Epoch 1/30\n",
      "425/425 [==============================] - 12s 29ms/step - loss: 0.3272 - accuracy: 0.0000e+00 - val_loss: 0.2984 - val_accuracy: 0.0000e+00\n",
      "Epoch 2/30\n",
      "425/425 [==============================] - 12s 27ms/step - loss: 0.3081 - accuracy: 0.0000e+00 - val_loss: 0.3023 - val_accuracy: 0.0000e+00\n",
      "Epoch 3/30\n",
      "425/425 [==============================] - 12s 27ms/step - loss: 0.3044 - accuracy: 0.0024 - val_loss: 0.3081 - val_accuracy: 0.0000e+00\n",
      "Epoch 4/30\n",
      "425/425 [==============================] - 12s 28ms/step - loss: 0.3006 - accuracy: 0.0000e+00 - val_loss: 0.3076 - val_accuracy: 0.0000e+00\n",
      "Epoch 5/30\n",
      "425/425 [==============================] - 12s 27ms/step - loss: 0.2983 - accuracy: 0.0000e+00 - val_loss: 0.3076 - val_accuracy: 0.0000e+00\n",
      "Epoch 6/30\n",
      "425/425 [==============================] - 12s 28ms/step - loss: 0.2950 - accuracy: 0.0000e+00 - val_loss: 0.3076 - val_accuracy: 0.0000e+00\n",
      "Epoch 7/30\n",
      "425/425 [==============================] - 12s 27ms/step - loss: 0.2926 - accuracy: 0.0000e+00 - val_loss: 0.3069 - val_accuracy: 0.0000e+00\n",
      "Epoch 8/30\n",
      "425/425 [==============================] - 12s 28ms/step - loss: 0.2899 - accuracy: 0.0000e+00 - val_loss: 0.3066 - val_accuracy: 0.0000e+00\n",
      "Epoch 9/30\n",
      "425/425 [==============================] - 12s 28ms/step - loss: 0.2870 - accuracy: 0.0000e+00 - val_loss: 0.3054 - val_accuracy: 0.0000e+00\n",
      "Epoch 10/30\n",
      "425/425 [==============================] - 12s 27ms/step - loss: 0.2860 - accuracy: 0.0000e+00 - val_loss: 0.3044 - val_accuracy: 0.0000e+00\n",
      "Epoch 11/30\n",
      "425/425 [==============================] - 12s 27ms/step - loss: 0.2861 - accuracy: 0.0000e+00 - val_loss: 0.2690 - val_accuracy: 0.0000e+00\n",
      "Epoch 12/30\n",
      "425/425 [==============================] - 12s 27ms/step - loss: 0.2845 - accuracy: 0.0000e+00 - val_loss: 0.3039 - val_accuracy: 0.0000e+00\n",
      "Epoch 13/30\n",
      "425/425 [==============================] - 12s 27ms/step - loss: 0.2836 - accuracy: 0.0000e+00 - val_loss: 0.3036 - val_accuracy: 0.0000e+00\n",
      "Epoch 14/30\n",
      "425/425 [==============================] - 12s 28ms/step - loss: 0.2824 - accuracy: 0.0000e+00 - val_loss: 0.3021 - val_accuracy: 0.0000e+00\n",
      "Epoch 15/30\n",
      "425/425 [==============================] - 12s 28ms/step - loss: 0.2807 - accuracy: 0.0000e+00 - val_loss: 0.3021 - val_accuracy: 0.0000e+00\n",
      "Epoch 16/30\n",
      "425/425 [==============================] - 12s 28ms/step - loss: 0.2816 - accuracy: 0.0024 - val_loss: 0.3016 - val_accuracy: 0.0000e+00\n",
      "Epoch 17/30\n",
      "425/425 [==============================] - 12s 28ms/step - loss: 0.2807 - accuracy: 0.0000e+00 - val_loss: 0.3003 - val_accuracy: 0.0000e+00\n",
      "Epoch 18/30\n",
      "425/425 [==============================] - 12s 28ms/step - loss: 0.2780 - accuracy: 0.0000e+00 - val_loss: 0.2993 - val_accuracy: 0.0000e+00\n",
      "Epoch 19/30\n",
      "425/425 [==============================] - 12s 27ms/step - loss: 0.2790 - accuracy: 0.0024 - val_loss: 0.2993 - val_accuracy: 0.0000e+00\n",
      "Epoch 20/30\n",
      "425/425 [==============================] - 12s 28ms/step - loss: 0.2769 - accuracy: 0.0000e+00 - val_loss: 0.2998 - val_accuracy: 0.0000e+00\n",
      "Epoch 21/30\n",
      "425/425 [==============================] - 12s 28ms/step - loss: 0.2789 - accuracy: 0.0000e+00 - val_loss: 0.2543 - val_accuracy: 0.0000e+00\n",
      "Epoch 22/30\n",
      "425/425 [==============================] - 12s 27ms/step - loss: 0.2760 - accuracy: 0.0047 - val_loss: 0.2913 - val_accuracy: 0.0000e+00\n",
      "Epoch 23/30\n",
      "425/425 [==============================] - 12s 27ms/step - loss: 0.2737 - accuracy: 0.0000e+00 - val_loss: 0.2851 - val_accuracy: 0.0000e+00\n",
      "Epoch 24/30\n",
      "425/425 [==============================] - 12s 27ms/step - loss: 0.2763 - accuracy: 0.0047 - val_loss: 0.2669 - val_accuracy: 0.0000e+00\n",
      "Epoch 25/30\n",
      "425/425 [==============================] - 12s 28ms/step - loss: 0.2751 - accuracy: 0.0047 - val_loss: 0.2775 - val_accuracy: 0.0000e+00\n",
      "Epoch 26/30\n",
      "425/425 [==============================] - 12s 28ms/step - loss: 0.2697 - accuracy: 0.0024 - val_loss: 0.2795 - val_accuracy: 0.0000e+00\n",
      "Epoch 27/30\n",
      "425/425 [==============================] - 12s 28ms/step - loss: 0.2739 - accuracy: 0.0047 - val_loss: 0.2547 - val_accuracy: 0.0000e+00\n",
      "Epoch 28/30\n",
      "425/425 [==============================] - 12s 28ms/step - loss: 0.2692 - accuracy: 0.0094 - val_loss: 0.2640 - val_accuracy: 0.0000e+00\n",
      "Epoch 29/30\n",
      "425/425 [==============================] - 12s 27ms/step - loss: 0.2656 - accuracy: 0.0024 - val_loss: 0.2622 - val_accuracy: 0.0000e+00\n",
      "Epoch 30/30\n",
      "425/425 [==============================] - 12s 28ms/step - loss: 0.2660 - accuracy: 0.0071 - val_loss: 0.2673 - val_accuracy: 0.0000e+00\n"
     ]
    }
   ],
   "source": [
    "# (5) Train\n",
    "history = model.fit(X_train, Y_train, validation_data=(X_test, Y_test), batch_size=16, epochs=30, verbose=1)\n",
    "\n",
    "model.save('./output/CNN_model_03.h5')"
   ]
  },
  {
   "cell_type": "code",
   "execution_count": 12,
   "metadata": {},
   "outputs": [
    {
     "name": "stdout",
     "output_type": "stream",
     "text": [
      "425/425 [==============================] - 3s 8ms/step\n",
      "75/75 [==============================] - 1s 8ms/step\n"
     ]
    }
   ],
   "source": [
    "training_result = model.evaluate(X_train, Y_train)\n",
    "testing_result = model.evaluate(X_test, Y_test)"
   ]
  },
  {
   "cell_type": "code",
   "execution_count": 13,
   "metadata": {},
   "outputs": [
    {
     "name": "stdout",
     "output_type": "stream",
     "text": [
      "Training Acc:  [0.2828469340941485, 0.004705882165580988]\n",
      "Testing Acc:  [0.26730059464772543, 0.0]\n"
     ]
    }
   ],
   "source": [
    "print('Training Acc: ', training_result)\n",
    "print('Testing Acc: ', testing_result)"
   ]
  },
  {
   "cell_type": "markdown",
   "metadata": {},
   "source": [
    "## Load Model"
   ]
  },
  {
   "cell_type": "code",
   "execution_count": 14,
   "metadata": {},
   "outputs": [],
   "source": [
    "model = keras.models.load_model('./output/CNN_model_03.h5')"
   ]
  },
  {
   "cell_type": "markdown",
   "metadata": {},
   "source": [
    "## X_train plot"
   ]
  },
  {
   "cell_type": "code",
   "execution_count": 15,
   "metadata": {},
   "outputs": [],
   "source": [
    "X_train_results = model.predict(X_train)"
   ]
  },
  {
   "cell_type": "code",
   "execution_count": 16,
   "metadata": {},
   "outputs": [],
   "source": [
    "train_show_index = 0"
   ]
  },
  {
   "cell_type": "code",
   "execution_count": 17,
   "metadata": {},
   "outputs": [
    {
     "data": {
      "text/plain": [
       "<matplotlib.collections.PathCollection at 0x7f4c9c378cd0>"
      ]
     },
     "execution_count": 17,
     "metadata": {},
     "output_type": "execute_result"
    },
    {
     "data": {
      "image/png": "[encoded data removed]",
      "text/plain": [
       "<Figure size 432x288 with 1 Axes>"
      ]
     },
     "metadata": {
      "needs_background": "light"
     },
     "output_type": "display_data"
    }
   ],
   "source": [
    "plt.scatter(range(X_train_results[train_show_index].shape[0]), X_train_results[train_show_index], c='r', s = 2)\n",
    "plt.scatter(range(Y_train[train_show_index].shape[0]), Y_train[train_show_index], c='g', s = 2)"
   ]
  },
  {
   "cell_type": "markdown",
   "metadata": {},
   "source": [
    "## X_test plot\n"
   ]
  },
  {
   "cell_type": "code",
   "execution_count": 18,
   "metadata": {},
   "outputs": [],
   "source": [
    "X_test_results = model.predict(X_test)"
   ]
  },
  {
   "cell_type": "code",
   "execution_count": 19,
   "metadata": {},
   "outputs": [],
   "source": [
    "test_show_index = 0"
   ]
  },
  {
   "cell_type": "code",
   "execution_count": 20,
   "metadata": {},
   "outputs": [
    {
     "data": {
      "text/plain": [
       "<matplotlib.collections.PathCollection at 0x7f4c9c4721d0>"
      ]
     },
     "execution_count": 20,
     "metadata": {},
     "output_type": "execute_result"
    },
    {
     "data": {
      "image/png": "[encoded data removed]",
      "text/plain": [
       "<Figure size 432x288 with 1 Axes>"
      ]
     },
     "metadata": {
      "needs_background": "light"
     },
     "output_type": "display_data"
    }
   ],
   "source": [
    "plt.scatter(range(X_test_results[test_show_index].shape[0]), X_test_results[test_show_index], c='r', s = 2)\n",
    "plt.scatter(range(Y_test[test_show_index].shape[0]), Y_test[test_show_index], c='g', s = 2)"
   ]
  },
  {
   "cell_type": "markdown",
   "metadata": {},
   "source": [
    "## Loss Decrease Plot"
   ]
  },
  {
   "cell_type": "code",
   "execution_count": 21,
   "metadata": {},
   "outputs": [
    {
     "data": {
      "image/png": "[encoded data removed]",
      "text/plain": [
       "<Figure size 432x288 with 1 Axes>"
      ]
     },
     "metadata": {
      "needs_background": "light"
     },
     "output_type": "display_data"
    }
   ],
   "source": [
    "plt.plot(history.history['loss'])\n",
    "plt.show()"
   ]
  },
  {
   "cell_type": "code",
   "execution_count": null,
   "metadata": {},
   "outputs": [],
   "source": []
  }
 ],
 "metadata": {
  "kernelspec": {
   "display_name": "Python 3",
   "language": "python",
   "name": "python3"
  },
  "language_info": {
   "codemirror_mode": {
    "name": "ipython",
    "version": 3
   },
   "file_extension": ".py",
   "mimetype": "text/x-python",
   "name": "python",
   "nbconvert_exporter": "python",
   "pygments_lexer": "ipython3",
   "version": "3.7.6"
  }
 },
 "nbformat": 4,
 "nbformat_minor": 2
}
