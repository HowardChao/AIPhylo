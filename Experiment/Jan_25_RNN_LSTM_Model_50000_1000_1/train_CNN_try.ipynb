{
 "cells": [
  {
   "cell_type": "code",
   "execution_count": 89,
   "metadata": {},
   "outputs": [],
   "source": [
    "import numpy as np\n",
    "import keras\n",
    "from keras.models import Sequential\n",
    "from keras.layers import Dense, Activation, Dropout, Flatten, Conv2D, MaxPooling2D, ZeroPadding2D\n",
    "from keras.layers.normalization import BatchNormalization\n",
    "from keras.layers import LSTM\n",
    "from PIL import Image\n",
    "import random\n",
    "import math\n",
    "import matplotlib.pyplot as plt"
   ]
  },
  {
   "cell_type": "code",
   "execution_count": 90,
   "metadata": {},
   "outputs": [],
   "source": [
    "training_data = np.load('./output/training_data.npy')\n",
    "training_labels = np.load('./output/training_dists.npy')\n",
    "\n",
    "#pad the training data matrix so it is 100x1024\n",
    "\n",
    "#(500, 100, 1000, 1)\n",
    "\n",
    "# zero_padding_array = np.zeros((500,100,600,1))"
   ]
  },
  {
   "cell_type": "code",
   "execution_count": 91,
   "metadata": {},
   "outputs": [
    {
     "data": {
      "text/plain": [
       "(50000, 1000, 1)"
      ]
     },
     "execution_count": 91,
     "metadata": {},
     "output_type": "execute_result"
    }
   ],
   "source": [
    "training_data.shape"
   ]
  },
  {
   "cell_type": "code",
   "execution_count": 92,
   "metadata": {},
   "outputs": [
    {
     "data": {
      "text/plain": [
       "(50000, 100, 1)"
      ]
     },
     "execution_count": 92,
     "metadata": {},
     "output_type": "execute_result"
    }
   ],
   "source": [
    "training_labels.shape"
   ]
  },
  {
   "cell_type": "code",
   "execution_count": 93,
   "metadata": {},
   "outputs": [],
   "source": [
    "training_labels_padding_zero = np.zeros(training_data.shape)"
   ]
  },
  {
   "cell_type": "code",
   "execution_count": 94,
   "metadata": {},
   "outputs": [],
   "source": [
    "training_labels_padding_zero[:training_labels.shape[0], :training_labels.shape[1], :training_labels.shape[2]] = training_labels"
   ]
  },
  {
   "cell_type": "code",
   "execution_count": 95,
   "metadata": {},
   "outputs": [
    {
     "data": {
      "text/plain": [
       "(50000, 1000, 1)"
      ]
     },
     "execution_count": 95,
     "metadata": {},
     "output_type": "execute_result"
    }
   ],
   "source": [
    "training_labels_padding_zero.shape"
   ]
  },
  {
   "cell_type": "code",
   "execution_count": 96,
   "metadata": {},
   "outputs": [],
   "source": [
    "training_labels = training_labels_padding_zero"
   ]
  },
  {
   "cell_type": "code",
   "execution_count": 97,
   "metadata": {},
   "outputs": [
    {
     "name": "stdout",
     "output_type": "stream",
     "text": [
      "(50000, 1000, 1)\n",
      "(50000, 1000, 1)\n",
      "X_train.shape :  (42500, 1000, 1)\n",
      "X_test.shape :  (7500, 1000, 1)\n",
      "Y_train.shape :  (42500, 1000, 1)\n",
      "Y_test.shape :  (7500, 1000, 1)\n"
     ]
    }
   ],
   "source": [
    "# print(training_data.shape)\n",
    "# training_data = np.concatenate([training_data, zero_padding_array], axis=2)\n",
    "print(training_data.shape)\n",
    "print(training_labels.shape)\n",
    "\n",
    "samples_count = training_data.shape[0]\n",
    "\n",
    "train_size = math.floor(0.85*training_data.shape[0])\n",
    "\n",
    "shuffle_indices = random.sample(range(0, samples_count), samples_count)\n",
    "\n",
    "indices_train = shuffle_indices[0:train_size]\n",
    "indices_test = shuffle_indices[train_size:samples_count]\n",
    "\n",
    "X_train = training_data[indices_train,:]\n",
    "Y_train = training_labels[indices_train]\n",
    "\n",
    "X_test = training_data[indices_test,:]\n",
    "Y_test = training_labels[indices_test]\n",
    "\n",
    "print('X_train.shape : ', X_train.shape)\n",
    "print('X_test.shape : ', X_test.shape)\n",
    "\n",
    "print('Y_train.shape : ', Y_train.shape)\n",
    "print('Y_test.shape : ', Y_test.shape)\n",
    "\n",
    "np.save('./output/X_test.npy', X_test)\n",
    "np.save('./output/Y_test.npy', Y_test)"
   ]
  },
  {
   "cell_type": "code",
   "execution_count": 98,
   "metadata": {},
   "outputs": [],
   "source": [
    "model = Sequential()\n",
    "\n",
    "model.add(LSTM(1, input_shape=(1000, 1), return_sequences=True, activation='sigmoid'))\n",
    "model.add(LSTM(1, input_shape=(1000, 1), return_sequences=True, activation='sigmoid'))\n",
    "model.add(LSTM(1, input_shape=(1000, 1), return_sequences=True, activation='sigmoid'))\n",
    "model.add(LSTM(1, input_shape=(1000, 1), return_sequences=True, activation='sigmoid'))\n",
    "model.add(LSTM(1, input_shape=(1000, 1), return_sequences=True, activation='sigmoid'))\n",
    "model.add(LSTM(1, input_shape=(1000, 1), return_sequences=True, activation='sigmoid'))"
   ]
  },
  {
   "cell_type": "code",
   "execution_count": 99,
   "metadata": {},
   "outputs": [
    {
     "name": "stdout",
     "output_type": "stream",
     "text": [
      "Model: \"sequential_11\"\n",
      "_________________________________________________________________\n",
      "Layer (type)                 Output Shape              Param #   \n",
      "=================================================================\n",
      "lstm_33 (LSTM)               (None, 1000, 1)           12        \n",
      "_________________________________________________________________\n",
      "lstm_34 (LSTM)               (None, 1000, 1)           12        \n",
      "_________________________________________________________________\n",
      "lstm_35 (LSTM)               (None, 1000, 1)           12        \n",
      "_________________________________________________________________\n",
      "lstm_36 (LSTM)               (None, 1000, 1)           12        \n",
      "_________________________________________________________________\n",
      "lstm_37 (LSTM)               (None, 1000, 1)           12        \n",
      "_________________________________________________________________\n",
      "lstm_38 (LSTM)               (None, 1000, 1)           12        \n",
      "=================================================================\n",
      "Total params: 72\n",
      "Trainable params: 72\n",
      "Non-trainable params: 0\n",
      "_________________________________________________________________\n"
     ]
    }
   ],
   "source": [
    "model.summary()"
   ]
  },
  {
   "cell_type": "code",
   "execution_count": 100,
   "metadata": {},
   "outputs": [],
   "source": [
    "# (4) Compile \n",
    "#model.compile(loss='mse', optimizer='adam', metrics=['accuracy'])\n",
    "model.compile(loss='mse', optimizer='adam', metrics=['accuracy'])"
   ]
  },
  {
   "cell_type": "code",
   "execution_count": 101,
   "metadata": {},
   "outputs": [
    {
     "name": "stdout",
     "output_type": "stream",
     "text": [
      "Train on 42500 samples, validate on 7500 samples\n",
      "Epoch 1/15\n",
      "42500/42500 [==============================] - 110s 3ms/step - loss: 0.1085 - accuracy: 0.9647 - val_loss: 0.1015 - val_accuracy: 0.9651\n",
      "Epoch 2/15\n",
      "42500/42500 [==============================] - 104s 2ms/step - loss: 0.0982 - accuracy: 0.9647 - val_loss: 0.0921 - val_accuracy: 0.9651\n",
      "Epoch 3/15\n",
      "42500/42500 [==============================] - 103s 2ms/step - loss: 0.0895 - accuracy: 0.9647 - val_loss: 0.0842 - val_accuracy: 0.9651\n",
      "Epoch 4/15\n",
      "42500/42500 [==============================] - 102s 2ms/step - loss: 0.0823 - accuracy: 0.9647 - val_loss: 0.0775 - val_accuracy: 0.9651\n",
      "Epoch 5/15\n",
      "42500/42500 [==============================] - 101s 2ms/step - loss: 0.0761 - accuracy: 0.9647 - val_loss: 0.0719 - val_accuracy: 0.9651\n",
      "Epoch 6/15\n",
      "42500/42500 [==============================] - 100s 2ms/step - loss: 0.0708 - accuracy: 0.9647 - val_loss: 0.0670 - val_accuracy: 0.9651\n",
      "Epoch 7/15\n",
      "42500/42500 [==============================] - 101s 2ms/step - loss: 0.0664 - accuracy: 0.9647 - val_loss: 0.0629 - val_accuracy: 0.9651\n",
      "Epoch 8/15\n",
      "42500/42500 [==============================] - 100s 2ms/step - loss: 0.0625 - accuracy: 0.9647 - val_loss: 0.0594 - val_accuracy: 0.9651\n",
      "Epoch 9/15\n",
      "42500/42500 [==============================] - 101s 2ms/step - loss: 0.0592 - accuracy: 0.9647 - val_loss: 0.0563 - val_accuracy: 0.9651\n",
      "Epoch 10/15\n",
      "42500/42500 [==============================] - 102s 2ms/step - loss: 0.0564 - accuracy: 0.9647 - val_loss: 0.0536 - val_accuracy: 0.9651\n",
      "Epoch 11/15\n",
      "42500/42500 [==============================] - 100s 2ms/step - loss: 0.0538 - accuracy: 0.9647 - val_loss: 0.0512 - val_accuracy: 0.9651\n",
      "Epoch 12/15\n",
      "42500/42500 [==============================] - 100s 2ms/step - loss: 0.0516 - accuracy: 0.9647 - val_loss: 0.0491 - val_accuracy: 0.9651\n",
      "Epoch 13/15\n",
      "42500/42500 [==============================] - 101s 2ms/step - loss: 0.0496 - accuracy: 0.9647 - val_loss: 0.0472 - val_accuracy: 0.9651\n",
      "Epoch 14/15\n",
      "42500/42500 [==============================] - 100s 2ms/step - loss: 0.0479 - accuracy: 0.9647 - val_loss: 0.0456 - val_accuracy: 0.9651\n",
      "Epoch 15/15\n",
      "42500/42500 [==============================] - 100s 2ms/step - loss: 0.0463 - accuracy: 0.9647 - val_loss: 0.0441 - val_accuracy: 0.9651\n"
     ]
    }
   ],
   "source": [
    "# (5) Train\n",
    "history = model.fit(X_train, Y_train, validation_data=(X_test, Y_test), batch_size=1000, epochs=15, verbose=1)\n",
    "\n",
    "\n",
    "model.save('./output/CNN_model_03.h5')"
   ]
  },
  {
   "cell_type": "code",
   "execution_count": 103,
   "metadata": {},
   "outputs": [
    {
     "name": "stdout",
     "output_type": "stream",
     "text": [
      "42500/42500 [==============================] - 40s 933us/step\n",
      "7500/7500 [==============================] - 7s 983us/step\n"
     ]
    }
   ],
   "source": [
    "training_result = model.evaluate(X_train, Y_train, batch_size = 1000)\n",
    "testing_result = model.evaluate(X_test, Y_test, batch_size = 1000)"
   ]
  },
  {
   "cell_type": "code",
   "execution_count": 104,
   "metadata": {},
   "outputs": [
    {
     "name": "stdout",
     "output_type": "stream",
     "text": [
      "Training Acc:  [0.04557227540542098, 0.9646535515785217]\n",
      "Testing Acc:  [0.04414224127928416, 0.965090811252594]\n"
     ]
    }
   ],
   "source": [
    "print('Training Acc: ', training_result)\n",
    "print('Testing Acc: ', testing_result)"
   ]
  },
  {
   "cell_type": "code",
   "execution_count": 106,
   "metadata": {},
   "outputs": [],
   "source": [
    "X_test_results = model.predict(X_test)"
   ]
  },
  {
   "cell_type": "code",
   "execution_count": 121,
   "metadata": {},
   "outputs": [],
   "source": [
    "# plt.scatter(range(100), X_test_results[0].reshape(), c='r')\n",
    "# plt.scatter(range(100), Y_test[0], c='g')"
   ]
  },
  {
   "cell_type": "code",
   "execution_count": 105,
   "metadata": {},
   "outputs": [
    {
     "data": {
      "image/png": "[encoded data removed]",
      "text/plain": [
       "<Figure size 432x288 with 1 Axes>"
      ]
     },
     "metadata": {
      "needs_background": "light"
     },
     "output_type": "display_data"
    }
   ],
   "source": [
    "plt.plot(history.history['loss'])\n",
    "plt.show()"
   ]
  },
  {
   "cell_type": "code",
   "execution_count": null,
   "metadata": {},
   "outputs": [],
   "source": []
  }
 ],
 "metadata": {
  "kernelspec": {
   "display_name": "Python 3",
   "language": "python",
   "name": "python3"
  },
  "language_info": {
   "codemirror_mode": {
    "name": "ipython",
    "version": 3
   },
   "file_extension": ".py",
   "mimetype": "text/x-python",
   "name": "python",
   "nbconvert_exporter": "python",
   "pygments_lexer": "ipython3",
   "version": "3.7.6"
  }
 },
 "nbformat": 4,
 "nbformat_minor": 2
}
