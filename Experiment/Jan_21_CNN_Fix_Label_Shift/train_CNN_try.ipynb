{
 "cells": [
  {
   "cell_type": "code",
   "execution_count": 2,
   "metadata": {},
   "outputs": [],
   "source": [
    "import numpy as np\n",
    "import keras\n",
    "from keras.models import Sequential\n",
    "from keras.layers import Dense, Activation, Dropout, Flatten, Conv2D, MaxPooling2D, ZeroPadding2D\n",
    "from keras.layers.normalization import BatchNormalization\n",
    "from PIL import Image\n",
    "import random\n",
    "import math\n",
    "import matplotlib.pyplot as plt"
   ]
  },
  {
   "cell_type": "code",
   "execution_count": 4,
   "metadata": {},
   "outputs": [],
   "source": [
    "training_data = np.load('./output/training_data.npy')\n",
    "training_labels = np.load('./output/training_dists.npy')\n",
    "\n",
    "#pad the training data matrix so it is 100x1024\n",
    "\n",
    "#(500, 100, 1000, 1)\n",
    "\n",
    "zero_padding_array = np.zeros((500,100,600,1))"
   ]
  },
  {
   "cell_type": "code",
   "execution_count": 5,
   "metadata": {},
   "outputs": [
    {
     "data": {
      "text/plain": [
       "(500, 100, 1000, 1)"
      ]
     },
     "execution_count": 5,
     "metadata": {},
     "output_type": "execute_result"
    }
   ],
   "source": [
    "training_data.shape"
   ]
  },
  {
   "cell_type": "code",
   "execution_count": 6,
   "metadata": {},
   "outputs": [
    {
     "data": {
      "text/plain": [
       "(500, 100, 100, 1)"
      ]
     },
     "execution_count": 6,
     "metadata": {},
     "output_type": "execute_result"
    }
   ],
   "source": [
    "training_labels.shape"
   ]
  },
  {
   "cell_type": "code",
   "execution_count": 7,
   "metadata": {},
   "outputs": [
    {
     "data": {
      "text/plain": [
       "(500, 100, 600, 1)"
      ]
     },
     "execution_count": 7,
     "metadata": {},
     "output_type": "execute_result"
    }
   ],
   "source": [
    "zero_padding_array.shape"
   ]
  },
  {
   "cell_type": "code",
   "execution_count": 8,
   "metadata": {},
   "outputs": [
    {
     "name": "stdout",
     "output_type": "stream",
     "text": [
      "(500, 100, 1000, 1)\n",
      "(500, 100, 1600, 1)\n",
      "(500, 100, 100, 1)\n",
      "X_train.shape :  (425, 100, 1600, 1)\n",
      "X_test.shape :  (74, 100, 1600, 1)\n",
      "Y_train.shape :  (425, 100, 100, 1)\n",
      "Y_test.shape :  (74, 100, 100, 1)\n",
      "Model: \"sequential_1\"\n",
      "_________________________________________________________________\n",
      "Layer (type)                 Output Shape              Param #   \n",
      "=================================================================\n",
      "conv2d_1 (Conv2D)            (None, 100, 1600, 64)     192       \n",
      "_________________________________________________________________\n",
      "batch_normalization_1 (Batch (None, 100, 1600, 64)     256       \n",
      "_________________________________________________________________\n",
      "activation_1 (Activation)    (None, 100, 1600, 64)     0         \n",
      "_________________________________________________________________\n",
      "max_pooling2d_1 (MaxPooling2 (None, 100, 800, 64)      0         \n",
      "_________________________________________________________________\n",
      "conv2d_2 (Conv2D)            (None, 100, 800, 32)      4128      \n",
      "_________________________________________________________________\n",
      "batch_normalization_2 (Batch (None, 100, 800, 32)      128       \n",
      "_________________________________________________________________\n",
      "activation_2 (Activation)    (None, 100, 800, 32)      0         \n",
      "_________________________________________________________________\n",
      "max_pooling2d_2 (MaxPooling2 (None, 100, 400, 32)      0         \n",
      "_________________________________________________________________\n",
      "conv2d_3 (Conv2D)            (None, 100, 400, 16)      1040      \n",
      "_________________________________________________________________\n",
      "batch_normalization_3 (Batch (None, 100, 400, 16)      64        \n",
      "_________________________________________________________________\n",
      "activation_3 (Activation)    (None, 100, 400, 16)      0         \n",
      "_________________________________________________________________\n",
      "max_pooling2d_3 (MaxPooling2 (None, 100, 200, 16)      0         \n",
      "_________________________________________________________________\n",
      "conv2d_4 (Conv2D)            (None, 100, 200, 1)       33        \n",
      "_________________________________________________________________\n",
      "batch_normalization_4 (Batch (None, 100, 200, 1)       4         \n",
      "_________________________________________________________________\n",
      "activation_4 (Activation)    (None, 100, 200, 1)       0         \n",
      "_________________________________________________________________\n",
      "max_pooling2d_4 (MaxPooling2 (None, 100, 100, 1)       0         \n",
      "=================================================================\n",
      "Total params: 5,845\n",
      "Trainable params: 5,619\n",
      "Non-trainable params: 226\n",
      "_________________________________________________________________\n"
     ]
    }
   ],
   "source": [
    "print(training_data.shape)\n",
    "training_data = np.concatenate([training_data, zero_padding_array], axis=2)\n",
    "print(training_data.shape)\n",
    "\n",
    "print(training_labels.shape)\n",
    "\n",
    "samples_count = training_data.shape[0]\n",
    "\n",
    "train_size = math.floor(0.85*training_data.shape[0])\n",
    "\n",
    "shuffle_indices = random.sample(range(0, samples_count), samples_count)\n",
    "\n",
    "indices_train = shuffle_indices[0:train_size]\n",
    "indices_test = shuffle_indices[train_size+1:samples_count]\n",
    "\n",
    "X_train = training_data[indices_train,:]\n",
    "Y_train = training_labels[indices_train]\n",
    "\n",
    "X_test = training_data[indices_test,:]\n",
    "Y_test = training_labels[indices_test]\n",
    "\n",
    "print('X_train.shape : ', X_train.shape)\n",
    "print('X_test.shape : ', X_test.shape)\n",
    "\n",
    "print('Y_train.shape : ', Y_train.shape)\n",
    "print('Y_test.shape : ', Y_test.shape)\n",
    "\n",
    "np.save('X_test.npy', X_test)\n",
    "np.save('Y_test.npy', Y_test)\n",
    "\n",
    "model = Sequential()\n",
    "\n",
    "# Layer 1\n",
    "model.add(Conv2D(64, input_shape=(100,1600,1), kernel_size=(2,1), strides=(1,1), padding='same'))\n",
    "#model.add(Conv2D(48, input_shape=(400,11,1), kernel_size=(2,2), strides=(1,1), padding='same'))\n",
    "model.add(BatchNormalization())\n",
    "model.add(Activation('relu'))\n",
    "model.add(MaxPooling2D(pool_size=(1, 2)))\n",
    "\n",
    "# Layer 2\n",
    "model.add(Conv2D(32, (2, 1), padding='same'))\n",
    "model.add(BatchNormalization())\n",
    "model.add(Activation('relu'))\n",
    "model.add(MaxPooling2D(pool_size=(1, 2)))\n",
    "\n",
    "# Layer 3\n",
    "model.add(Conv2D(16, (2, 1), padding='same'))\n",
    "model.add(BatchNormalization())\n",
    "model.add(Activation('relu'))\n",
    "model.add(MaxPooling2D(pool_size=(1, 2)))\n",
    "\n",
    "# Layer 4\n",
    "model.add(Conv2D(1, (2, 1), padding='same'))\n",
    "model.add(BatchNormalization())\n",
    "model.add(Activation('relu'))\n",
    "model.add(MaxPooling2D(pool_size=(1, 2)))\n",
    "\n",
    "model.summary()"
   ]
  },
  {
   "cell_type": "code",
   "execution_count": 31,
   "metadata": {},
   "outputs": [],
   "source": [
    "# (4) Compile \n",
    "#model.compile(loss='mse', optimizer='adam', metrics=['accuracy'])\n",
    "model.compile(loss='mean_absolute_error', optimizer='adam', metrics=['accuracy'])"
   ]
  },
  {
   "cell_type": "code",
   "execution_count": 32,
   "metadata": {},
   "outputs": [
    {
     "name": "stdout",
     "output_type": "stream",
     "text": [
      "Train on 425 samples, validate on 74 samples\n",
      "Epoch 1/30\n",
      "425/425 [==============================] - 161s 378ms/step - loss: 0.2702 - accuracy: 0.6436 - val_loss: 0.2196 - val_accuracy: 0.6664\n",
      "Epoch 2/30\n",
      "425/425 [==============================] - 161s 379ms/step - loss: 0.2360 - accuracy: 0.6436 - val_loss: 0.2112 - val_accuracy: 0.6664\n",
      "Epoch 3/30\n",
      "425/425 [==============================] - 162s 381ms/step - loss: 0.2163 - accuracy: 0.6436 - val_loss: 0.2116 - val_accuracy: 0.6664\n",
      "Epoch 4/30\n",
      "425/425 [==============================] - 159s 374ms/step - loss: 0.2127 - accuracy: 0.6437 - val_loss: 0.2101 - val_accuracy: 0.6664\n",
      "Epoch 5/30\n",
      "425/425 [==============================] - 162s 381ms/step - loss: 0.2111 - accuracy: 0.6437 - val_loss: 0.2200 - val_accuracy: 0.6664\n",
      "Epoch 6/30\n",
      "425/425 [==============================] - 163s 384ms/step - loss: 0.2106 - accuracy: 0.6437 - val_loss: 0.2265 - val_accuracy: 0.6664\n",
      "Epoch 7/30\n",
      "425/425 [==============================] - 171s 401ms/step - loss: 0.2100 - accuracy: 0.6437 - val_loss: 0.2305 - val_accuracy: 0.6664\n",
      "Epoch 8/30\n",
      "425/425 [==============================] - 164s 387ms/step - loss: 0.2099 - accuracy: 0.6437 - val_loss: 0.2316 - val_accuracy: 0.6664\n",
      "Epoch 9/30\n",
      "425/425 [==============================] - 142s 335ms/step - loss: 0.2094 - accuracy: 0.6437 - val_loss: 0.2372 - val_accuracy: 0.6664\n",
      "Epoch 10/30\n",
      "425/425 [==============================] - 189s 444ms/step - loss: 0.2093 - accuracy: 0.6436 - val_loss: 0.2384 - val_accuracy: 0.6664\n",
      "Epoch 11/30\n",
      "425/425 [==============================] - 183s 431ms/step - loss: 0.2090 - accuracy: 0.6436 - val_loss: 0.2341 - val_accuracy: 0.6664\n",
      "Epoch 12/30\n",
      "425/425 [==============================] - 181s 426ms/step - loss: 0.2088 - accuracy: 0.6437 - val_loss: 0.2303 - val_accuracy: 0.6664\n",
      "Epoch 13/30\n",
      "425/425 [==============================] - 189s 445ms/step - loss: 0.2087 - accuracy: 0.6436 - val_loss: 0.2366 - val_accuracy: 0.6664\n",
      "Epoch 14/30\n",
      "425/425 [==============================] - 192s 452ms/step - loss: 0.2086 - accuracy: 0.6437 - val_loss: 0.2354 - val_accuracy: 0.6663\n",
      "Epoch 15/30\n",
      "425/425 [==============================] - 195s 458ms/step - loss: 0.2084 - accuracy: 0.6436 - val_loss: 0.2339 - val_accuracy: 0.6659\n",
      "Epoch 16/30\n",
      "425/425 [==============================] - 204s 480ms/step - loss: 0.2087 - accuracy: 0.6437 - val_loss: 0.2298 - val_accuracy: 0.6660\n",
      "Epoch 17/30\n",
      "425/425 [==============================] - 194s 456ms/step - loss: 0.2083 - accuracy: 0.6437 - val_loss: 0.2287 - val_accuracy: 0.6657\n",
      "Epoch 18/30\n",
      "425/425 [==============================] - 193s 454ms/step - loss: 0.2083 - accuracy: 0.6437 - val_loss: 0.2220 - val_accuracy: 0.6658\n",
      "Epoch 19/30\n",
      "425/425 [==============================] - 206s 485ms/step - loss: 0.2080 - accuracy: 0.6436 - val_loss: 0.2144 - val_accuracy: 0.6660\n",
      "Epoch 20/30\n",
      "425/425 [==============================] - 231s 543ms/step - loss: 0.2079 - accuracy: 0.6437 - val_loss: 0.2068 - val_accuracy: 0.6656\n",
      "Epoch 21/30\n",
      "425/425 [==============================] - 224s 527ms/step - loss: 0.2084 - accuracy: 0.6437 - val_loss: 0.2050 - val_accuracy: 0.6659\n",
      "Epoch 22/30\n",
      "425/425 [==============================] - 226s 532ms/step - loss: 0.2083 - accuracy: 0.6436 - val_loss: 0.2056 - val_accuracy: 0.6662\n",
      "Epoch 23/30\n",
      "425/425 [==============================] - 244s 575ms/step - loss: 0.2083 - accuracy: 0.6437 - val_loss: 0.2145 - val_accuracy: 0.6660\n",
      "Epoch 24/30\n",
      "425/425 [==============================] - 226s 531ms/step - loss: 0.2081 - accuracy: 0.6436 - val_loss: 0.2145 - val_accuracy: 0.6660\n",
      "Epoch 25/30\n",
      "425/425 [==============================] - 219s 515ms/step - loss: 0.2077 - accuracy: 0.6436 - val_loss: 0.2043 - val_accuracy: 0.6660\n",
      "Epoch 26/30\n",
      "425/425 [==============================] - 229s 540ms/step - loss: 0.2078 - accuracy: 0.6437 - val_loss: 0.2048 - val_accuracy: 0.6656\n",
      "Epoch 27/30\n",
      "425/425 [==============================] - 234s 550ms/step - loss: 0.2080 - accuracy: 0.6436 - val_loss: 0.2056 - val_accuracy: 0.6662\n",
      "Epoch 28/30\n",
      "425/425 [==============================] - 213s 502ms/step - loss: 0.2080 - accuracy: 0.6436 - val_loss: 0.2046 - val_accuracy: 0.6661\n",
      "Epoch 29/30\n",
      "425/425 [==============================] - 238s 561ms/step - loss: 0.2076 - accuracy: 0.6436 - val_loss: 0.2044 - val_accuracy: 0.6660\n",
      "Epoch 30/30\n",
      "425/425 [==============================] - 227s 534ms/step - loss: 0.2078 - accuracy: 0.6437 - val_loss: 0.2050 - val_accuracy: 0.6656\n"
     ]
    }
   ],
   "source": [
    "# (5) Train\n",
    "model.fit(X_train, Y_train, validation_data=(X_test, Y_test), batch_size=16, epochs=30, verbose=1)\n",
    "\n",
    "model.save('CNN_model_03.h5')"
   ]
  },
  {
   "cell_type": "markdown",
   "metadata": {},
   "source": [
    "## Load Model"
   ]
  },
  {
   "cell_type": "code",
   "execution_count": 9,
   "metadata": {},
   "outputs": [],
   "source": [
    "model = keras.models.load_model('./output/CNN_model_03.h5')"
   ]
  },
  {
   "cell_type": "markdown",
   "metadata": {},
   "source": [
    "## X_train plot"
   ]
  },
  {
   "cell_type": "code",
   "execution_count": 10,
   "metadata": {},
   "outputs": [],
   "source": [
    "X_train_results = model.predict(X_train)"
   ]
  },
  {
   "cell_type": "code",
   "execution_count": 16,
   "metadata": {},
   "outputs": [],
   "source": [
    "train_show_index_1 = 0\n",
    "train_show_index_2 = 1"
   ]
  },
  {
   "cell_type": "code",
   "execution_count": 17,
   "metadata": {},
   "outputs": [
    {
     "data": {
      "text/plain": [
       "<matplotlib.collections.PathCollection at 0x7fdc701028d0>"
      ]
     },
     "execution_count": 17,
     "metadata": {},
     "output_type": "execute_result"
    },
    {
     "data": {
      "image/png": "[encoded data removed]",
      "text/plain": [
       "<Figure size 432x288 with 1 Axes>"
      ]
     },
     "metadata": {
      "needs_background": "light"
     },
     "output_type": "display_data"
    }
   ],
   "source": [
    "plt.scatter(range(X_train_results[train_show_index_1][train_show_index_2].shape[0]), X_train_results[train_show_index_1][train_show_index_2], c='r', s = 2)\n",
    "plt.scatter(range(Y_train[train_show_index_1][train_show_index_2].shape[0]), Y_train[train_show_index_1][train_show_index_2], c='g', s = 2)"
   ]
  },
  {
   "cell_type": "markdown",
   "metadata": {},
   "source": [
    "## X_test plot"
   ]
  },
  {
   "cell_type": "code",
   "execution_count": 13,
   "metadata": {},
   "outputs": [],
   "source": [
    "X_test_results = model.predict(X_test)"
   ]
  },
  {
   "cell_type": "code",
   "execution_count": 18,
   "metadata": {},
   "outputs": [],
   "source": [
    "test_show_index_1 = 0\n",
    "test_show_index_2 = 1"
   ]
  },
  {
   "cell_type": "code",
   "execution_count": 19,
   "metadata": {},
   "outputs": [
    {
     "data": {
      "text/plain": [
       "<matplotlib.collections.PathCollection at 0x7fdc081c8810>"
      ]
     },
     "execution_count": 19,
     "metadata": {},
     "output_type": "execute_result"
    },
    {
     "data": {
      "image/png": "[encoded data removed]",
      "text/plain": [
       "<Figure size 432x288 with 1 Axes>"
      ]
     },
     "metadata": {
      "needs_background": "light"
     },
     "output_type": "display_data"
    }
   ],
   "source": [
    "plt.scatter(range(X_test_results[test_show_index_1][test_show_index_2].shape[0]), X_test_results[test_show_index_1][test_show_index_2], c='r', s = 2)\n",
    "plt.scatter(range(Y_test[test_show_index_1][test_show_index_2].shape[0]), Y_test[test_show_index_1][test_show_index_2], c='g', s = 2)"
   ]
  },
  {
   "cell_type": "code",
   "execution_count": null,
   "metadata": {},
   "outputs": [],
   "source": []
  }
 ],
 "metadata": {
  "kernelspec": {
   "display_name": "Python 3",
   "language": "python",
   "name": "python3"
  },
  "language_info": {
   "codemirror_mode": {
    "name": "ipython",
    "version": 3
   },
   "file_extension": ".py",
   "mimetype": "text/x-python",
   "name": "python",
   "nbconvert_exporter": "python",
   "pygments_lexer": "ipython3",
   "version": "3.7.6"
  }
 },
 "nbformat": 4,
 "nbformat_minor": 2
}
