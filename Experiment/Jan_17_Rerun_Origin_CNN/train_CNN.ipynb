{
 "cells": [
  {
   "cell_type": "code",
   "execution_count": 20,
   "metadata": {},
   "outputs": [],
   "source": [
    "import numpy as np\n",
    "from keras.models import Sequential\n",
    "from keras.layers import Dense, Activation, Dropout, Flatten, Conv2D, MaxPooling2D, ZeroPadding2D\n",
    "from keras.layers.normalization import BatchNormalization\n",
    "from PIL import Image\n",
    "import random\n",
    "import math"
   ]
  },
  {
   "cell_type": "code",
   "execution_count": 21,
   "metadata": {},
   "outputs": [],
   "source": [
    "training_data = np.load('training_data.npy')\n",
    "training_labels = np.load('training_dists.npy')\n",
    "\n",
    "#pad the training data matrix so it is 100x1024\n",
    "\n",
    "#(500, 100, 1000, 1)\n",
    "\n",
    "zero_padding_array = np.zeros((500,100,600,1))"
   ]
  },
  {
   "cell_type": "code",
   "execution_count": 22,
   "metadata": {},
   "outputs": [
    {
     "data": {
      "text/plain": [
       "(500, 100, 1000, 1)"
      ]
     },
     "execution_count": 22,
     "metadata": {},
     "output_type": "execute_result"
    }
   ],
   "source": [
    "training_data.shape"
   ]
  },
  {
   "cell_type": "code",
   "execution_count": 23,
   "metadata": {},
   "outputs": [
    {
     "data": {
      "text/plain": [
       "(500, 100, 100, 1)"
      ]
     },
     "execution_count": 23,
     "metadata": {},
     "output_type": "execute_result"
    }
   ],
   "source": [
    "training_labels.shape"
   ]
  },
  {
   "cell_type": "code",
   "execution_count": 24,
   "metadata": {},
   "outputs": [
    {
     "data": {
      "text/plain": [
       "(500, 100, 600, 1)"
      ]
     },
     "execution_count": 24,
     "metadata": {},
     "output_type": "execute_result"
    }
   ],
   "source": [
    "zero_padding_array.shape"
   ]
  },
  {
   "cell_type": "code",
   "execution_count": 25,
   "metadata": {},
   "outputs": [
    {
     "name": "stdout",
     "output_type": "stream",
     "text": [
      "(500, 100, 1000, 1)\n",
      "(500, 100, 1600, 1)\n",
      "(500, 100, 100, 1)\n",
      "X_train.shape :  (425, 100, 1600, 1)\n",
      "X_test.shape :  (74, 100, 1600, 1)\n",
      "Y_train.shape :  (425, 100, 100, 1)\n",
      "Y_test.shape :  (74, 100, 100, 1)\n",
      "Model: \"sequential_3\"\n",
      "_________________________________________________________________\n",
      "Layer (type)                 Output Shape              Param #   \n",
      "=================================================================\n",
      "conv2d_9 (Conv2D)            (None, 100, 1600, 64)     192       \n",
      "_________________________________________________________________\n",
      "batch_normalization_9 (Batch (None, 100, 1600, 64)     256       \n",
      "_________________________________________________________________\n",
      "activation_9 (Activation)    (None, 100, 1600, 64)     0         \n",
      "_________________________________________________________________\n",
      "max_pooling2d_9 (MaxPooling2 (None, 100, 800, 64)      0         \n",
      "_________________________________________________________________\n",
      "conv2d_10 (Conv2D)           (None, 100, 800, 32)      4128      \n",
      "_________________________________________________________________\n",
      "batch_normalization_10 (Batc (None, 100, 800, 32)      128       \n",
      "_________________________________________________________________\n",
      "activation_10 (Activation)   (None, 100, 800, 32)      0         \n",
      "_________________________________________________________________\n",
      "max_pooling2d_10 (MaxPooling (None, 100, 400, 32)      0         \n",
      "_________________________________________________________________\n",
      "conv2d_11 (Conv2D)           (None, 100, 400, 16)      1040      \n",
      "_________________________________________________________________\n",
      "batch_normalization_11 (Batc (None, 100, 400, 16)      64        \n",
      "_________________________________________________________________\n",
      "activation_11 (Activation)   (None, 100, 400, 16)      0         \n",
      "_________________________________________________________________\n",
      "max_pooling2d_11 (MaxPooling (None, 100, 200, 16)      0         \n",
      "_________________________________________________________________\n",
      "conv2d_12 (Conv2D)           (None, 100, 200, 1)       33        \n",
      "_________________________________________________________________\n",
      "batch_normalization_12 (Batc (None, 100, 200, 1)       4         \n",
      "_________________________________________________________________\n",
      "activation_12 (Activation)   (None, 100, 200, 1)       0         \n",
      "_________________________________________________________________\n",
      "max_pooling2d_12 (MaxPooling (None, 100, 100, 1)       0         \n",
      "=================================================================\n",
      "Total params: 5,845\n",
      "Trainable params: 5,619\n",
      "Non-trainable params: 226\n",
      "_________________________________________________________________\n"
     ]
    }
   ],
   "source": [
    "print(training_data.shape)\n",
    "training_data = np.concatenate([training_data, zero_padding_array], axis=2)\n",
    "print(training_data.shape)\n",
    "\n",
    "print(training_labels.shape)\n",
    "\n",
    "samples_count = training_data.shape[0]\n",
    "\n",
    "train_size = math.floor(0.85*training_data.shape[0])\n",
    "\n",
    "shuffle_indices = random.sample(range(0, samples_count), samples_count)\n",
    "\n",
    "indices_train = shuffle_indices[0:train_size]\n",
    "indices_test = shuffle_indices[train_size+1:samples_count]\n",
    "\n",
    "X_train = training_data[indices_train,:]\n",
    "Y_train = training_labels[indices_train]\n",
    "\n",
    "X_test = training_data[indices_test,:]\n",
    "Y_test = training_labels[indices_test]\n",
    "\n",
    "print('X_train.shape : ', X_train.shape)\n",
    "print('X_test.shape : ', X_test.shape)\n",
    "\n",
    "print('Y_train.shape : ', Y_train.shape)\n",
    "print('Y_test.shape : ', Y_test.shape)\n",
    "\n",
    "np.save('X_test.npy', X_test)\n",
    "np.save('Y_test.npy', Y_test)\n",
    "\n",
    "model = Sequential()\n",
    "\n",
    "# Layer 1\n",
    "model.add(Conv2D(64, input_shape=(100,1600,1), kernel_size=(2,1), strides=(1,1), padding='same'))\n",
    "#model.add(Conv2D(48, input_shape=(400,11,1), kernel_size=(2,2), strides=(1,1), padding='same'))\n",
    "model.add(BatchNormalization())\n",
    "model.add(Activation('relu'))\n",
    "model.add(MaxPooling2D(pool_size=(1, 2)))\n",
    "\n",
    "# Layer 2\n",
    "model.add(Conv2D(32, (2, 1), padding='same'))\n",
    "model.add(BatchNormalization())\n",
    "model.add(Activation('relu'))\n",
    "model.add(MaxPooling2D(pool_size=(1, 2)))\n",
    "\n",
    "# Layer 3\n",
    "model.add(Conv2D(16, (2, 1), padding='same'))\n",
    "model.add(BatchNormalization())\n",
    "model.add(Activation('relu'))\n",
    "model.add(MaxPooling2D(pool_size=(1, 2)))\n",
    "\n",
    "# Layer 4\n",
    "model.add(Conv2D(1, (2, 1), padding='same'))\n",
    "model.add(BatchNormalization())\n",
    "model.add(Activation('relu'))\n",
    "model.add(MaxPooling2D(pool_size=(1, 2)))\n",
    "\n",
    "model.summary()"
   ]
  },
  {
   "cell_type": "code",
   "execution_count": 26,
   "metadata": {},
   "outputs": [],
   "source": [
    "# (4) Compile \n",
    "#model.compile(loss='mse', optimizer='adam', metrics=['accuracy'])\n",
    "model.compile(loss='mean_absolute_error', optimizer='adam', metrics=['accuracy'])"
   ]
  },
  {
   "cell_type": "code",
   "execution_count": 27,
   "metadata": {},
   "outputs": [
    {
     "name": "stdout",
     "output_type": "stream",
     "text": [
      "Train on 425 samples, validate on 74 samples\n",
      "Epoch 1/30\n",
      "425/425 [==============================] - 159s 374ms/step - loss: 0.2696 - accuracy: 0.6477 - val_loss: 0.2300 - val_accuracy: 0.6416\n",
      "Epoch 2/30\n",
      "425/425 [==============================] - 148s 349ms/step - loss: 0.2268 - accuracy: 0.6472 - val_loss: 0.2516 - val_accuracy: 0.6416\n",
      "Epoch 3/30\n",
      "425/425 [==============================] - 156s 366ms/step - loss: 0.2126 - accuracy: 0.6477 - val_loss: 0.2673 - val_accuracy: 0.6416\n",
      "Epoch 4/30\n",
      "425/425 [==============================] - 155s 364ms/step - loss: 0.2110 - accuracy: 0.6477 - val_loss: 0.2693 - val_accuracy: 0.6416\n",
      "Epoch 5/30\n",
      "425/425 [==============================] - 152s 358ms/step - loss: 0.2107 - accuracy: 0.6476 - val_loss: 0.2769 - val_accuracy: 0.6416\n",
      "Epoch 6/30\n",
      "425/425 [==============================] - 174s 408ms/step - loss: 0.2101 - accuracy: 0.6477 - val_loss: 0.2668 - val_accuracy: 0.6416\n",
      "Epoch 7/30\n",
      "425/425 [==============================] - 136s 320ms/step - loss: 0.2097 - accuracy: 0.6478 - val_loss: 0.2638 - val_accuracy: 0.6416\n",
      "Epoch 8/30\n",
      "425/425 [==============================] - 149s 350ms/step - loss: 0.2101 - accuracy: 0.6475 - val_loss: 0.2745 - val_accuracy: 0.6416\n",
      "Epoch 9/30\n",
      "425/425 [==============================] - 139s 327ms/step - loss: 0.2095 - accuracy: 0.6477 - val_loss: 0.2661 - val_accuracy: 0.6416\n",
      "Epoch 10/30\n",
      "425/425 [==============================] - 139s 328ms/step - loss: 0.2093 - accuracy: 0.6477 - val_loss: 0.2649 - val_accuracy: 0.6416\n",
      "Epoch 11/30\n",
      "425/425 [==============================] - 141s 331ms/step - loss: 0.2093 - accuracy: 0.6477 - val_loss: 0.2707 - val_accuracy: 0.6416\n",
      "Epoch 12/30\n",
      "425/425 [==============================] - 142s 335ms/step - loss: 0.2097 - accuracy: 0.6477 - val_loss: 0.2704 - val_accuracy: 0.6416\n",
      "Epoch 13/30\n",
      "425/425 [==============================] - 143s 336ms/step - loss: 0.2099 - accuracy: 0.6478 - val_loss: 0.2106 - val_accuracy: 0.6416\n",
      "Epoch 14/30\n",
      "425/425 [==============================] - 153s 361ms/step - loss: 0.2089 - accuracy: 0.6476 - val_loss: 0.2129 - val_accuracy: 0.6416\n",
      "Epoch 15/30\n",
      "425/425 [==============================] - 188s 443ms/step - loss: 0.2091 - accuracy: 0.6477 - val_loss: 0.2240 - val_accuracy: 0.6415\n",
      "Epoch 16/30\n",
      "425/425 [==============================] - 201s 473ms/step - loss: 0.2090 - accuracy: 0.6477 - val_loss: 0.2401 - val_accuracy: 0.6415\n",
      "Epoch 17/30\n",
      "425/425 [==============================] - 190s 448ms/step - loss: 0.2088 - accuracy: 0.6477 - val_loss: 0.2500 - val_accuracy: 0.6415\n",
      "Epoch 18/30\n",
      "425/425 [==============================] - 194s 456ms/step - loss: 0.2090 - accuracy: 0.6476 - val_loss: 0.2435 - val_accuracy: 0.6414\n",
      "Epoch 19/30\n",
      "425/425 [==============================] - 189s 445ms/step - loss: 0.2091 - accuracy: 0.6477 - val_loss: 0.2276 - val_accuracy: 0.6414\n",
      "Epoch 20/30\n",
      "425/425 [==============================] - 162s 382ms/step - loss: 0.2089 - accuracy: 0.6478 - val_loss: 0.2328 - val_accuracy: 0.6416\n",
      "Epoch 21/30\n",
      "425/425 [==============================] - 151s 354ms/step - loss: 0.2089 - accuracy: 0.6476 - val_loss: 0.2349 - val_accuracy: 0.6413\n",
      "Epoch 22/30\n",
      "425/425 [==============================] - 152s 358ms/step - loss: 0.2093 - accuracy: 0.6478 - val_loss: 0.2548 - val_accuracy: 0.6413\n",
      "Epoch 23/30\n",
      "425/425 [==============================] - 153s 361ms/step - loss: 0.2091 - accuracy: 0.6476 - val_loss: 0.2829 - val_accuracy: 0.6412\n",
      "Epoch 24/30\n",
      "425/425 [==============================] - 153s 361ms/step - loss: 0.2087 - accuracy: 0.6477 - val_loss: 0.2672 - val_accuracy: 0.6408\n",
      "Epoch 25/30\n",
      "425/425 [==============================] - 153s 360ms/step - loss: 0.2085 - accuracy: 0.6476 - val_loss: 0.2523 - val_accuracy: 0.6415\n",
      "Epoch 26/30\n",
      "425/425 [==============================] - 152s 358ms/step - loss: 0.2085 - accuracy: 0.6477 - val_loss: 0.2289 - val_accuracy: 0.6410\n",
      "Epoch 27/30\n",
      "425/425 [==============================] - 152s 358ms/step - loss: 0.2089 - accuracy: 0.6476 - val_loss: 0.2258 - val_accuracy: 0.6413\n",
      "Epoch 28/30\n",
      "425/425 [==============================] - 153s 360ms/step - loss: 0.2086 - accuracy: 0.6476 - val_loss: 0.2508 - val_accuracy: 0.6410\n",
      "Epoch 29/30\n",
      "425/425 [==============================] - 153s 360ms/step - loss: 0.2086 - accuracy: 0.6477 - val_loss: 0.2469 - val_accuracy: 0.6415\n",
      "Epoch 30/30\n",
      "425/425 [==============================] - 153s 359ms/step - loss: 0.2084 - accuracy: 0.6476 - val_loss: 0.2487 - val_accuracy: 0.6415\n"
     ]
    }
   ],
   "source": [
    "# (5) Train\n",
    "model.fit(X_train, Y_train, validation_data=(X_test, Y_test), batch_size=16, epochs=30, verbose=1)\n",
    "\n",
    "model.save('CNN_model_03.h5')"
   ]
  },
  {
   "cell_type": "code",
   "execution_count": null,
   "metadata": {},
   "outputs": [],
   "source": []
  }
 ],
 "metadata": {
  "kernelspec": {
   "display_name": "Python 3",
   "language": "python",
   "name": "python3"
  },
  "language_info": {
   "codemirror_mode": {
    "name": "ipython",
    "version": 3
   },
   "file_extension": ".py",
   "mimetype": "text/x-python",
   "name": "python",
   "nbconvert_exporter": "python",
   "pygments_lexer": "ipython3",
   "version": "3.7.3"
  }
 },
 "nbformat": 4,
 "nbformat_minor": 2
}
