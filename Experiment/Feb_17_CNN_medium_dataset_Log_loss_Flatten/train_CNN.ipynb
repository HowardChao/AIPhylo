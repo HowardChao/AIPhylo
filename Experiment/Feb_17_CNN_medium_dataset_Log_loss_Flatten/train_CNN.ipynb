{
 "cells": [
  {
   "cell_type": "code",
   "execution_count": 1,
   "metadata": {},
   "outputs": [
    {
     "name": "stderr",
     "output_type": "stream",
     "text": [
      "Using TensorFlow backend.\n"
     ]
    }
   ],
   "source": [
    "import numpy as np\n",
    "import keras\n",
    "import keras.backend as K\n",
    "from keras.models import Sequential\n",
    "from keras.layers import Dense, Activation, Dropout, Flatten, Conv2D, MaxPooling2D, ZeroPadding2D\n",
    "from keras.layers.normalization import BatchNormalization\n",
    "from PIL import Image\n",
    "import random\n",
    "import math\n",
    "import matplotlib.pyplot as plt\n",
    "import dendropy\n",
    "import csv\n",
    "from dendropy.calculate import treecompare\n",
    "import sys\n",
    "import numpy\n",
    "numpy.set_printoptions(threshold=sys.maxsize)"
   ]
  },
  {
   "cell_type": "markdown",
   "metadata": {},
   "source": [
    "# Loading Data"
   ]
  },
  {
   "cell_type": "code",
   "execution_count": 2,
   "metadata": {},
   "outputs": [],
   "source": [
    "whole_data = np.load('../../Data_Preprocessing/output/5000_Dataset/training_data.npy')\n",
    "whole_labels_cub = np.load('../../Data_Preprocessing/output/5000_Dataset/training_dists_cub.npy')\n",
    "whole_labels_flatten = np.load('../../Data_Preprocessing/output/5000_Dataset/training_dists_flatten.npy')"
   ]
  },
  {
   "cell_type": "code",
   "execution_count": 3,
   "metadata": {},
   "outputs": [],
   "source": [
    "BRANCH_NUM = 100\n",
    "SEQUENCE_LEN = 1000\n",
    "\n",
    "OUTPUT_DIST_NUM = int((BRANCH_NUM - 1) * BRANCH_NUM / 2)"
   ]
  },
  {
   "cell_type": "code",
   "execution_count": 4,
   "metadata": {},
   "outputs": [
    {
     "name": "stdout",
     "output_type": "stream",
     "text": [
      "(5174, 100, 1000, 1)\n",
      "(5174, 100, 100, 1)\n",
      "(5174, 4950)\n"
     ]
    }
   ],
   "source": [
    "print(whole_data.shape)\n",
    "print(whole_labels_cub.shape)\n",
    "print(whole_labels_flatten.shape)"
   ]
  },
  {
   "cell_type": "markdown",
   "metadata": {},
   "source": [
    "### Plot before shuffle"
   ]
  },
  {
   "cell_type": "code",
   "execution_count": 5,
   "metadata": {},
   "outputs": [
    {
     "data": {
      "image/png": "[encoded data removed]",
      "text/plain": [
       "<Figure size 432x288 with 1 Axes>"
      ]
     },
     "metadata": {
      "needs_background": "light"
     },
     "output_type": "display_data"
    }
   ],
   "source": [
    "whole_data_before_shuffle = whole_data.reshape((whole_data.shape[0]*100, 1000))\n",
    "plt.imshow(whole_data_before_shuffle, cmap='hot', interpolation='nearest', aspect='auto')\n",
    "plt.show()"
   ]
  },
  {
   "cell_type": "markdown",
   "metadata": {},
   "source": [
    "## Shuffle each input sampe (dim: 100 * 1000)"
   ]
  },
  {
   "cell_type": "markdown",
   "metadata": {},
   "source": [
    "#### Use the same index for all input sample"
   ]
  },
  {
   "cell_type": "code",
   "execution_count": 6,
   "metadata": {},
   "outputs": [],
   "source": [
    "shuffle_indices_100 = random.sample(range(0, 100), 100)\n",
    "shuffle_indices_1000 = random.sample(range(0, 1000), 1000)"
   ]
  },
  {
   "cell_type": "code",
   "execution_count": 7,
   "metadata": {},
   "outputs": [],
   "source": [
    "for i in range(whole_data.shape[0]):\n",
    "    tmp = whole_data[i][shuffle_indices_100]\n",
    "    tmp = tmp[:, shuffle_indices_1000]\n",
    "    whole_data[i] = tmp"
   ]
  },
  {
   "cell_type": "markdown",
   "metadata": {},
   "source": [
    "### Plot after shuffle"
   ]
  },
  {
   "cell_type": "code",
   "execution_count": 8,
   "metadata": {},
   "outputs": [
    {
     "data": {
      "image/png": "[encoded data removed]",
      "text/plain": [
       "<Figure size 432x288 with 1 Axes>"
      ]
     },
     "metadata": {
      "needs_background": "light"
     },
     "output_type": "display_data"
    }
   ],
   "source": [
    "whole_data_after_shuffle = whole_data.reshape((whole_data.shape[0]*100, 1000))\n",
    "plt.imshow(whole_data_after_shuffle, cmap='hot', interpolation='nearest', aspect='auto')\n",
    "plt.show()"
   ]
  },
  {
   "cell_type": "markdown",
   "metadata": {},
   "source": [
    "# Training Testing Dataset Partition"
   ]
  },
  {
   "cell_type": "code",
   "execution_count": 9,
   "metadata": {
    "scrolled": false
   },
   "outputs": [
    {
     "name": "stdout",
     "output_type": "stream",
     "text": [
      "5174\n"
     ]
    }
   ],
   "source": [
    "samples_count = whole_data.shape[0]\n",
    "\n",
    "train_size = math.floor(0.85*whole_data.shape[0])\n",
    "\n",
    "shuffle_indices = random.sample(range(0, samples_count), samples_count)\n",
    "\n",
    "print(len(np.unique(shuffle_indices)))"
   ]
  },
  {
   "cell_type": "code",
   "execution_count": 10,
   "metadata": {},
   "outputs": [],
   "source": [
    "indices_train = shuffle_indices[0:train_size]\n",
    "indices_test = shuffle_indices[train_size:samples_count]"
   ]
  },
  {
   "cell_type": "code",
   "execution_count": 24,
   "metadata": {},
   "outputs": [
    {
     "name": "stdout",
     "output_type": "stream",
     "text": [
      "######## Training Data ########\n"
     ]
    },
    {
     "ename": "KeyboardInterrupt",
     "evalue": "",
     "output_type": "error",
     "traceback": [
      "\u001b[0;31m---------------------------------------------------------------------------\u001b[0m",
      "\u001b[0;31mKeyboardInterrupt\u001b[0m                         Traceback (most recent call last)",
      "\u001b[0;32m<ipython-input-24-4558aa409f54>\u001b[0m in \u001b[0;36m<module>\u001b[0;34m\u001b[0m\n\u001b[1;32m      1\u001b[0m \u001b[0mprint\u001b[0m\u001b[0;34m(\u001b[0m\u001b[0;34m\"######## Training Data ########\"\u001b[0m\u001b[0;34m)\u001b[0m\u001b[0;34m\u001b[0m\u001b[0;34m\u001b[0m\u001b[0m\n\u001b[0;32m----> 2\u001b[0;31m \u001b[0mX_train\u001b[0m \u001b[0;34m=\u001b[0m \u001b[0mwhole_data\u001b[0m\u001b[0;34m[\u001b[0m\u001b[0mindices_train\u001b[0m\u001b[0;34m,\u001b[0m\u001b[0;34m:\u001b[0m\u001b[0;34m]\u001b[0m\u001b[0;34m\u001b[0m\u001b[0;34m\u001b[0m\u001b[0m\n\u001b[0m\u001b[1;32m      3\u001b[0m \u001b[0mY_train_cub\u001b[0m \u001b[0;34m=\u001b[0m \u001b[0mwhole_labels_cub\u001b[0m\u001b[0;34m[\u001b[0m\u001b[0mindices_train\u001b[0m\u001b[0;34m]\u001b[0m\u001b[0;34m\u001b[0m\u001b[0;34m\u001b[0m\u001b[0m\n\u001b[1;32m      4\u001b[0m \u001b[0mY_train_flatten\u001b[0m \u001b[0;34m=\u001b[0m \u001b[0mwhole_labels_flatten\u001b[0m\u001b[0;34m[\u001b[0m\u001b[0mindices_train\u001b[0m\u001b[0;34m]\u001b[0m\u001b[0;34m\u001b[0m\u001b[0;34m\u001b[0m\u001b[0m\n\u001b[1;32m      5\u001b[0m \u001b[0;34m\u001b[0m\u001b[0m\n",
      "\u001b[0;31mKeyboardInterrupt\u001b[0m: "
     ]
    }
   ],
   "source": [
    "print(\"######## Training Data ########\")\n",
    "X_train = whole_data[indices_train,:]\n",
    "Y_train_cub = whole_labels_cub[indices_train]\n",
    "Y_train_flatten = whole_labels_flatten[indices_train]\n",
    "\n",
    "print(\"######## Validation Data ########\")\n",
    "X_test = whole_data[indices_test,:]\n",
    "Y_test_cub = whole_labels_cub[indices_test]\n",
    "Y_test_flatten = whole_labels_flatten[indices_test]\n",
    "\n",
    "print('X_train.shape : ', X_train.shape)\n",
    "print('X_test.shape : ', Y_train_cub.shape)\n",
    "\n",
    "print('Y_train_cub.shape : ', Y_train_cub.shape)\n",
    "print('Y_test_cub.shape : ', Y_test_cub.shape)\n",
    "print('Y_train_flatten.shape : ', Y_train_flatten.shape)\n",
    "print('Y_test_flatten.shape : ', Y_test_flatten.shape)# Training Testing Dataset Partition"
   ]
  },
  {
   "cell_type": "markdown",
   "metadata": {},
   "source": [
    "### Plot for shuffled X_train (samples)"
   ]
  },
  {
   "cell_type": "code",
   "execution_count": 12,
   "metadata": {},
   "outputs": [],
   "source": [
    "X_train_shuffle = X_train.reshape((X_train.shape[0]*100, 1000))"
   ]
  },
  {
   "cell_type": "code",
   "execution_count": 14,
   "metadata": {},
   "outputs": [
    {
     "data": {
      "image/png": "[encoded data removed]",
      "text/plain": [
       "<Figure size 432x288 with 1 Axes>"
      ]
     },
     "metadata": {
      "needs_background": "light"
     },
     "output_type": "display_data"
    }
   ],
   "source": [
    "plt.imshow(X_train_shuffle, cmap='hot', interpolation='nearest', aspect='auto')\n",
    "plt.show()"
   ]
  },
  {
   "cell_type": "markdown",
   "metadata": {},
   "source": [
    "### Plot for shuffled X_test (samples)"
   ]
  },
  {
   "cell_type": "code",
   "execution_count": 15,
   "metadata": {},
   "outputs": [],
   "source": [
    "X_test_shuffle = X_test.reshape((X_test.shape[0]*100, 1000))"
   ]
  },
  {
   "cell_type": "code",
   "execution_count": 16,
   "metadata": {},
   "outputs": [
    {
     "data": {
      "image/png": "[encoded data removed]",
      "text/plain": [
       "<Figure size 432x288 with 1 Axes>"
      ]
     },
     "metadata": {
      "needs_background": "light"
     },
     "output_type": "display_data"
    }
   ],
   "source": [
    "plt.imshow(X_test_shuffle, cmap='hot', interpolation='nearest', aspect='auto')\n",
    "plt.show()"
   ]
  },
  {
   "cell_type": "code",
   "execution_count": 17,
   "metadata": {},
   "outputs": [],
   "source": [
    "np.save('./output/X_train.npy', X_train)\n",
    "np.save('./output/Y_train_cub.npy', Y_train_cub)\n",
    "np.save('./output/Y_train_flatten.npy', Y_train_flatten)\n",
    "\n",
    "np.save('./output/X_test.npy', X_test)\n",
    "np.save('./output/Y_test_cub.npy', Y_test_cub)\n",
    "np.save('./output/Y_test_flatten.npy', Y_test_flatten)"
   ]
  },
  {
   "cell_type": "markdown",
   "metadata": {},
   "source": [
    "### Load Data"
   ]
  },
  {
   "cell_type": "code",
   "execution_count": 25,
   "metadata": {},
   "outputs": [],
   "source": [
    "X_train = np.load('./output/X_train.npy')\n",
    "Y_train_cub = np.load('./output/Y_train_cub.npy')\n",
    "Y_train_flatten = np.load('./output/Y_train_flatten.npy')\n",
    "\n",
    "X_test = np.load('./output/X_test.npy')\n",
    "Y_test_cub = np.load('./output/Y_test_cub.npy')\n",
    "Y_test_flatten = np.load('./output/Y_test_flatten.npy')"
   ]
  },
  {
   "cell_type": "code",
   "execution_count": 19,
   "metadata": {},
   "outputs": [],
   "source": [
    "# model = Sequential()\n",
    "\n",
    "# # Layer 1\n",
    "# model.add(Conv2D(64, input_shape=X_train.shape[1:], kernel_size=(3,3), strides=(1,1), padding='same'))\n",
    "# #model.add(Conv2D(48, input_shape=(400,11,1), kernel_size=(2,2), strides=(1,1), padding='same'))\n",
    "# model.add(BatchNormalization())\n",
    "# model.add(Activation('relu'))\n",
    "# # model.add(MaxPooling2D(pool_size=(1, 2)))\n",
    "\n",
    "# # Layer 2\n",
    "# model.add(Conv2D(32, (3,3), padding='same'))\n",
    "# model.add(BatchNormalization())\n",
    "# model.add(Activation('relu'))\n",
    "# # model.add(MaxPooling2D(pool_size=(1, 2)))\n",
    "\n",
    "# # Layer 3\n",
    "# model.add(Conv2D(16, (3,3), padding='same'))\n",
    "# model.add(BatchNormalization())\n",
    "# model.add(Activation('relu'))\n",
    "# # model.add(MaxPooling2D(pool_size=(1, 2)))\n",
    "\n",
    "# # Layer 4\n",
    "# model.add(Conv2D(1, (2, 1), padding='same'))\n",
    "# model.add(BatchNormalization())\n",
    "# model.add(Activation('relu'))\n",
    "# model.add(MaxPooling2D(pool_size=(1, 2)))\n"
   ]
  },
  {
   "cell_type": "code",
   "execution_count": 28,
   "metadata": {},
   "outputs": [],
   "source": [
    "model = Sequential()\n",
    "\n",
    "# Layer 1\n",
    "model.add(Conv2D(100, input_shape=X_train.shape[1:], kernel_size=(100,1), strides=(1,1)))\n",
    "#model.add(Conv2D(48, input_shape=(400,11,1), kernel_size=(2,2), strides=(1,1), padding='same'))\n",
    "model.add(BatchNormalization())\n",
    "model.add(Activation('relu'))\n",
    "model.add(MaxPooling2D(pool_size=(1, 1)))\n",
    "\n",
    "# Layer 2\n",
    "model.add(Conv2D(10, (1, 2)))\n",
    "model.add(BatchNormalization())\n",
    "model.add(Activation('relu'))\n",
    "model.add(MaxPooling2D(pool_size=(1, 1)))\n",
    "\n",
    "# Layer 3\n",
    "model.add(Conv2D(5, (1, 2)))\n",
    "model.add(BatchNormalization())\n",
    "model.add(Activation('relu'))\n",
    "model.add(MaxPooling2D(pool_size=(1, 1)))\n",
    "\n",
    "# Layer 4\n",
    "model.add(Conv2D(1, (1, 2)))\n",
    "model.add(BatchNormalization())\n",
    "model.add(Activation('relu'))\n",
    "model.add(MaxPooling2D(pool_size=(1, 1)))\n",
    "\n",
    "# Layer 5\n",
    "model.add(Flatten())\n",
    "model.add(Dense(OUTPUT_DIST_NUM, activation='relu'))"
   ]
  },
  {
   "cell_type": "code",
   "execution_count": 29,
   "metadata": {},
   "outputs": [
    {
     "name": "stdout",
     "output_type": "stream",
     "text": [
      "Model: \"sequential_5\"\n",
      "_________________________________________________________________\n",
      "Layer (type)                 Output Shape              Param #   \n",
      "=================================================================\n",
      "conv2d_5 (Conv2D)            (None, 1, 1000, 100)      10100     \n",
      "_________________________________________________________________\n",
      "batch_normalization_1 (Batch (None, 1, 1000, 100)      400       \n",
      "_________________________________________________________________\n",
      "activation_1 (Activation)    (None, 1, 1000, 100)      0         \n",
      "_________________________________________________________________\n",
      "max_pooling2d_1 (MaxPooling2 (None, 1, 1000, 100)      0         \n",
      "_________________________________________________________________\n",
      "conv2d_6 (Conv2D)            (None, 1, 999, 10)        2010      \n",
      "_________________________________________________________________\n",
      "batch_normalization_2 (Batch (None, 1, 999, 10)        40        \n",
      "_________________________________________________________________\n",
      "activation_2 (Activation)    (None, 1, 999, 10)        0         \n",
      "_________________________________________________________________\n",
      "max_pooling2d_2 (MaxPooling2 (None, 1, 999, 10)        0         \n",
      "_________________________________________________________________\n",
      "conv2d_7 (Conv2D)            (None, 1, 998, 5)         105       \n",
      "_________________________________________________________________\n",
      "batch_normalization_3 (Batch (None, 1, 998, 5)         20        \n",
      "_________________________________________________________________\n",
      "activation_3 (Activation)    (None, 1, 998, 5)         0         \n",
      "_________________________________________________________________\n",
      "max_pooling2d_3 (MaxPooling2 (None, 1, 998, 5)         0         \n",
      "_________________________________________________________________\n",
      "conv2d_8 (Conv2D)            (None, 1, 997, 1)         11        \n",
      "_________________________________________________________________\n",
      "batch_normalization_4 (Batch (None, 1, 997, 1)         4         \n",
      "_________________________________________________________________\n",
      "activation_4 (Activation)    (None, 1, 997, 1)         0         \n",
      "_________________________________________________________________\n",
      "max_pooling2d_4 (MaxPooling2 (None, 1, 997, 1)         0         \n",
      "_________________________________________________________________\n",
      "flatten_1 (Flatten)          (None, 997)               0         \n",
      "_________________________________________________________________\n",
      "dense_1 (Dense)              (None, 4950)              4940100   \n",
      "=================================================================\n",
      "Total params: 4,952,790\n",
      "Trainable params: 4,952,558\n",
      "Non-trainable params: 232\n",
      "_________________________________________________________________\n"
     ]
    }
   ],
   "source": [
    "model.summary()"
   ]
  },
  {
   "cell_type": "code",
   "execution_count": 30,
   "metadata": {},
   "outputs": [],
   "source": [
    "# def log_loss:\n",
    "#     if not K.is_tensor(y_pred):\n",
    "#         y_pred = K.constant(y_pred)\n",
    "#     y_true = K.cast(y_true, y_pred.dtype)\n",
    "    \n",
    "#     return K.log(K.square(y_pred - y_true), axis=-1)"
   ]
  },
  {
   "cell_type": "code",
   "execution_count": 31,
   "metadata": {},
   "outputs": [],
   "source": [
    "# (4) Compile \n",
    "#model.compile(loss='mse', optimizer='adam', metrics=['accuracy'])\n",
    "model.compile(loss='mean_squared_logarithmic_error', optimizer='adam', metrics=['accuracy'])"
   ]
  },
  {
   "cell_type": "code",
   "execution_count": 32,
   "metadata": {},
   "outputs": [],
   "source": [
    "loss_list_epoch= []\n",
    "RF_avg_distance_epoch = []\n",
    "RF_list_distance_epoch = []"
   ]
  },
  {
   "cell_type": "code",
   "execution_count": 34,
   "metadata": {},
   "outputs": [],
   "source": [
    "## This function is defined for vector -> symmetric distance matrix\n",
    "def utri2mat(utri):\n",
    "    n = (int(-1 + np.sqrt(1 + 8*len(utri))) // 2) + 1\n",
    "    iu1 = np.triu_indices(n-1)\n",
    "    iu1 = (iu1[0], iu1[1] + 1)\n",
    "    ret = np.zeros((n, n))\n",
    "    ret[iu1] = utri\n",
    "    ret.T[iu1] = utri\n",
    "    return ret"
   ]
  },
  {
   "cell_type": "code",
   "execution_count": 36,
   "metadata": {},
   "outputs": [
    {
     "name": "stdout",
     "output_type": "stream",
     "text": [
      "******** Start fitting model ********\n",
      "Train on 4397 samples, validate on 777 samples\n",
      "Epoch 1/1\n",
      "4397/4397 [==============================] - 12s 3ms/step - loss: 0.0098 - accuracy: 0.0168 - val_loss: 0.0084 - val_accuracy: 0.0039\n",
      "[0.009762576711726813]\n",
      "******** Start calculating RF Distance ********\n"
     ]
    },
    {
     "name": "stderr",
     "output_type": "stream",
     "text": [
      "/home/howard/miniconda3/lib/python3.7/site-packages/ipykernel_launcher.py:26: CriticalDeprecationWarning: Deprecated since DendroPy 4: 'TaxonSet' will no longer be supported in future releases; use 'TaxonNamespace' instead\n"
     ]
    },
    {
     "name": "stdout",
     "output_type": "stream",
     "text": [
      "RF_list_distance:  [42, 32, 30, 32, 16, 32, 32, 32, 16, 132, 32, 16, 32, 62, 62, 32, 120, 60, 40, 16, 16, 46, 110, 138, 56, 62, 62, 60, 56, 26, 60, 74, 32, 60, 60, 16, 42, 58, 38, 14, 32, 16, 32, 32, 60, 54, 46, 34, 16, 32, 46, 16, 32, 32, 110, 30, 32, 60, 16, 32, 40, 54, 62, 38, 110, 32, 56, 48, 46, 58, 144, 16, 32, 40, 60, 32, 32, 32, 16, 32, 16, 32, 16, 26, 16, 32, 108, 44, 32, 60, 32, 50, 32, 136, 32, 120, 16, 112, 46, 32, 32, 16, 42, 134, 52, 40, 48, 16, 16, 14, 16, 14, 14, 134, 44, 54, 32, 60, 114, 16, 32, 42, 52, 52, 16, 32, 14, 40, 16, 32, 142, 32, 16, 98, 118, 32, 50, 32, 32, 32, 38, 56, 32, 16, 32, 32, 16, 48, 32, 62, 118, 58, 62, 14, 32, 60, 32, 32, 56, 62, 16, 52, 122, 60, 56, 14, 58, 16, 48, 16, 46, 32, 16, 32, 36, 32, 60, 30, 62, 124, 58, 32, 38, 16, 16, 116, 16, 32, 16, 32, 32, 36, 48, 32, 46, 32, 116, 56, 52, 16, 16, 32, 16, 42, 32, 48, 62, 32, 42, 16, 40, 42, 56, 32, 32, 32, 16, 16, 16, 16, 32, 54, 30, 30, 40, 32, 16, 16, 96, 32, 40, 16, 32, 40, 32, 32, 16, 36, 60, 32, 48, 44, 58, 16, 56, 50, 14, 126, 60, 32, 32, 44, 14, 110, 58, 34, 32, 32, 40, 90, 50, 56, 32, 16, 70, 16, 32, 16, 52, 16, 48, 56, 16, 16, 16, 32, 16, 60, 16, 16, 16, 30, 128, 32, 56, 32, 32, 58, 48, 44, 128, 16, 62, 16, 32, 132, 54, 32, 40, 16, 16, 32, 16, 42, 32, 32, 30, 58, 42, 46, 14, 50, 32, 58, 32, 60, 40, 60, 32, 14, 60, 38, 60, 98, 16, 58, 58, 16, 16, 106, 132, 32, 16, 58, 44, 36, 60, 30, 16, 32, 16, 54, 56, 16, 60, 16, 54, 112, 38, 32, 30, 58, 62, 48, 114, 32, 32, 34, 50, 126, 34, 52, 32, 58, 16, 32, 16, 42, 16, 16, 32, 14, 60, 102, 50, 132, 32, 16, 16, 36, 16, 32, 56, 32, 48, 32, 32, 134, 14, 32, 126, 30, 32, 36, 42, 34, 60, 56, 58, 116, 16, 62, 106, 16, 32, 16, 32, 32, 32, 40, 120, 50, 60, 58, 32, 128, 12, 32, 60, 32, 16, 54, 58, 16, 16, 54, 54, 16, 32, 40, 52, 16, 32, 16, 60, 112, 32, 38, 32, 52, 32, 16, 40, 16, 34, 14, 32, 32, 16, 58, 32, 28, 38, 54, 14, 96, 32, 42, 44, 32, 52, 32, 32, 62, 56, 26, 60, 32, 32, 14, 16, 62, 62, 32, 32, 48, 14, 32, 32, 14, 46, 16, 60, 16, 86, 50, 30, 30, 130, 38, 58, 124, 54, 16, 32, 64, 32, 36, 56, 112, 60, 54, 54, 146, 32, 126, 32, 62, 60, 32, 62, 46, 42, 16, 54, 48, 52, 32, 54, 42, 106, 38, 16, 60, 62, 28, 32, 24, 30, 32, 46, 32, 32, 42, 32, 16, 14, 16, 32, 16, 42, 16, 16, 42, 56, 16, 58, 34, 54, 14, 32, 20, 60, 16, 32, 52, 32, 16, 32, 32, 32, 16, 32, 60, 32, 32, 32, 128, 16, 14, 32, 32, 16, 32, 18, 34, 44, 30, 60, 54, 60, 16, 30, 120, 16, 56, 28, 16, 32, 32, 16, 60, 48, 16, 52, 32, 56, 16, 32, 16, 32, 124, 42, 32, 32, 32, 34, 60, 32, 32, 32, 54, 16, 14, 42, 132, 32, 38, 38, 34, 32, 44, 32, 32, 32, 56, 42, 32, 32, 62, 48, 36, 16, 56, 16, 50, 50, 32, 32, 58, 62, 144, 16, 56, 58, 16, 48, 32, 32, 32, 58, 32, 54, 32, 34, 54, 42, 58, 32, 62, 16, 56, 130, 56, 16, 36, 54, 56, 138, 56, 42, 16, 32, 34, 32, 50, 40, 16, 16, 60, 60, 58, 14, 40, 144, 32, 16, 16, 16, 62, 54, 32, 58, 32, 30, 60, 28, 32, 32, 56, 30, 14, 112, 16, 52, 48, 16, 54, 52, 32, 32, 16, 32, 52, 14, 32, 128, 32, 32, 62, 60, 32, 64, 32, 62, 52, 32, 42, 32, 58, 128, 32, 38, 16, 48, 38, 56, 14, 32, 16, 32, 16, 16, 40, 32, 38, 16, 56, 40, 50, 32, 32, 36, 62, 16, 16, 16, 62, 12, 16, 16, 30, 32, 32, 16, 32, 126, 34, 16, 32, 96, 16, 58, 108, 32, 32, 32, 48, 16, 58, 32, 16, 16, 2, 54, 32, 16, 16, 16, 30, 32, 50, 36, 32, 28, 16, 32, 60, 56, 56, 32, 16, 54, 54, 32, 32, 32, 32, 56, 32, 142, 10, 42, 44, 32, 30, 40, 56, 16, 56, 32, 42, 32, 38, 42, 54, 32, 32, 32, 44, 16, 32, 110, 14, 130, 14, 16, 56, 62, 32, 110, 32, 40, 16, 32, 40, 60, 58, 32, 16, 32, 32, 50, 16, 62, 62, 16, 32, 32, 136, 60, 126, 60, 54, 44, 16, 32, 32, 58, 132, 98, 62, 16, 56, 32, 32, 32, 58, 50, 40, 32, 56, 40, 32, 32, 30, 40, 30, 30, 32, 32, 96, 32, 16, 60, 18, 114, 32, 58, 38, 32, 38, 60, 32, 44, 62, 32, 52, 32, 32, 32, 16, 36, 32, 60, 32, 60, 122, 62, 16, 16, 46, 48, 50, 32, 30, 32, 44, 58, 60, 32, 16, 16, 32, 126, 16, 32, 16, 52, 62, 132, 16, 32, 56, 32, 60, 32, 32, 108, 60, 50, 106, 16, 16, 32, 58, 50, 16, 62, 16, 124, 56, 54, 134, 44, 58, 112, 118, 32, 124, 126, 16, 40, 28, 16, 126, 16, 48, 60, 52, 42, 62, 34, 60, 100, 56, 54, 32, 32, 16, 32, 32, 60, 14, 62, 60, 56, 56, 56, 32, 16, 16, 16, 16, 114, 32, 32, 38, 16, 32, 32, 32, 32, 32, 16, 50, 58, 32, 16, 32, 16, 118, 32, 14, 62, 16, 60, 32, 32, 124, 32, 32, 62, 62, 52, 60, 60, 32, 62, 116, 32, 52, 60, 98, 32, 32, 62, 36, 142, 32, 44, 60, 32, 36, 142, 62, 32, 56, 32, 32, 58, 32, 32, 32, 16, 16, 14, 32, 32, 58, 72, 60, 32, 32, 56, 14, 16, 42, 32, 130, 54, 134, 56, 54, 32, 58, 16, 32, 16, 50, 44, 32, 32, 30, 16, 32, 32, 32, 32, 46, 54, 52, 32, 30, 52, 32, 34, 34, 58, 56, 16, 16, 128, 32, 16, 42, 16, 60, 36, 16, 50, 16, 16, 16, 40, 56, 16, 32, 16, 122, 16, 140, 32, 58, 16, 32, 16, 14, 32, 16, 38, 54, 32, 32, 14, 60, 126, 134, 60, 32, 16, 16, 42, 32, 14, 32, 32, 32, 42, 16, 16, 118, 116, 16, 118, 40, 16, 32, 34, 50, 16, 32, 58, 58, 32, 32, 56, 62, 42, 60, 28, 32, 44, 32, 16, 52, 32, 58, 58, 32, 128, 16, 32, 30, 32, 134, 16, 134, 16, 32, 32, 32, 32, 16, 30, 16, 112, 40, 14, 32, 62, 32, 32, 50, 126, 32, 16, 32, 16, 32, 32, 126, 42, 130, 56, 32, 32, 60, 134, 40, 36, 42, 16, 32, 16, 32, 58, 62, 14, 58, 112, 16, 34, 128, 52, 32, 52, 16, 32, 32, 116, 60, 16, 32, 120, 58, 32, 62, 14, 58, 16, 32, 32, 32, 52, 42, 32, 52, 32, 118, 18, 32, 54, 56, 32, 62, 52, 58, 32, 32, 40, 32, 60, 16, 62, 16, 16, 32, 96, 32, 16, 44, 54, 36, 46, 126, 32, 60, 14, 32, 32, 16, 116, 50, 54, 30, 16, 16, 32, 134, 50, 32, 60, 60, 32, 32, 16, 32, 32, 16, 14, 130, 32, 32, 32, 14, 62, 54, 54, 32, 56, 32, 60, 52, 60, 32, 14, 60, 44, 54, 56, 32, 58, 32, 32, 16, 16, 30, 32, 32, 38, 54, 58, 128, 54, 32, 32, 58, 16, 58, 24, 32, 16, 44, 32, 62, 62, 60, 120, 32, 84, 16, 38, 16, 38, 32, 56, 58, 32, 30, 56, 54, 32, 46, 46, 112, 132, 32, 16, 46, 58, 62, 58, 46, 32, 56, 62, 54, 32, 40, 58, 62, 16, 16, 52, 38, 32, 32, 16, 30, 62, 60, 60, 110, 32, 32, 62, 16, 56, 52, 14, 16, 118, 16, 118, 32, 32, 32, 32, 16, 16, 32, 32, 32, 32, 58, 42, 32, 14, 32, 56, 42, 16, 62, 14, 44, 32, 40, 54, 16, 46, 42, 56, 16, 56, 16, 60, 58, 16, 58, 44, 60, 16, 30, 36, 16, 42, 16, 36, 16, 118, 32, 60, 58, 32, 46, 30, 32, 16, 60, 16, 38, 128, 32, 46, 102, 32, 32, 58, 54, 32, 32, 16, 38, 16, 32, 30, 14, 16, 120, 32, 32, 54, 52, 42, 136, 44, 46, 32, 32, 32, 32, 32, 44, 32, 32, 16, 62, 58, 46, 30, 46, 16, 30, 16, 16, 60, 32, 54, 62, 32, 54, 54, 32, 32, 32, 32, 32, 58, 56, 32, 16, 56, 130, 16, 32, 32, 52, 30, 24, 30, 26, 30, 32, 16, 32, 124, 54, 62, 54, 58, 100, 32, 58, 128, 14, 32, 58, 130, 32, 16, 16, 16, 32, 14, 58, 16, 32, 38, 56, 62, 46, 56, 58, 30, 32, 16, 24, 58, 146, 32, 58, 40, 32, 32, 52, 32, 32, 14, 58, 16, 50, 16, 60, 124, 16, 32, 14, 54, 16, 32, 32, 56, 16, 32, 142, 96, 16, 60, 60, 32, 56, 46, 38, 16, 16, 14, 32, 48, 32, 40, 32, 32, 32, 46, 16, 32, 14, 32, 58, 62, 32, 140, 32, 16, 30, 58, 32, 16, 32, 54, 54, 56, 32, 130, 58, 60, 58, 58, 16, 32, 42, 16, 56, 132, 14, 56, 58, 32, 32, 58, 32, 32, 60, 16, 108, 12, 32, 34, 42, 16, 38, 36, 32, 32, 54, 16, 72, 102, 44, 32, 128, 16, 16, 60, 32, 16, 56, 32, 32, 36, 42, 52, 32, 44, 62, 56, 56, 32, 48, 16, 32, 50, 44, 110, 62, 16, 32, 32, 50, 16, 32, 42, 16, 16, 62, 52, 16, 48, 56, 28, 116, 116, 16, 16, 32, 42, 134, 16, 16, 48, 16, 16, 32, 32, 56, 48, 60, 58, 32, 36, 16, 38, 36, 60, 30, 32, 32, 60, 16, 36, 56, 32, 16, 32, 60, 16, 32, 32, 50, 40, 120, 128, 16, 100, 16, 34, 50, 16, 54, 40, 118, 32, 50, 60, 58, 50, 62, 32, 40, 32, 16, 58, 32, 16, 60, 32, 72, 16, 60, 32, 134, 36, 16, 56, 44, 16, 30, 32, 34, 32, 46, 126, 58, 16, 32, 32, 32, 32, 48, 32, 32, 16, 32, 46, 32, 58, 120, 16, 122, 56, 32, 16, 128, 32, 16, 16, 14, 28, 58, 16, 32, 32, 32, 16, 32, 36, 42, 58, 32, 32, 32, 62, 50, 32, 56, 42, 54, 16, 30, 62, 52, 52, 72, 60, 62, 14, 32, 38, 62, 16, 32, 16, 58, 16, 30, 32, 16, 28, 16, 14, 14, 136, 112, 32, 16, 14, 32, 16, 16, 32, 62, 58, 16, 58, 14, 44, 54, 30, 16, 46, 16, 32, 16, 32, 32, 16, 16, 32, 16, 32, 16, 46, 58, 38, 32, 48, 60, 134, 16, 128, 52, 32, 58, 32, 16, 32, 36, 32, 32, 54, 32, 14, 58, 32, 32, 62, 108, 32, 32, 130, 36, 32, 32, 112, 40, 16, 56, 62, 54, 58, 130, 16, 116, 54, 56, 16, 36, 60, 16, 40, 58, 16, 50, 16, 16, 32, 106, 52, 50, 16, 30, 46, 56, 16, 36, 56, 16, 32, 56, 32, 16, 32, 32, 32, 32, 30, 32, 56, 24, 30, 56, 16, 30, 72, 34, 36, 2, 16, 60, 30, 16, 32, 52, 32, 56, 16, 118, 32, 32, 58, 56, 16, 54, 14, 32, 16, 32, 32, 16, 112, 32, 32, 52, 16, 32, 36, 32, 16, 54, 60, 30, 30, 32, 36, 52, 72, 32, 58, 54, 46, 16, 62, 32, 32, 100, 16, 102, 114, 16, 98, 54, 130, 44, 16, 32, 16, 16, 16, 62, 16, 60, 16, 30, 32, 38, 56, 16, 32, 138, 42, 30, 16, 32, 56, 16, 32, 58, 32, 30, 60, 58, 110, 42, 32, 46, 130, 58, 32, 62, 32, 14, 44, 126, 12, 16, 16, 12, 32, 32, 56, 32, 34, 38, 32, 16, 62, 32, 58, 16, 32, 116, 16, 32, 16, 32, 54, 60, 32, 32, 32, 58, 60, 122, 14, 16, 32, 60, 32, 30, 54, 32, 136, 54, 48, 30, 14, 74, 60, 32, 16, 128, 16, 32, 32, 130, 62, 30, 56, 32, 56, 56, 32, 58, 32, 124, 60, 32, 32, 60, 16, 16, 32, 62, 58, 16, 32, 42, 122, 58, 62, 32, 48, 32, 54, 14, 32, 32, 32, 14, 16, 40, 38, 130, 32, 16, 32, 42, 16, 32, 72, 58, 118, 32, 28, 58, 58, 54, 32, 16, 32, 32, 16, 16, 30, 58, 16, 32, 32, 56, 60, 38, 42, 42, 32, 62, 128, 16, 16, 54, 60, 32, 32, 130, 16, 36, 52, 38, 134, 32, 16, 10, 16, 12, 16, 48, 16, 32, 36, 16, 16, 30, 60, 32, 30, 58, 32, 48, 112, 32, 16, 60, 32, 32, 32, 118, 32, 16, 32, 38, 14, 128, 32, 32, 54, 16, 16, 36, 60, 36, 114, 132, 46, 54, 16, 60, 32, 14, 60, 32, 16, 32, 16, 52, 32, 42, 40, 60, 16, 32, 32, 16, 114, 32, 56, 58, 16, 16, 32, 16, 16, 38, 32, 16, 32, 58, 56, 16, 30, 52, 140, 14, 134, 46, 32, 56, 56, 30, 16, 16, 26, 32, 32, 16, 46, 34, 16, 42, 130, 32, 32, 60, 42, 60, 34, 32, 16, 28, 16, 32, 28, 50, 32, 34, 14, 42, 58, 62, 40, 44, 48, 34, 32, 40, 14, 16, 36, 60, 44, 58, 36, 54, 32, 32, 32, 136, 14, 118, 16, 16, 32, 58, 16, 32, 16, 16, 38, 32, 60, 62, 62, 36, 50, 110, 136, 16, 100, 48, 72, 16, 16, 16, 60, 38, 32, 56, 42, 116, 32, 108, 36, 48, 136, 14, 16, 16, 120, 56, 32, 114, 16, 60, 60, 132, 60, 34, 62, 38, 16, 110, 14, 16, 58, 32, 56, 48, 56, 28, 16, 32, 32, 56, 62, 32, 52, 128, 32, 16, 32, 32, 32, 32, 32, 102, 40, 50, 32, 32, 32, 32, 60, 32, 40, 60, 16, 48, 16, 60, 32, 16, 96, 60, 16, 16, 52, 60, 16, 32, 60, 42, 60, 58, 30, 32, 32, 32, 122, 54, 60, 52, 32, 58, 36, 56, 16, 32, 32, 12, 120, 58, 32, 36, 32, 16, 50, 30, 54, 36, 16, 36, 32, 16, 16, 30, 46, 58, 116, 14, 32, 32, 30, 60, 16, 42, 50, 56, 56, 62, 32, 56, 30, 62, 60, 140, 32, 32, 32, 126, 118, 56, 32, 44, 56, 32, 16, 32, 30, 32, 26, 32, 32, 14, 40, 16, 32, 62, 60, 32, 36, 32, 16, 44, 32, 52, 16, 46, 16, 54, 50, 32, 32, 32, 16, 122, 32, 54, 50, 60, 102, 16, 32, 32, 16, 54, 44, 14, 36, 32, 62, 44, 16, 56, 28, 32, 30, 14, 32, 32, 58, 112, 32, 32, 60, 32, 32, 60, 32, 36, 62, 32, 52, 16, 60, 50, 32, 32, 32, 32, 40, 42, 16, 40, 16, 142, 114, 128, 42, 32, 62, 32, 132, 32, 32, 32, 16, 124, 16, 32, 58, 52, 32, 16, 14, 16, 32, 42, 98, 72, 58, 32, 16, 14, 52, 32, 16, 16, 46, 134, 32, 58, 40, 32, 16, 14, 40, 120, 12, 16, 56, 12, 110, 32, 16, 14, 14, 32, 60, 32, 16, 38, 58, 32, 16, 36, 62, 38, 60, 16, 50, 16, 32, 32, 12, 32, 40, 16, 16, 56, 16, 16, 62, 54, 32, 16, 32, 32, 32, 32, 58, 32, 32, 32, 42, 32, 46, 16, 16, 16, 44, 32, 42, 30, 30, 32, 16, 32, 32, 16, 16, 38, 32, 108, 32, 32, 32, 16, 16, 32, 54, 50, 62, 60, 58, 56, 50, 32, 58, 126, 16, 16, 24, 32, 16, 32, 32, 16, 136, 60, 16, 46, 16, 32, 32, 32, 34, 16, 50, 40, 16, 32, 32, 32, 32, 16, 16, 20, 56, 32, 32, 116, 30, 62, 56, 60, 96, 54, 40, 16, 10, 32, 58, 102, 16, 32, 114, 32, 16, 110, 32, 32, 32, 58, 98, 32, 58, 16, 56, 32, 16, 32, 16, 108, 16, 34, 16, 56, 62, 120, 62, 32, 48, 138, 58, 58, 32, 16, 16, 32, 32, 16, 30, 52, 30, 32, 16, 14, 126, 16, 128, 32, 52, 32, 32, 16, 58, 42, 126, 56, 28, 16, 56, 16, 16, 112, 32, 132, 14, 32, 16, 16, 44, 116, 36, 56, 60, 32, 28, 60, 14, 16, 32, 16, 14, 32, 16, 16, 56, 32, 60, 30, 32, 120, 62, 56, 32, 16, 32, 16, 58, 32, 40, 16, 32, 30, 16, 58, 54, 60, 32, 30, 30, 16, 62, 98, 14, 56, 16, 32, 38, 32, 32, 32, 32, 138, 32, 40, 54, 32, 32, 32, 52, 58, 58, 32, 16, 16, 16, 32, 16, 58, 16, 16, 32, 16, 40, 32, 58, 16, 138, 16, 16, 32, 42, 42, 16, 116, 58, 36, 36, 36, 16, 132, 42, 54, 16, 62, 60, 56, 16, 54, 16, 62, 16, 16, 16, 38, 16, 32, 16, 32, 16, 116, 16, 16, 56, 36, 58, 78, 42, 32, 62, 58, 16, 32, 60, 26, 16, 110, 32, 32, 16, 132, 16, 60, 32, 50, 16, 32, 58, 16, 32, 60, 56, 32, 16, 60, 32, 32, 32, 32, 56, 32, 16, 32, 34, 32, 42, 116, 32, 14, 38, 54, 62, 32, 32, 32, 32, 32, 32, 32, 32, 16, 54, 32, 14, 32, 62, 16, 30, 32, 16, 138, 60, 48, 52, 54, 46, 16, 32, 44, 14, 62, 16, 32, 32, 32, 52, 16, 62, 60, 16, 32, 40, 32, 44, 42, 24, 44, 32, 60, 32, 32, 32, 14, 16, 32, 32, 32, 32, 124, 32, 16, 38, 32, 32, 52, 110, 32, 54, 16, 56, 38, 32, 40, 48, 130, 32, 32, 60, 52, 32, 56, 42, 16, 118, 58, 32, 56, 32, 132, 136, 56, 134, 44, 52, 38, 32, 32, 32, 16, 60, 16, 136, 16, 32, 52, 40, 30, 32, 32, 32, 44, 40, 32, 56, 32, 32, 126, 56, 16, 16, 32, 32, 32, 16, 16, 16, 14, 14, 58, 32, 48, 106, 32, 32, 48, 62, 16, 48, 32, 114, 16, 112, 30, 38, 16, 30, 16, 104, 12, 14, 56, 28, 16, 58, 16, 14, 54, 16, 32, 32, 32, 40, 16, 14, 16, 60, 128, 16, 32, 42, 98, 84, 32, 32, 16, 32, 42, 16, 130, 142, 48, 32, 46, 46, 40, 48, 16, 32, 32, 16, 56, 16, 36, 16, 16, 58, 32, 16, 32, 32, 16, 32, 54, 36, 32, 52, 32, 46, 16, 48, 32, 32, 32, 56, 62, 60, 54, 32, 54, 42, 32, 32, 16, 60, 56, 86, 50, 16, 52, 32, 10, 16, 32, 16, 38, 14, 60, 36, 14, 62, 32, 32, 40, 48, 62, 16, 60, 50, 16, 56, 14, 32, 110, 16, 32, 36, 58, 16, 14, 58, 32, 32, 32, 32, 16, 132, 32, 32, 118, 42, 52, 16, 60, 16, 28, 32, 32, 32, 32, 32, 16, 16, 62, 60, 32, 62, 62, 48, 16, 62, 32, 32, 16, 16, 56, 32, 58, 32, 132, 58, 30, 48, 30, 32, 32, 32, 42, 122, 44, 32, 34, 56, 38, 54, 16, 32, 16, 42, 30, 24, 16, 16, 16, 48, 16, 48, 16, 14, 136, 16, 32, 48, 40, 62, 32, 32, 118, 60, 42, 62, 58, 44, 32, 52, 116, 138, 42, 56, 62, 16, 32, 54, 32, 36, 32, 16, 32, 60, 56, 12, 16, 8, 32, 42, 56, 32, 48, 36, 32, 32, 16, 16, 32, 54, 60, 32, 44, 14, 16, 32, 30, 16, 30, 60, 32, 32, 38, 32, 32, 42, 16, 16, 16, 58, 16, 38, 16, 32, 112, 32, 16, 40, 32, 16, 32, 74, 42, 16, 116, 16, 32, 10, 16, 60, 32, 16, 16, 56, 40, 116, 36, 46, 42, 52, 32, 58, 58, 36, 32, 32, 16, 32, 32, 32, 16, 16, 40, 32, 32, 32, 58, 32, 16, 58, 14, 54, 40, 16, 38, 56, 32, 30, 30, 32, 32, 54, 50, 14, 60, 36, 32, 42, 32, 14, 44, 32, 58, 56, 16, 60, 16, 58, 32, 42, 32, 32, 16, 12, 32, 32, 16, 54, 54, 16, 16, 124, 16, 62, 32, 32, 62, 16, 42, 32, 62, 58, 52, 16, 32, 52, 32, 60, 58, 32, 32, 96, 50, 120, 58, 32, 30, 60, 16, 32, 16, 32, 32, 30, 58, 32, 28, 42, 16, 48, 16, 54, 46, 58, 36, 58, 52, 32, 30, 110, 116, 58, 38, 56, 38, 114, 16, 138, 32, 56, 32, 32, 130, 130, 48, 56, 32, 56, 32, 32, 16, 126, 52, 118, 14, 60, 32, 16, 58, 120, 58, 136, 32, 16, 16, 98, 50, 60, 32, 130, 50, 30, 32, 58, 38, 32, 32, 60, 16, 56, 126, 60, 16, 60, 56, 44, 16, 130, 32, 62, 38, 42, 38, 98, 32, 42, 32, 16, 62, 16, 16, 50, 32, 52, 60, 32, 32, 32, 32, 56, 16, 16, 40, 16, 60, 2, 46, 16, 16, 16, 16, 60, 54, 56, 32, 62, 136, 32, 56, 62, 30, 64, 34, 16, 32, 124, 62, 32, 60, 60, 16, 32, 30, 38, 44, 26, 144, 34, 62, 16, 62, 16, 50, 38, 16, 32, 16, 16, 126, 22, 58, 32, 16, 44, 16, 56, 56, 16, 84, 14, 32, 128, 42, 32, 16, 124, 58, 16, 32, 58, 40, 16, 60, 62, 58, 32, 56, 62, 54, 116, 38, 32, 32, 32, 14, 16, 16, 46, 16, 60, 14, 16, 52, 32, 42, 16, 16, 62, 48, 32, 16, 16, 56, 14, 102, 54, 12, 32, 56, 32, 32, 32, 32, 28, 32, 16, 60, 16, 46, 32, 14, 32, 42, 110, 32, 32, 32, 116, 56, 32, 48, 126, 32, 60, 56, 16, 32, 16, 84, 54, 32, 116, 60, 46, 16, 16, 32, 56, 16, 44, 58, 32, 16, 32, 32, 16, 60, 16, 32, 32, 16, 16, 14, 16, 14, 32, 16, 128, 124, 32, 58, 16, 32, 32, 36, 142, 32, 16, 50, 54, 60, 58, 32, 16, 32, 60, 60, 14, 110, 116, 16, 32, 60, 52, 32, 32, 32, 16, 16, 14, 130, 16, 16, 62, 32, 32, 32, 32, 130, 32, 14, 16, 16, 36, 16, 60, 116, 36, 32, 32, 16, 40, 56, 128, 32, 16, 30, 58, 52, 16, 14, 16, 32, 32, 32, 60, 32, 16, 12, 32, 32, 62, 32, 56, 52, 56, 48, 32, 32, 16, 32, 60, 56, 44, 32, 32, 44, 62, 46, 58, 114, 32, 32, 62, 32, 14, 62, 44, 32, 16, 16, 16, 32, 58, 16, 40, 16, 60, 50, 98, 16, 32, 32, 14, 32, 46, 16, 32, 30, 54, 116, 32, 50, 16, 122, 138, 16, 54, 58, 24, 16, 40, 122, 32, 32, 62, 54, 16, 32, 32, 44, 58, 58, 32, 52, 32, 32, 32, 32, 128, 14, 66, 40, 110, 32, 16, 32, 62, 34, 132, 32, 16, 32, 30, 16, 54, 32, 62, 16, 16, 32, 16, 32, 60, 32, 30, 54, 60, 72, 16, 54, 32, 54, 32, 32, 32, 126, 30, 132, 32, 40, 32, 32, 14, 32, 54, 28, 60, 110, 28, 60, 16, 60, 62, 96, 32, 16, 32, 62, 42, 16, 16, 32, 56, 56, 32, 32, 32, 16, 32, 32, 62, 50, 58, 54, 32, 48, 136, 56, 32, 30, 32, 32, 16, 42, 62, 16, 14, 108, 48, 32, 32, 32, 56, 50, 32, 128, 58, 16, 140, 60, 42, 16, 16, 126, 34, 16, 16, 32, 16, 44, 42, 62, 108, 34, 44, 58, 56, 32, 50, 86, 56, 124, 60, 16, 16, 32, 30, 32, 32, 52, 52, 14, 52, 50, 32, 16, 32, 32, 46, 32, 36, 32, 42, 32, 54, 32, 16, 52, 32, 58, 14, 32, 34, 32, 42, 32, 16, 32, 32, 40, 62, 32, 16, 16, 38, 14, 16, 32, 32, 32, 16, 62, 16, 54, 16, 132, 22, 32, 60, 16, 114, 16, 32, 14, 30, 60, 130, 62, 32, 124, 16, 32, 114, 58, 30, 16, 32, 60, 56, 16, 60, 32, 62, 16, 16, 32, 44, 96, 32, 50, 14, 16, 32, 32, 16, 34, 42, 62, 42, 32, 62, 112, 32, 56, 42, 16, 40, 60, 14, 16, 36, 16, 42, 32, 52, 32, 42, 32, 62, 42, 106, 46, 32, 34, 122, 56, 30, 32, 16, 34, 16, 114, 16, 32, 16, 44, 84, 106, 32, 16, 16, 32, 32, 62, 46, 32, 32, 16, 32, 58, 32, 16, 56, 58, 16, 60, 16, 32, 32, 122, 30, 16, 40, 58, 58, 58, 32, 62, 44, 16, 32, 32, 58, 30, 62, 44, 30, 38, 40, 16, 14, 32, 30, 36, 32, 16, 58, 52, 34, 128, 16, 32, 60, 32, 16, 36, 16, 50, 32, 32, 32, 56, 32, 16, 16, 32, 16, 38, 32, 32, 32, 32, 32, 16, 32, 58, 58, 16, 118, 36, 124, 136, 32, 56, 14, 16, 32, 32, 32, 16, 56, 32, 24, 32, 60, 32, 38, 116, 16, 44, 58, 32, 32, 8, 16, 32, 32, 32, 90, 32, 98, 32, 50, 30, 62, 16, 16, 40, 16, 60, 40, 32, 32, 50, 32, 60, 60, 16, 14, 32, 16, 110, 16, 56, 32, 28, 28, 16, 56, 32, 32, 32, 32, 32, 16, 32, 14, 16, 56, 32, 14, 32, 44, 16, 60, 16, 14, 32, 16, 52, 32, 52, 14, 62, 52, 14, 38, 16, 32, 116, 16, 16, 16, 32, 32, 16, 32, 36, 60, 16, 60, 16, 32, 14, 16, 42, 34, 52, 32, 16, 30]\n",
      "RF_avg_distance_epoch:  [43.11576074596316]\n"
     ]
    }
   ],
   "source": [
    "# Do first time to initial the tree!\n",
    "print(\"******** Start fitting model ********\")\n",
    "history = model.fit(X_train, Y_train_flatten, validation_data=(X_test, Y_test_flatten), batch_size=50, epochs=1, verbose=1)\n",
    "print(history.history['loss'])\n",
    "loss_list_epoch.append(history.history['loss'][0])\n",
    "\n",
    "print(\"******** Start calculating RF Distance ********\")\n",
    "RF_list_distance = []\n",
    "for index in range(len(X_train)):\n",
    "    tips_num = np.count_nonzero(np.sum(X_train[index], axis=1) != 0) \n",
    "#         print(\"tips_num: \", tips_num)\n",
    "    array_selection_length = int((tips_num + 1) * tips_num / 2)\n",
    "    Y_train_flatten_vec_sel = Y_train_flatten[index][0:array_selection_length]\n",
    "    X_train_results = model.predict(X_train[index].reshape((1, 100, 1000, 1)))\n",
    "    X_train_results_vec_sel = X_train_results[0][0:array_selection_length]\n",
    "    original_dis_matrix = utri2mat(Y_train_flatten_vec_sel)\n",
    "    new_dis_matrix = utri2mat(X_train_results_vec_sel)\n",
    "    for i in range(len(new_dis_matrix)):\n",
    "        new_dis_matrix[i,i] = 0\n",
    "    with open('./output/CSV/original_dis_matrix'+str(index)+'.csv', mode='w') as my_csv:\n",
    "        csvWriter = csv.writer(my_csv,delimiter=',')\n",
    "        csvWriter.writerows(original_dis_matrix)\n",
    "    with open('./output/CSV/new_dis_matrix'+str(index)+'.csv', mode='w') as my_csv:\n",
    "        csvWriter = csv.writer(my_csv,delimiter=',')\n",
    "        csvWriter.writerows(new_dis_matrix)\n",
    "    taxon_namespace = dendropy.TaxonSet()\n",
    "    pdm_origin = dendropy.PhylogeneticDistanceMatrix.from_csv(\n",
    "            src=open('./output/CSV/original_dis_matrix'+str(index)+'.csv'),\n",
    "            is_first_row_column_names=False,\n",
    "            is_first_column_row_names=False,\n",
    "            delimiter=\",\",\n",
    "            taxon_namespace = taxon_namespace)\n",
    "    pdm_new = dendropy.PhylogeneticDistanceMatrix.from_csv(\n",
    "            src=open('./output/CSV/new_dis_matrix'+str(index)+'.csv'),\n",
    "            is_first_row_column_names=False,\n",
    "            is_first_column_row_names=False,\n",
    "            delimiter=\",\",\n",
    "            taxon_namespace = taxon_namespace)\n",
    "    tree_origin = pdm_origin.nj_tree()\n",
    "    tree_new = pdm_new.nj_tree()\n",
    "    RF_distance = treecompare.symmetric_difference(tree_origin, tree_new)\n",
    "    RF_list_distance.append(RF_distance)\n",
    "RF_list_distance_epoch.append(RF_list_distance)\n",
    "RF_avg_distance_epoch.append(sum(RF_list_distance) / len(RF_list_distance))\n",
    "print(\"RF_list_distance: \", RF_list_distance)\n",
    "print(\"RF_avg_distance_epoch: \", RF_avg_distance_epoch)"
   ]
  },
  {
   "cell_type": "code",
   "execution_count": null,
   "metadata": {
    "scrolled": true
   },
   "outputs": [],
   "source": [
    "# (5) Train\n",
    "# history = model.fit(X_train, Y_train_flatten, validation_data=(X_test, Y_test_flatten), batch_size=16, epochs=10, verbose=1)\n",
    "for i in range(2):\n",
    "    print(\"******** Start fitting model ********\")\n",
    "    history = model.fit(X_train, Y_train_flatten, validation_data=(X_test, Y_test_flatten), batch_size=2, epochs=50, verbose=1)\n",
    "    print(history.history['loss'])\n",
    "    loss_list_epoch.append(history.history['loss'][0])\n",
    "\n",
    "    print(\"******** Start calculating RF Distance ********\")\n",
    "    RF_list_distance = []\n",
    "#     for index in range(len(X_train)):\n",
    "#         tips_num = np.count_nonzero(np.sum(X_train[index], axis=1) != 0) \n",
    "# #         print(\"tips_num: \", tips_num)\n",
    "#         array_selection_length = int((tips_num + 1) * tips_num / 2)\n",
    "#         Y_train_flatten_vec_sel = Y_train_flatten[index][0:array_selection_length]\n",
    "#         X_train_results = model.predict(X_train[index].reshape((1, 100, 1000, 1)))\n",
    "#         X_train_results_vec_sel = X_train_results[0][0:array_selection_length]\n",
    "#         original_dis_matrix = utri2mat(Y_train_flatten_vec_sel)\n",
    "#         new_dis_matrix = utri2mat(X_train_results_vec_sel)\n",
    "#         for i in range(len(new_dis_matrix)):\n",
    "#             new_dis_matrix[i,i] = 0\n",
    "#         with open('./output/CSV/original_dis_matrix'+str(index)+'.csv', mode='w') as my_csv:\n",
    "#             csvWriter = csv.writer(my_csv,delimiter=',')\n",
    "#             csvWriter.writerows(original_dis_matrix)\n",
    "#         with open('./output/CSV/new_dis_matrix'+str(index)+'.csv', mode='w') as my_csv:\n",
    "#             csvWriter = csv.writer(my_csv,delimiter=',')\n",
    "#             csvWriter.writerows(new_dis_matrix)\n",
    "#         taxon_namespace = dendropy.TaxonSet()\n",
    "#         pdm_origin = dendropy.PhylogeneticDistanceMatrix.from_csv(\n",
    "#                 src=open('./output/CSV/original_dis_matrix'+str(index)+'.csv'),\n",
    "#                 is_first_row_column_names=False,\n",
    "#                 is_first_column_row_names=False,\n",
    "#                 delimiter=\",\",\n",
    "#                 taxon_namespace = taxon_namespace)\n",
    "#         pdm_new = dendropy.PhylogeneticDistanceMatrix.from_csv(\n",
    "#                 src=open('./output/CSV/new_dis_matrix'+str(index)+'.csv'),\n",
    "#                 is_first_row_column_names=False,\n",
    "#                 is_first_column_row_names=False,\n",
    "#                 delimiter=\",\",\n",
    "#                 taxon_namespace = taxon_namespace)\n",
    "#         tree_origin = pdm_origin.nj_tree()\n",
    "#         tree_new = pdm_new.nj_tree()\n",
    "#         RF_distance = treecompare.symmetric_difference(tree_origin, tree_new)\n",
    "#         RF_list_distance.append(RF_distance)\n",
    "#     RF_list_distance_epoch.append(RF_list_distance)\n",
    "#     RF_avg_distance_epoch.append(sum(RF_list_distance) / len(RF_list_distance))\n",
    "#     print(\"RF_list_distance: \", RF_list_distance)\n",
    "#     print(\"RF_avg_distance_epoch: \", RF_avg_distance_epoch)"
   ]
  },
  {
   "cell_type": "code",
   "execution_count": null,
   "metadata": {},
   "outputs": [],
   "source": [
    "model.save('./output/CNN_model_03.h5')"
   ]
  },
  {
   "cell_type": "code",
   "execution_count": null,
   "metadata": {},
   "outputs": [],
   "source": [
    "train_result = model.evaluate(X_train, Y_train_flatten)\n",
    "test_result = model.evaluate(X_test, Y_test_flatten)\n",
    "print(\"Train Acc: \", train_result)\n",
    "print(\"Test Acc: \", test_result)"
   ]
  },
  {
   "cell_type": "markdown",
   "metadata": {},
   "source": [
    "## Load the Model"
   ]
  },
  {
   "cell_type": "code",
   "execution_count": null,
   "metadata": {},
   "outputs": [],
   "source": [
    "# model = keras.models.load_model('./output/CNN_model_03.h5')"
   ]
  },
  {
   "cell_type": "markdown",
   "metadata": {},
   "source": [
    "## X_train plot"
   ]
  },
  {
   "cell_type": "code",
   "execution_count": null,
   "metadata": {},
   "outputs": [],
   "source": [
    "X_train_results = model.predict(X_train)"
   ]
  },
  {
   "cell_type": "code",
   "execution_count": null,
   "metadata": {},
   "outputs": [],
   "source": [
    "train_show_index = 0"
   ]
  },
  {
   "cell_type": "code",
   "execution_count": null,
   "metadata": {},
   "outputs": [],
   "source": [
    "plt.scatter(range(X_train_results[train_show_index].shape[0]), X_train_results[train_show_index], c='r', s = 2)\n",
    "plt.scatter(range(Y_train_flatten[train_show_index].shape[0]), Y_train_flatten[train_show_index], c='g', s = 2)\n",
    "plt.xlabel ('Flatten Distance Matrix Index')\n",
    "plt.ylabel ('Distance Matrix Value')"
   ]
  },
  {
   "cell_type": "code",
   "execution_count": null,
   "metadata": {},
   "outputs": [],
   "source": [
    "plt.scatter(X_train_results[train_show_index], Y_train_flatten[train_show_index], c='r', s = 2)\n",
    "plt.xlabel ('Training Data Prediction')\n",
    "plt.ylabel ('Training Data Label')\n",
    "plt.show"
   ]
  },
  {
   "cell_type": "code",
   "execution_count": null,
   "metadata": {},
   "outputs": [],
   "source": [
    "X_train_results_resh= X_train_results.reshape((1, 425*OUTPUT_DIST_NUM))\n",
    "Y_train_resh = Y_train_flatten.reshape((1, 425*OUTPUT_DIST_NUM))"
   ]
  },
  {
   "cell_type": "code",
   "execution_count": null,
   "metadata": {},
   "outputs": [],
   "source": [
    "plt.scatter(X_train_results_resh, Y_train_resh, c='r', s = 2)\n",
    "plt.xlabel ('Training Data Prediction')\n",
    "plt.ylabel ('Training Data Label')\n",
    "plt.show"
   ]
  },
  {
   "cell_type": "markdown",
   "metadata": {},
   "source": [
    "## X_test plot"
   ]
  },
  {
   "cell_type": "code",
   "execution_count": null,
   "metadata": {},
   "outputs": [],
   "source": [
    "X_test_results = model.predict(X_test)"
   ]
  },
  {
   "cell_type": "code",
   "execution_count": null,
   "metadata": {},
   "outputs": [],
   "source": [
    "test_show_index = 10"
   ]
  },
  {
   "cell_type": "code",
   "execution_count": null,
   "metadata": {},
   "outputs": [],
   "source": [
    "plt.scatter(range(X_test_results[test_show_index].shape[0]), X_test_results[test_show_index], c='r', s = 2)\n",
    "plt.scatter(range(Y_test_flatten[test_show_index].shape[0]), Y_test_flatten[test_show_index], c='g', s = 2)\n",
    "plt.xlabel ('Flatten Distance Matrix Index')\n",
    "plt.ylabel ('Distance Matrix Value')"
   ]
  },
  {
   "cell_type": "code",
   "execution_count": null,
   "metadata": {
    "scrolled": true
   },
   "outputs": [],
   "source": [
    "plt.scatter(X_test_results[train_show_index], Y_test_flatten[train_show_index], c='r', s = 2)\n",
    "plt.xlabel ('Validation Data Prediction')\n",
    "plt.ylabel ('Validation Data Label')\n",
    "plt.show"
   ]
  },
  {
   "cell_type": "code",
   "execution_count": null,
   "metadata": {},
   "outputs": [],
   "source": [
    "X_test_results_resh= X_test_results.reshape((1, 75*OUTPUT_DIST_NUM))\n",
    "Y_test_resh = Y_test_flatten.reshape((1, 75*OUTPUT_DIST_NUM))"
   ]
  },
  {
   "cell_type": "code",
   "execution_count": null,
   "metadata": {},
   "outputs": [],
   "source": [
    "plt.scatter(X_test_results_resh, Y_test_resh, c='r', s = 2)\n",
    "plt.xlabel ('Training Data Prediction')\n",
    "plt.ylabel ('Training Data Label')\n",
    "plt.show"
   ]
  },
  {
   "cell_type": "markdown",
   "metadata": {},
   "source": [
    "## Plot Loss "
   ]
  },
  {
   "cell_type": "code",
   "execution_count": null,
   "metadata": {},
   "outputs": [],
   "source": [
    "plt.plot(loss_list_epoch)\n",
    "plt.show()"
   ]
  },
  {
   "cell_type": "markdown",
   "metadata": {},
   "source": [
    "This is the loss plot for this model. I accidentally rerun the above cell and the output is erased, so I just put the result plot here."
   ]
  },
  {
   "cell_type": "markdown",
   "metadata": {},
   "source": [
    "![](https://i.imgur.com/4rqHApM.png)"
   ]
  },
  {
   "cell_type": "markdown",
   "metadata": {},
   "source": [
    "## Plot RF distance"
   ]
  },
  {
   "cell_type": "code",
   "execution_count": null,
   "metadata": {},
   "outputs": [],
   "source": [
    "for index in range(15):\n",
    "    index_RF_dist = [each[index] for each in RF_list_distance_epoch]\n",
    "    plt.plot(index_RF_dist)\n",
    "    plt.xlabel ('Epochs Index')\n",
    "    plt.ylabel ('RFR Distance')\n",
    "    plt.show()"
   ]
  },
  {
   "cell_type": "code",
   "execution_count": null,
   "metadata": {},
   "outputs": [],
   "source": [
    "plt.plot(RF_avg_distance_epoch)\n",
    "plt.xlabel ('Epochs Index')\n",
    "plt.ylabel ('RFR Distance')\n",
    "plt.show()"
   ]
  },
  {
   "cell_type": "code",
   "execution_count": null,
   "metadata": {},
   "outputs": [],
   "source": []
  }
 ],
 "metadata": {
  "kernelspec": {
   "display_name": "Python 3",
   "language": "python",
   "name": "python3"
  },
  "language_info": {
   "codemirror_mode": {
    "name": "ipython",
    "version": 3
   },
   "file_extension": ".py",
   "mimetype": "text/x-python",
   "name": "python",
   "nbconvert_exporter": "python",
   "pygments_lexer": "ipython3",
   "version": "3.7.4"
  }
 },
 "nbformat": 4,
 "nbformat_minor": 4
}
