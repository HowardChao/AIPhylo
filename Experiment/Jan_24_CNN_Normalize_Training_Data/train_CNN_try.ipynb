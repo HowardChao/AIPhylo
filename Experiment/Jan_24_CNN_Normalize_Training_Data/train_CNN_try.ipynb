{
 "cells": [
  {
   "cell_type": "code",
   "execution_count": 51,
   "metadata": {},
   "outputs": [],
   "source": [
    "import numpy as np\n",
    "import keras\n",
    "from keras.models import Sequential\n",
    "from keras.layers import Dense, Activation, Dropout, Flatten, Conv2D, MaxPooling2D, ZeroPadding2D\n",
    "from keras.layers.normalization import BatchNormalization\n",
    "from PIL import Image\n",
    "import random\n",
    "import math\n",
    "import matplotlib.pyplot as plt"
   ]
  },
  {
   "cell_type": "code",
   "execution_count": 37,
   "metadata": {},
   "outputs": [],
   "source": [
    "training_data = np.load('./output/training_data.npy')\n",
    "training_labels = np.load('./output/training_dists.npy')\n",
    "\n",
    "#pad the training data matrix so it is 100x1024\n",
    "\n",
    "#(500, 100, 1000, 1)\n",
    "\n",
    "zero_padding_array = np.zeros((500,100,600,1))"
   ]
  },
  {
   "cell_type": "code",
   "execution_count": 38,
   "metadata": {},
   "outputs": [
    {
     "data": {
      "text/plain": [
       "(500, 100, 1000, 1)"
      ]
     },
     "execution_count": 38,
     "metadata": {},
     "output_type": "execute_result"
    }
   ],
   "source": [
    "training_data.shape"
   ]
  },
  {
   "cell_type": "code",
   "execution_count": 39,
   "metadata": {},
   "outputs": [
    {
     "data": {
      "text/plain": [
       "(500, 100, 100, 1)"
      ]
     },
     "execution_count": 39,
     "metadata": {},
     "output_type": "execute_result"
    }
   ],
   "source": [
    "training_labels.shape"
   ]
  },
  {
   "cell_type": "code",
   "execution_count": 40,
   "metadata": {},
   "outputs": [
    {
     "data": {
      "text/plain": [
       "(500, 100, 600, 1)"
      ]
     },
     "execution_count": 40,
     "metadata": {},
     "output_type": "execute_result"
    }
   ],
   "source": [
    "zero_padding_array.shape"
   ]
  },
  {
   "cell_type": "code",
   "execution_count": 41,
   "metadata": {},
   "outputs": [
    {
     "name": "stdout",
     "output_type": "stream",
     "text": [
      "(500, 100, 1000, 1)\n",
      "(500, 100, 1600, 1)\n",
      "(500, 100, 100, 1)\n",
      "X_train.shape :  (425, 100, 1600, 1)\n",
      "X_test.shape :  (74, 100, 1600, 1)\n",
      "Y_train.shape :  (425, 100, 100, 1)\n",
      "Y_test.shape :  (74, 100, 100, 1)\n",
      "Model: \"sequential_3\"\n",
      "_________________________________________________________________\n",
      "Layer (type)                 Output Shape              Param #   \n",
      "=================================================================\n",
      "conv2d_9 (Conv2D)            (None, 100, 1600, 64)     192       \n",
      "_________________________________________________________________\n",
      "batch_normalization_9 (Batch (None, 100, 1600, 64)     256       \n",
      "_________________________________________________________________\n",
      "activation_9 (Activation)    (None, 100, 1600, 64)     0         \n",
      "_________________________________________________________________\n",
      "max_pooling2d_9 (MaxPooling2 (None, 100, 800, 64)      0         \n",
      "_________________________________________________________________\n",
      "conv2d_10 (Conv2D)           (None, 100, 800, 32)      4128      \n",
      "_________________________________________________________________\n",
      "batch_normalization_10 (Batc (None, 100, 800, 32)      128       \n",
      "_________________________________________________________________\n",
      "activation_10 (Activation)   (None, 100, 800, 32)      0         \n",
      "_________________________________________________________________\n",
      "max_pooling2d_10 (MaxPooling (None, 100, 400, 32)      0         \n",
      "_________________________________________________________________\n",
      "conv2d_11 (Conv2D)           (None, 100, 400, 16)      1040      \n",
      "_________________________________________________________________\n",
      "batch_normalization_11 (Batc (None, 100, 400, 16)      64        \n",
      "_________________________________________________________________\n",
      "activation_11 (Activation)   (None, 100, 400, 16)      0         \n",
      "_________________________________________________________________\n",
      "max_pooling2d_11 (MaxPooling (None, 100, 200, 16)      0         \n",
      "_________________________________________________________________\n",
      "conv2d_12 (Conv2D)           (None, 100, 200, 1)       33        \n",
      "_________________________________________________________________\n",
      "batch_normalization_12 (Batc (None, 100, 200, 1)       4         \n",
      "_________________________________________________________________\n",
      "activation_12 (Activation)   (None, 100, 200, 1)       0         \n",
      "_________________________________________________________________\n",
      "max_pooling2d_12 (MaxPooling (None, 100, 100, 1)       0         \n",
      "=================================================================\n",
      "Total params: 5,845\n",
      "Trainable params: 5,619\n",
      "Non-trainable params: 226\n",
      "_________________________________________________________________\n"
     ]
    }
   ],
   "source": [
    "print(training_data.shape)\n",
    "training_data = np.concatenate([training_data, zero_padding_array], axis=2)\n",
    "print(training_data.shape)\n",
    "\n",
    "print(training_labels.shape)\n",
    "\n",
    "samples_count = training_data.shape[0]\n",
    "\n",
    "train_size = math.floor(0.85*training_data.shape[0])\n",
    "\n",
    "shuffle_indices = random.sample(range(0, samples_count), samples_count)\n",
    "\n",
    "indices_train = shuffle_indices[0:train_size]\n",
    "indices_test = shuffle_indices[train_size+1:samples_count]\n",
    "\n",
    "X_train = training_data[indices_train,:]\n",
    "Y_train = training_labels[indices_train]\n",
    "\n",
    "X_test = training_data[indices_test,:]\n",
    "Y_test = training_labels[indices_test]\n",
    "\n",
    "print('X_train.shape : ', X_train.shape)\n",
    "print('X_test.shape : ', X_test.shape)\n",
    "\n",
    "print('Y_train.shape : ', Y_train.shape)\n",
    "print('Y_test.shape : ', Y_test.shape)\n",
    "\n",
    "np.save('X_test.npy', X_test)\n",
    "np.save('Y_test.npy', Y_test)\n",
    "\n",
    "model = Sequential()\n",
    "\n",
    "# Layer 1\n",
    "model.add(Conv2D(64, input_shape=(100,1600,1), kernel_size=(2,1), strides=(1,1), padding='same'))\n",
    "#model.add(Conv2D(48, input_shape=(400,11,1), kernel_size=(2,2), strides=(1,1), padding='same'))\n",
    "model.add(BatchNormalization())\n",
    "model.add(Activation('relu'))\n",
    "model.add(MaxPooling2D(pool_size=(1, 2)))\n",
    "\n",
    "# Layer 2\n",
    "model.add(Conv2D(32, (2, 1), padding='same'))\n",
    "model.add(BatchNormalization())\n",
    "model.add(Activation('relu'))\n",
    "model.add(MaxPooling2D(pool_size=(1, 2)))\n",
    "\n",
    "# Layer 3\n",
    "model.add(Conv2D(16, (2, 1), padding='same'))\n",
    "model.add(BatchNormalization())\n",
    "model.add(Activation('relu'))\n",
    "model.add(MaxPooling2D(pool_size=(1, 2)))\n",
    "\n",
    "# Layer 4\n",
    "model.add(Conv2D(1, (2, 1), padding='same'))\n",
    "model.add(BatchNormalization())\n",
    "model.add(Activation('relu'))\n",
    "model.add(MaxPooling2D(pool_size=(1, 2)))\n",
    "\n",
    "model.summary()"
   ]
  },
  {
   "cell_type": "code",
   "execution_count": 42,
   "metadata": {},
   "outputs": [],
   "source": [
    "# (4) Compile \n",
    "#model.compile(loss='mse', optimizer='adam', metrics=['accuracy'])\n",
    "model.compile(loss='mean_absolute_error', optimizer='adam', metrics=['accuracy'])"
   ]
  },
  {
   "cell_type": "code",
   "execution_count": 43,
   "metadata": {},
   "outputs": [
    {
     "name": "stdout",
     "output_type": "stream",
     "text": [
      "Train on 425 samples, validate on 74 samples\n",
      "Epoch 1/15\n",
      "425/425 [==============================] - 103s 241ms/step - loss: 0.2664 - accuracy: 0.6448 - val_loss: 0.2234 - val_accuracy: 0.6608\n",
      "Epoch 2/15\n",
      "425/425 [==============================] - 102s 240ms/step - loss: 0.2358 - accuracy: 0.6446 - val_loss: 0.2236 - val_accuracy: 0.6608\n",
      "Epoch 3/15\n",
      "425/425 [==============================] - 102s 240ms/step - loss: 0.2198 - accuracy: 0.6447 - val_loss: 0.2236 - val_accuracy: 0.6608\n",
      "Epoch 4/15\n",
      "425/425 [==============================] - 102s 240ms/step - loss: 0.2151 - accuracy: 0.6446 - val_loss: 0.2235 - val_accuracy: 0.6608\n",
      "Epoch 5/15\n",
      "425/425 [==============================] - 101s 239ms/step - loss: 0.2128 - accuracy: 0.6448 - val_loss: 0.2234 - val_accuracy: 0.6608\n",
      "Epoch 6/15\n",
      "425/425 [==============================] - 101s 238ms/step - loss: 0.2120 - accuracy: 0.6448 - val_loss: 0.2234 - val_accuracy: 0.6608\n",
      "Epoch 7/15\n",
      "425/425 [==============================] - 101s 239ms/step - loss: 0.2112 - accuracy: 0.6448 - val_loss: 0.2247 - val_accuracy: 0.6608\n",
      "Epoch 8/15\n",
      "425/425 [==============================] - 101s 238ms/step - loss: 0.2109 - accuracy: 0.6448 - val_loss: 0.2360 - val_accuracy: 0.6608\n",
      "Epoch 9/15\n",
      "425/425 [==============================] - 101s 238ms/step - loss: 0.2113 - accuracy: 0.6448 - val_loss: 0.2400 - val_accuracy: 0.6608\n",
      "Epoch 10/15\n",
      "425/425 [==============================] - 101s 239ms/step - loss: 0.2103 - accuracy: 0.6449 - val_loss: 0.2395 - val_accuracy: 0.6608\n",
      "Epoch 11/15\n",
      "425/425 [==============================] - 101s 238ms/step - loss: 0.2103 - accuracy: 0.6448 - val_loss: 0.2345 - val_accuracy: 0.6608\n",
      "Epoch 12/15\n",
      "425/425 [==============================] - 101s 239ms/step - loss: 0.2096 - accuracy: 0.6448 - val_loss: 0.2396 - val_accuracy: 0.6608\n",
      "Epoch 13/15\n",
      "425/425 [==============================] - 101s 238ms/step - loss: 0.2096 - accuracy: 0.6448 - val_loss: 0.2430 - val_accuracy: 0.6608\n",
      "Epoch 14/15\n",
      "425/425 [==============================] - 101s 238ms/step - loss: 0.2091 - accuracy: 0.6448 - val_loss: 0.2295 - val_accuracy: 0.6608\n",
      "Epoch 15/15\n",
      "425/425 [==============================] - 101s 238ms/step - loss: 0.2089 - accuracy: 0.6448 - val_loss: 0.2337 - val_accuracy: 0.6608\n"
     ]
    }
   ],
   "source": [
    "# (5) Train\n",
    "history = model.fit(X_train, Y_train, validation_data=(X_test, Y_test), batch_size=16, epochs=15, verbose=1)\n",
    "\n",
    "model.save('./output/CNN_model_03.h5')"
   ]
  },
  {
   "cell_type": "code",
   "execution_count": 46,
   "metadata": {},
   "outputs": [
    {
     "name": "stdout",
     "output_type": "stream",
     "text": [
      "425/425 [==============================] - 30s 71ms/step\n",
      "74/74 [==============================] - 5s 71ms/step\n"
     ]
    }
   ],
   "source": [
    "training_result = model.evaluate(X_train, Y_train)\n",
    "testing_result = model.evaluate(X_test, Y_test)"
   ]
  },
  {
   "cell_type": "code",
   "execution_count": 47,
   "metadata": {},
   "outputs": [
    {
     "name": "stdout",
     "output_type": "stream",
     "text": [
      "Training Acc:  0.645237147808075\n",
      "Testing Acc:  0.6607540249824524\n"
     ]
    }
   ],
   "source": [
    "print('Training Acc: ', training_result[1])\n",
    "print('Testing Acc: ', testing_result[1])"
   ]
  },
  {
   "cell_type": "code",
   "execution_count": 48,
   "metadata": {},
   "outputs": [],
   "source": [
    "results = model.predict(X_test)"
   ]
  },
  {
   "cell_type": "code",
   "execution_count": null,
   "metadata": {},
   "outputs": [],
   "source": [
    "plt.plot(history.history['loss'])\n",
    "plt.show()"
   ]
  }
 ],
 "metadata": {
  "kernelspec": {
   "display_name": "Python 3",
   "language": "python",
   "name": "python3"
  },
  "language_info": {
   "codemirror_mode": {
    "name": "ipython",
    "version": 3
   },
   "file_extension": ".py",
   "mimetype": "text/x-python",
   "name": "python",
   "nbconvert_exporter": "python",
   "pygments_lexer": "ipython3",
   "version": "3.7.6"
  }
 },
 "nbformat": 4,
 "nbformat_minor": 2
}
