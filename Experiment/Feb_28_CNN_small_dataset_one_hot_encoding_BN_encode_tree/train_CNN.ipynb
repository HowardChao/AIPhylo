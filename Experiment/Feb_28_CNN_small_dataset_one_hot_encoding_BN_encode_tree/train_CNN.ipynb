{
 "cells": [
  {
   "cell_type": "code",
   "execution_count": 1,
   "metadata": {},
   "outputs": [
    {
     "name": "stderr",
     "output_type": "stream",
     "text": [
      "Using TensorFlow backend.\n"
     ]
    }
   ],
   "source": [
    "import numpy as np\n",
    "import keras\n",
    "import keras.backend as K\n",
    "from keras.models import Sequential\n",
    "from keras.layers import Dense, Activation, Dropout, Flatten, Conv2D, MaxPooling2D, ZeroPadding2D\n",
    "from keras.layers.normalization import BatchNormalization\n",
    "from PIL import Image\n",
    "import random\n",
    "import math\n",
    "import matplotlib.pyplot as plt\n",
    "import dendropy\n",
    "import csv\n",
    "from dendropy.calculate import treecompare\n",
    "import sys\n",
    "import numpy\n",
    "# numpy.set_printoptions(threshold=sys.maxsize)"
   ]
  },
  {
   "cell_type": "markdown",
   "metadata": {},
   "source": [
    "# Loading Data"
   ]
  },
  {
   "cell_type": "code",
   "execution_count": 2,
   "metadata": {},
   "outputs": [],
   "source": [
    "X_Input_Alignment_Data = np.load('../../ALL_DATA/499_dataset_Input_Output/X_Input_Alignment_Data.npy')\n",
    "Y_Output_BN_List_Data = np.load('../../ALL_DATA/499_dataset_Input_Output/Y_Output_BN_List_Data.npy')"
   ]
  },
  {
   "cell_type": "code",
   "execution_count": 3,
   "metadata": {},
   "outputs": [
    {
     "name": "stdout",
     "output_type": "stream",
     "text": [
      "(499, 100, 1000, 5)\n",
      "(499, 100)\n"
     ]
    }
   ],
   "source": [
    "print(X_Input_Alignment_Data.shape)\n",
    "print(Y_Output_BN_List_Data.shape)"
   ]
  },
  {
   "cell_type": "code",
   "execution_count": 4,
   "metadata": {},
   "outputs": [],
   "source": [
    "BRANCH_NUM = 100\n",
    "SEQUENCE_LEN = 1000"
   ]
  },
  {
   "cell_type": "markdown",
   "metadata": {},
   "source": [
    "## Shuffle Input Data"
   ]
  },
  {
   "cell_type": "code",
   "execution_count": 5,
   "metadata": {},
   "outputs": [],
   "source": [
    "for i in range(X_Input_Alignment_Data.shape[0]):\n",
    "    shuffle_indices_100 = random.sample(range(0, 100), 100)\n",
    "    shuffle_indices_1000 = random.sample(range(0, 1000), 1000)\n",
    "    tmp = X_Input_Alignment_Data[i][shuffle_indices_100]\n",
    "    tmp = tmp[:, shuffle_indices_1000]\n",
    "    X_Input_Alignment_Data[i] = tmp"
   ]
  },
  {
   "cell_type": "markdown",
   "metadata": {},
   "source": [
    "## Training / Testing Dataset Partition (random seed 30)\n",
    "Shuffle the order of samples"
   ]
  },
  {
   "cell_type": "code",
   "execution_count": 6,
   "metadata": {},
   "outputs": [
    {
     "name": "stdout",
     "output_type": "stream",
     "text": [
      "X_train.shape :  (424, 100, 1000, 5)\n",
      "X_test.shape :  (75, 100, 1000, 5)\n",
      "Y_train.shape :  (424, 100)\n",
      "Y_test.shape :  (75, 100)\n"
     ]
    }
   ],
   "source": [
    "samples_count = X_Input_Alignment_Data.shape[0]\n",
    "train_size = math.floor(0.85*samples_count)\n",
    "shuffle_indices = random.sample(range(0, samples_count), samples_count)\n",
    "\n",
    "indices_train = shuffle_indices[0:train_size]\n",
    "indices_test = shuffle_indices[train_size:samples_count]\n",
    "\n",
    "X_train = X_Input_Alignment_Data[indices_train,:]\n",
    "Y_train = Y_Output_BN_List_Data[indices_train]\n",
    "\n",
    "X_test = X_Input_Alignment_Data[indices_test,:]\n",
    "Y_test = Y_Output_BN_List_Data[indices_test]\n",
    "\n",
    "print('X_train.shape : ', X_train.shape)\n",
    "print('X_test.shape : ', X_test.shape)\n",
    "\n",
    "print('Y_train.shape : ', Y_train.shape)\n",
    "print('Y_test.shape : ', Y_test.shape)"
   ]
  },
  {
   "cell_type": "markdown",
   "metadata": {},
   "source": [
    "## Start Building Model"
   ]
  },
  {
   "cell_type": "markdown",
   "metadata": {},
   "source": [
    "### Load Data"
   ]
  },
  {
   "cell_type": "code",
   "execution_count": 7,
   "metadata": {},
   "outputs": [],
   "source": [
    "model = Sequential()\n",
    "\n",
    "# Layer 1\n",
    "model.add(Conv2D(100, input_shape=X_train.shape[1:], kernel_size=(100,1), strides=(1,1)))\n",
    "#model.add(Conv2D(48, input_shape=(400,11,1), kernel_size=(2,2), strides=(1,1), padding='same'))\n",
    "model.add(BatchNormalization())\n",
    "model.add(Activation('relu'))\n",
    "model.add(MaxPooling2D(pool_size=(1, 1)))\n",
    "\n",
    "# # Layer 2\n",
    "# model.add(Dense(1200))\n",
    "# model.add(BatchNormalization())\n",
    "# model.add(Activation('relu'))\n",
    "\n",
    "# # Layer 3\n",
    "# model.add(Dense(1200))\n",
    "# model.add(BatchNormalization())\n",
    "# model.add(Activation('relu'))\n",
    "\n",
    "# # Layer 4\n",
    "# model.add(Dense(200))\n",
    "# model.add(BatchNormalization())\n",
    "# model.add(Activation('relu'))\n",
    "\n",
    "# Layer 2\n",
    "model.add(Conv2D(10, (1, 2)))\n",
    "model.add(BatchNormalization())\n",
    "model.add(Activation('relu'))\n",
    "model.add(MaxPooling2D(pool_size=(1, 1)))\n",
    "\n",
    "# Layer 3\n",
    "model.add(Conv2D(5, (1, 2)))\n",
    "model.add(BatchNormalization())\n",
    "model.add(Activation('relu'))\n",
    "model.add(MaxPooling2D(pool_size=(1, 1)))\n",
    "\n",
    "# Layer 4\n",
    "model.add(Conv2D(1, (1, 2)))\n",
    "model.add(BatchNormalization())\n",
    "model.add(Activation('relu'))\n",
    "model.add(MaxPooling2D(pool_size=(1, 1)))\n",
    "\n",
    "# Layer 5\n",
    "model.add(Flatten())\n",
    "model.add(Dense(BRANCH_NUM, activation='relu'))"
   ]
  },
  {
   "cell_type": "code",
   "execution_count": 8,
   "metadata": {},
   "outputs": [
    {
     "name": "stdout",
     "output_type": "stream",
     "text": [
      "Model: \"sequential_1\"\n",
      "_________________________________________________________________\n",
      "Layer (type)                 Output Shape              Param #   \n",
      "=================================================================\n",
      "conv2d_1 (Conv2D)            (None, 1, 1000, 100)      50100     \n",
      "_________________________________________________________________\n",
      "batch_normalization_1 (Batch (None, 1, 1000, 100)      400       \n",
      "_________________________________________________________________\n",
      "activation_1 (Activation)    (None, 1, 1000, 100)      0         \n",
      "_________________________________________________________________\n",
      "max_pooling2d_1 (MaxPooling2 (None, 1, 1000, 100)      0         \n",
      "_________________________________________________________________\n",
      "conv2d_2 (Conv2D)            (None, 1, 999, 10)        2010      \n",
      "_________________________________________________________________\n",
      "batch_normalization_2 (Batch (None, 1, 999, 10)        40        \n",
      "_________________________________________________________________\n",
      "activation_2 (Activation)    (None, 1, 999, 10)        0         \n",
      "_________________________________________________________________\n",
      "max_pooling2d_2 (MaxPooling2 (None, 1, 999, 10)        0         \n",
      "_________________________________________________________________\n",
      "conv2d_3 (Conv2D)            (None, 1, 998, 5)         105       \n",
      "_________________________________________________________________\n",
      "batch_normalization_3 (Batch (None, 1, 998, 5)         20        \n",
      "_________________________________________________________________\n",
      "activation_3 (Activation)    (None, 1, 998, 5)         0         \n",
      "_________________________________________________________________\n",
      "max_pooling2d_3 (MaxPooling2 (None, 1, 998, 5)         0         \n",
      "_________________________________________________________________\n",
      "conv2d_4 (Conv2D)            (None, 1, 997, 1)         11        \n",
      "_________________________________________________________________\n",
      "batch_normalization_4 (Batch (None, 1, 997, 1)         4         \n",
      "_________________________________________________________________\n",
      "activation_4 (Activation)    (None, 1, 997, 1)         0         \n",
      "_________________________________________________________________\n",
      "max_pooling2d_4 (MaxPooling2 (None, 1, 997, 1)         0         \n",
      "_________________________________________________________________\n",
      "flatten_1 (Flatten)          (None, 997)               0         \n",
      "_________________________________________________________________\n",
      "dense_1 (Dense)              (None, 100)               99800     \n",
      "=================================================================\n",
      "Total params: 152,490\n",
      "Trainable params: 152,258\n",
      "Non-trainable params: 232\n",
      "_________________________________________________________________\n"
     ]
    }
   ],
   "source": [
    "model.summary()"
   ]
  },
  {
   "cell_type": "code",
   "execution_count": 9,
   "metadata": {},
   "outputs": [],
   "source": [
    "# (4) Compile \n",
    "#model.compile(loss='mse', optimizer='adam', metrics=['accuracy'])\n",
    "model.compile(loss='mean_squared_logarithmic_error', optimizer='adam', metrics=['accuracy'])\n",
    "# model.compile(loss='mean_squared_error', optimizer='adam', metrics=['accuracy'])"
   ]
  },
  {
   "cell_type": "code",
   "execution_count": 10,
   "metadata": {},
   "outputs": [
    {
     "name": "stdout",
     "output_type": "stream",
     "text": [
      "Train on 424 samples, validate on 75 samples\n",
      "Epoch 1/100\n",
      "424/424 [==============================] - 6s 14ms/step - loss: 1.4167 - accuracy: 0.0189 - val_loss: 1.6019 - val_accuracy: 0.0000e+00\n",
      "Epoch 2/100\n",
      "424/424 [==============================] - 5s 12ms/step - loss: 1.1879 - accuracy: 0.0259 - val_loss: 1.3286 - val_accuracy: 0.0667\n",
      "Epoch 3/100\n",
      "424/424 [==============================] - 5s 13ms/step - loss: 1.0521 - accuracy: 0.0566 - val_loss: 1.3648 - val_accuracy: 0.0133\n",
      "Epoch 4/100\n",
      "424/424 [==============================] - 5s 13ms/step - loss: 0.8942 - accuracy: 0.0613 - val_loss: 1.4202 - val_accuracy: 0.0133\n",
      "Epoch 5/100\n",
      "424/424 [==============================] - 5s 12ms/step - loss: 0.7421 - accuracy: 0.0755 - val_loss: 1.5150 - val_accuracy: 0.0133\n",
      "Epoch 6/100\n",
      "424/424 [==============================] - 5s 13ms/step - loss: 0.6016 - accuracy: 0.0943 - val_loss: 1.5496 - val_accuracy: 0.0133\n",
      "Epoch 7/100\n",
      "424/424 [==============================] - 5s 13ms/step - loss: 0.4836 - accuracy: 0.1014 - val_loss: 1.6293 - val_accuracy: 0.0133\n",
      "Epoch 8/100\n",
      "424/424 [==============================] - 5s 13ms/step - loss: 0.4034 - accuracy: 0.1061 - val_loss: 1.6319 - val_accuracy: 0.0267\n",
      "Epoch 9/100\n",
      "424/424 [==============================] - 5s 13ms/step - loss: 0.3375 - accuracy: 0.1203 - val_loss: 1.7085 - val_accuracy: 0.0267\n",
      "Epoch 10/100\n",
      "424/424 [==============================] - 5s 13ms/step - loss: 0.2915 - accuracy: 0.1392 - val_loss: 1.7131 - val_accuracy: 0.0267\n",
      "Epoch 11/100\n",
      "424/424 [==============================] - 5s 13ms/step - loss: 0.2549 - accuracy: 0.1462 - val_loss: 1.7671 - val_accuracy: 0.0000e+00\n",
      "Epoch 12/100\n",
      "424/424 [==============================] - 5s 13ms/step - loss: 0.2347 - accuracy: 0.1580 - val_loss: 1.7999 - val_accuracy: 0.0267\n",
      "Epoch 13/100\n",
      "424/424 [==============================] - 5s 13ms/step - loss: 0.2167 - accuracy: 0.1698 - val_loss: 1.7838 - val_accuracy: 0.0267\n",
      "Epoch 14/100\n",
      "424/424 [==============================] - 5s 13ms/step - loss: 0.2040 - accuracy: 0.1792 - val_loss: 1.8277 - val_accuracy: 0.0267\n",
      "Epoch 15/100\n",
      "424/424 [==============================] - 5s 13ms/step - loss: 0.1950 - accuracy: 0.1958 - val_loss: 1.8536 - val_accuracy: 0.0133\n",
      "Epoch 16/100\n",
      "424/424 [==============================] - 5s 12ms/step - loss: 0.1877 - accuracy: 0.1769 - val_loss: 1.9164 - val_accuracy: 0.0400\n",
      "Epoch 17/100\n",
      "424/424 [==============================] - 5s 13ms/step - loss: 0.1848 - accuracy: 0.1863 - val_loss: 1.9230 - val_accuracy: 0.0267\n",
      "Epoch 18/100\n",
      "424/424 [==============================] - 5s 13ms/step - loss: 0.1806 - accuracy: 0.2123 - val_loss: 1.9221 - val_accuracy: 0.0267\n",
      "Epoch 19/100\n",
      "424/424 [==============================] - 5s 13ms/step - loss: 0.1779 - accuracy: 0.2052 - val_loss: 1.9662 - val_accuracy: 0.0267\n",
      "Epoch 20/100\n",
      "424/424 [==============================] - 5s 13ms/step - loss: 0.1774 - accuracy: 0.2264 - val_loss: 1.9832 - val_accuracy: 0.0267\n",
      "Epoch 21/100\n",
      "424/424 [==============================] - 5s 13ms/step - loss: 0.1771 - accuracy: 0.2241 - val_loss: 1.9385 - val_accuracy: 0.0400\n",
      "Epoch 22/100\n",
      "424/424 [==============================] - 5s 13ms/step - loss: 0.1736 - accuracy: 0.2241 - val_loss: 2.0058 - val_accuracy: 0.0267\n",
      "Epoch 23/100\n",
      "424/424 [==============================] - 5s 12ms/step - loss: 0.1714 - accuracy: 0.2311 - val_loss: 2.0136 - val_accuracy: 0.0267\n",
      "Epoch 24/100\n",
      "424/424 [==============================] - 5s 13ms/step - loss: 0.1707 - accuracy: 0.2877 - val_loss: 1.9906 - val_accuracy: 0.0400\n",
      "Epoch 25/100\n",
      "424/424 [==============================] - 5s 13ms/step - loss: 0.1668 - accuracy: 0.2571 - val_loss: 1.9717 - val_accuracy: 0.0533\n",
      "Epoch 26/100\n",
      "424/424 [==============================] - 5s 13ms/step - loss: 0.1658 - accuracy: 0.2925 - val_loss: 2.0237 - val_accuracy: 0.0267\n",
      "Epoch 27/100\n",
      "424/424 [==============================] - 5s 12ms/step - loss: 0.1645 - accuracy: 0.3113 - val_loss: 2.0191 - val_accuracy: 0.0267\n",
      "Epoch 28/100\n",
      "424/424 [==============================] - 5s 13ms/step - loss: 0.1656 - accuracy: 0.2948 - val_loss: 2.0182 - val_accuracy: 0.0267\n",
      "Epoch 29/100\n",
      "424/424 [==============================] - 5s 13ms/step - loss: 0.1664 - accuracy: 0.2995 - val_loss: 2.0221 - val_accuracy: 0.0400\n",
      "Epoch 30/100\n",
      "424/424 [==============================] - 5s 13ms/step - loss: 0.1643 - accuracy: 0.3019 - val_loss: 2.0291 - val_accuracy: 0.0400\n",
      "Epoch 31/100\n",
      "424/424 [==============================] - 5s 13ms/step - loss: 0.1652 - accuracy: 0.3090 - val_loss: 2.0544 - val_accuracy: 0.0133\n",
      "Epoch 32/100\n",
      "424/424 [==============================] - 5s 13ms/step - loss: 0.1661 - accuracy: 0.3160 - val_loss: 2.0624 - val_accuracy: 0.0267\n",
      "Epoch 33/100\n",
      "424/424 [==============================] - 5s 13ms/step - loss: 0.1634 - accuracy: 0.3255 - val_loss: 2.0574 - val_accuracy: 0.0267\n",
      "Epoch 34/100\n",
      "424/424 [==============================] - 5s 13ms/step - loss: 0.1624 - accuracy: 0.3491 - val_loss: 2.0970 - val_accuracy: 0.0133\n",
      "Epoch 35/100\n",
      "424/424 [==============================] - 5s 13ms/step - loss: 0.1591 - accuracy: 0.3585 - val_loss: 2.1002 - val_accuracy: 0.0267\n",
      "Epoch 36/100\n",
      "424/424 [==============================] - 5s 12ms/step - loss: 0.1581 - accuracy: 0.3514 - val_loss: 2.0542 - val_accuracy: 0.0400\n",
      "Epoch 37/100\n",
      "424/424 [==============================] - 5s 12ms/step - loss: 0.1583 - accuracy: 0.3797 - val_loss: 2.1202 - val_accuracy: 0.0267\n",
      "Epoch 38/100\n",
      "424/424 [==============================] - 5s 13ms/step - loss: 0.1588 - accuracy: 0.3443 - val_loss: 2.0456 - val_accuracy: 0.0267\n",
      "Epoch 39/100\n",
      "424/424 [==============================] - 5s 13ms/step - loss: 0.1589 - accuracy: 0.3561 - val_loss: 2.0684 - val_accuracy: 0.0267\n",
      "Epoch 40/100\n",
      "424/424 [==============================] - 5s 13ms/step - loss: 0.1594 - accuracy: 0.3608 - val_loss: 2.0654 - val_accuracy: 0.0267\n",
      "Epoch 41/100\n",
      "424/424 [==============================] - 5s 12ms/step - loss: 0.1588 - accuracy: 0.3726 - val_loss: 2.0778 - val_accuracy: 0.0267\n",
      "Epoch 42/100\n",
      "424/424 [==============================] - 5s 12ms/step - loss: 0.1597 - accuracy: 0.3561 - val_loss: 2.1055 - val_accuracy: 0.0267\n",
      "Epoch 43/100\n",
      "424/424 [==============================] - 5s 12ms/step - loss: 0.1561 - accuracy: 0.3797 - val_loss: 2.0666 - val_accuracy: 0.0267\n",
      "Epoch 44/100\n",
      "424/424 [==============================] - 5s 13ms/step - loss: 0.1547 - accuracy: 0.3821 - val_loss: 2.0522 - val_accuracy: 0.0267\n",
      "Epoch 45/100\n",
      "424/424 [==============================] - 5s 13ms/step - loss: 0.1538 - accuracy: 0.3986 - val_loss: 2.0839 - val_accuracy: 0.0267\n",
      "Epoch 46/100\n",
      "424/424 [==============================] - 5s 12ms/step - loss: 0.1537 - accuracy: 0.4104 - val_loss: 2.0363 - val_accuracy: 0.0267\n",
      "Epoch 47/100\n",
      "424/424 [==============================] - 5s 13ms/step - loss: 0.1541 - accuracy: 0.4151 - val_loss: 2.0661 - val_accuracy: 0.0267\n",
      "Epoch 48/100\n",
      "424/424 [==============================] - 5s 12ms/step - loss: 0.1547 - accuracy: 0.4175 - val_loss: 2.0602 - val_accuracy: 0.0267\n",
      "Epoch 49/100\n",
      "424/424 [==============================] - 5s 13ms/step - loss: 0.1509 - accuracy: 0.4528 - val_loss: 2.1077 - val_accuracy: 0.0267\n",
      "Epoch 50/100\n",
      "424/424 [==============================] - 5s 13ms/step - loss: 0.1504 - accuracy: 0.4198 - val_loss: 2.0753 - val_accuracy: 0.0400\n",
      "Epoch 51/100\n",
      "424/424 [==============================] - 5s 13ms/step - loss: 0.1500 - accuracy: 0.4245 - val_loss: 2.0434 - val_accuracy: 0.0133\n",
      "Epoch 52/100\n",
      "424/424 [==============================] - 5s 12ms/step - loss: 0.1495 - accuracy: 0.4245 - val_loss: 2.0354 - val_accuracy: 0.0267\n",
      "Epoch 53/100\n",
      "424/424 [==============================] - 5s 12ms/step - loss: 0.1467 - accuracy: 0.4269 - val_loss: 2.0714 - val_accuracy: 0.0267\n",
      "Epoch 54/100\n",
      "424/424 [==============================] - 5s 13ms/step - loss: 0.1466 - accuracy: 0.4481 - val_loss: 2.0588 - val_accuracy: 0.0267\n",
      "Epoch 55/100\n",
      "424/424 [==============================] - 5s 12ms/step - loss: 0.1477 - accuracy: 0.4033 - val_loss: 2.0558 - val_accuracy: 0.0267\n",
      "Epoch 56/100\n",
      "424/424 [==============================] - 5s 13ms/step - loss: 0.1463 - accuracy: 0.4528 - val_loss: 2.0582 - val_accuracy: 0.0267\n",
      "Epoch 57/100\n"
     ]
    },
    {
     "name": "stdout",
     "output_type": "stream",
     "text": [
      "424/424 [==============================] - 5s 13ms/step - loss: 0.1472 - accuracy: 0.4340 - val_loss: 2.0468 - val_accuracy: 0.0267\n",
      "Epoch 58/100\n",
      "424/424 [==============================] - 5s 12ms/step - loss: 0.1467 - accuracy: 0.4717 - val_loss: 2.0680 - val_accuracy: 0.0267\n",
      "Epoch 59/100\n",
      "424/424 [==============================] - 5s 12ms/step - loss: 0.1448 - accuracy: 0.4552 - val_loss: 2.0243 - val_accuracy: 0.0267\n",
      "Epoch 60/100\n",
      "424/424 [==============================] - 5s 13ms/step - loss: 0.1438 - accuracy: 0.4552 - val_loss: 2.0801 - val_accuracy: 0.0267\n",
      "Epoch 61/100\n",
      "424/424 [==============================] - 5s 12ms/step - loss: 0.1425 - accuracy: 0.4953 - val_loss: 2.0483 - val_accuracy: 0.0267\n",
      "Epoch 62/100\n",
      "424/424 [==============================] - 5s 13ms/step - loss: 0.1425 - accuracy: 0.5047 - val_loss: 2.0708 - val_accuracy: 0.0267\n",
      "Epoch 63/100\n",
      "424/424 [==============================] - 5s 13ms/step - loss: 0.1443 - accuracy: 0.5142 - val_loss: 2.0780 - val_accuracy: 0.0267\n",
      "Epoch 64/100\n",
      "424/424 [==============================] - 5s 12ms/step - loss: 0.1438 - accuracy: 0.4835 - val_loss: 2.0743 - val_accuracy: 0.0267\n",
      "Epoch 65/100\n",
      "424/424 [==============================] - 5s 12ms/step - loss: 0.1435 - accuracy: 0.5000 - val_loss: 2.0439 - val_accuracy: 0.0267\n",
      "Epoch 66/100\n",
      "424/424 [==============================] - 5s 13ms/step - loss: 0.1434 - accuracy: 0.5259 - val_loss: 2.0623 - val_accuracy: 0.0267\n",
      "Epoch 67/100\n",
      "424/424 [==============================] - 5s 12ms/step - loss: 0.1444 - accuracy: 0.5047 - val_loss: 2.0917 - val_accuracy: 0.0267\n",
      "Epoch 68/100\n",
      "424/424 [==============================] - 5s 12ms/step - loss: 0.1435 - accuracy: 0.5212 - val_loss: 2.1047 - val_accuracy: 0.0267\n",
      "Epoch 69/100\n",
      "424/424 [==============================] - 5s 12ms/step - loss: 0.1430 - accuracy: 0.5000 - val_loss: 2.1263 - val_accuracy: 0.0267\n",
      "Epoch 70/100\n",
      "424/424 [==============================] - 5s 13ms/step - loss: 0.1428 - accuracy: 0.5189 - val_loss: 2.0837 - val_accuracy: 0.0133\n",
      "Epoch 71/100\n",
      "424/424 [==============================] - 5s 12ms/step - loss: 0.1411 - accuracy: 0.5118 - val_loss: 2.0955 - val_accuracy: 0.0267\n",
      "Epoch 72/100\n",
      "424/424 [==============================] - 5s 12ms/step - loss: 0.1391 - accuracy: 0.5283 - val_loss: 2.0628 - val_accuracy: 0.0267\n",
      "Epoch 73/100\n",
      "424/424 [==============================] - 5s 12ms/step - loss: 0.1396 - accuracy: 0.5566 - val_loss: 2.0668 - val_accuracy: 0.0267\n",
      "Epoch 74/100\n",
      "424/424 [==============================] - 5s 12ms/step - loss: 0.1396 - accuracy: 0.5354 - val_loss: 2.0732 - val_accuracy: 0.0267\n",
      "Epoch 75/100\n",
      "424/424 [==============================] - 5s 13ms/step - loss: 0.1401 - accuracy: 0.5330 - val_loss: 2.0265 - val_accuracy: 0.0400\n",
      "Epoch 76/100\n",
      "424/424 [==============================] - 5s 12ms/step - loss: 0.1392 - accuracy: 0.5189 - val_loss: 2.0671 - val_accuracy: 0.0267\n",
      "Epoch 77/100\n",
      "424/424 [==============================] - 5s 13ms/step - loss: 0.1391 - accuracy: 0.5307 - val_loss: 2.0600 - val_accuracy: 0.0400\n",
      "Epoch 78/100\n",
      "424/424 [==============================] - 5s 13ms/step - loss: 0.1394 - accuracy: 0.5377 - val_loss: 2.0727 - val_accuracy: 0.0267\n",
      "Epoch 79/100\n",
      "424/424 [==============================] - 5s 12ms/step - loss: 0.1379 - accuracy: 0.5519 - val_loss: 2.0404 - val_accuracy: 0.0267\n",
      "Epoch 80/100\n",
      "424/424 [==============================] - 5s 13ms/step - loss: 0.1388 - accuracy: 0.5377 - val_loss: 2.0927 - val_accuracy: 0.0400\n",
      "Epoch 81/100\n",
      "424/424 [==============================] - 5s 12ms/step - loss: 0.1381 - accuracy: 0.5472 - val_loss: 2.0605 - val_accuracy: 0.0400\n",
      "Epoch 82/100\n",
      "424/424 [==============================] - 5s 13ms/step - loss: 0.1386 - accuracy: 0.5660 - val_loss: 2.1020 - val_accuracy: 0.0400\n",
      "Epoch 83/100\n",
      "424/424 [==============================] - 5s 13ms/step - loss: 0.1386 - accuracy: 0.5755 - val_loss: 2.0542 - val_accuracy: 0.0400\n",
      "Epoch 84/100\n",
      "424/424 [==============================] - 5s 12ms/step - loss: 0.1371 - accuracy: 0.5590 - val_loss: 2.0638 - val_accuracy: 0.0267\n",
      "Epoch 85/100\n",
      "424/424 [==============================] - 5s 13ms/step - loss: 0.1364 - accuracy: 0.5472 - val_loss: 2.0721 - val_accuracy: 0.0400\n",
      "Epoch 86/100\n",
      "424/424 [==============================] - 5s 12ms/step - loss: 0.1352 - accuracy: 0.5354 - val_loss: 2.0957 - val_accuracy: 0.0267\n",
      "Epoch 87/100\n",
      "424/424 [==============================] - 5s 12ms/step - loss: 0.1351 - accuracy: 0.5448 - val_loss: 2.0778 - val_accuracy: 0.0267\n",
      "Epoch 88/100\n",
      "424/424 [==============================] - 5s 13ms/step - loss: 0.1347 - accuracy: 0.5825 - val_loss: 2.0811 - val_accuracy: 0.0133\n",
      "Epoch 89/100\n",
      "424/424 [==============================] - 5s 12ms/step - loss: 0.1340 - accuracy: 0.5708 - val_loss: 2.0972 - val_accuracy: 0.0400\n",
      "Epoch 90/100\n",
      "424/424 [==============================] - 5s 12ms/step - loss: 0.1326 - accuracy: 0.5660 - val_loss: 2.0896 - val_accuracy: 0.0267\n",
      "Epoch 91/100\n",
      "424/424 [==============================] - 5s 12ms/step - loss: 0.1335 - accuracy: 0.5708 - val_loss: 2.1160 - val_accuracy: 0.0267\n",
      "Epoch 92/100\n",
      "424/424 [==============================] - 5s 13ms/step - loss: 0.1326 - accuracy: 0.5731 - val_loss: 2.0838 - val_accuracy: 0.0267\n",
      "Epoch 93/100\n",
      "424/424 [==============================] - 5s 12ms/step - loss: 0.1324 - accuracy: 0.5991 - val_loss: 2.1044 - val_accuracy: 0.0267\n",
      "Epoch 94/100\n",
      "424/424 [==============================] - 5s 13ms/step - loss: 0.1321 - accuracy: 0.5660 - val_loss: 2.0656 - val_accuracy: 0.0267\n",
      "Epoch 95/100\n",
      "424/424 [==============================] - 5s 13ms/step - loss: 0.1321 - accuracy: 0.5708 - val_loss: 2.0625 - val_accuracy: 0.0267\n",
      "Epoch 96/100\n",
      "424/424 [==============================] - 5s 12ms/step - loss: 0.1316 - accuracy: 0.5566 - val_loss: 2.0503 - val_accuracy: 0.0267\n",
      "Epoch 97/100\n",
      "424/424 [==============================] - 5s 12ms/step - loss: 0.1308 - accuracy: 0.5542 - val_loss: 2.0800 - val_accuracy: 0.0267\n",
      "Epoch 98/100\n",
      "424/424 [==============================] - 5s 12ms/step - loss: 0.1309 - accuracy: 0.5873 - val_loss: 2.0628 - val_accuracy: 0.0267\n",
      "Epoch 99/100\n",
      "424/424 [==============================] - 5s 12ms/step - loss: 0.1305 - accuracy: 0.6085 - val_loss: 2.0861 - val_accuracy: 0.0400\n",
      "Epoch 100/100\n",
      "424/424 [==============================] - 5s 13ms/step - loss: 0.1308 - accuracy: 0.5660 - val_loss: 2.0801 - val_accuracy: 0.0400\n"
     ]
    }
   ],
   "source": [
    "history = model.fit(X_train, Y_train, validation_data=(X_test, Y_test), batch_size=2, epochs=100, verbose=1)"
   ]
  },
  {
   "cell_type": "code",
   "execution_count": null,
   "metadata": {},
   "outputs": [],
   "source": []
  },
  {
   "cell_type": "code",
   "execution_count": null,
   "metadata": {},
   "outputs": [],
   "source": []
  },
  {
   "cell_type": "code",
   "execution_count": null,
   "metadata": {},
   "outputs": [],
   "source": []
  },
  {
   "cell_type": "code",
   "execution_count": null,
   "metadata": {},
   "outputs": [],
   "source": []
  },
  {
   "cell_type": "code",
   "execution_count": null,
   "metadata": {},
   "outputs": [],
   "source": []
  },
  {
   "cell_type": "code",
   "execution_count": null,
   "metadata": {},
   "outputs": [],
   "source": []
  },
  {
   "cell_type": "code",
   "execution_count": 11,
   "metadata": {},
   "outputs": [],
   "source": [
    "# loss_list_epoch= []\n",
    "# RF_avg_distance_epoch = []\n",
    "# RF_list_distance_epoch = []"
   ]
  },
  {
   "cell_type": "code",
   "execution_count": 12,
   "metadata": {},
   "outputs": [],
   "source": [
    "# # Do first time to initial the tree!\n",
    "# print(\"******** Start fitting model ********\")\n",
    "# history = model.fit(X_train, Y_train_flatten, validation_data=(X_test, Y_test_flatten), batch_size=50, epochs=1, verbose=1)\n",
    "# print(history.history['loss'])\n",
    "# loss_list_epoch.append(history.history['loss'][0])\n",
    "\n",
    "# print(\"******** Start calculating RF Distance ********\")\n",
    "# RF_list_distance = []\n",
    "# for index in range(len(X_train)):\n",
    "#     tips_num = np.count_nonzero(np.sum(X_train[index], axis=1) != 0) \n",
    "# #         print(\"tips_num: \", tips_num)\n",
    "#     array_selection_length = int((tips_num + 1) * tips_num / 2)\n",
    "#     Y_train_flatten_vec_sel = Y_train_flatten[index][0:array_selection_length]\n",
    "#     X_train_results = model.predict(X_train[index].reshape((1, 100, 1000, 1)))\n",
    "#     X_train_results_vec_sel = X_train_results[0][0:array_selection_length]\n",
    "#     original_dis_matrix = utri2mat(Y_train_flatten_vec_sel)\n",
    "#     new_dis_matrix = utri2mat(X_train_results_vec_sel)\n",
    "#     for i in range(len(new_dis_matrix)):\n",
    "#         new_dis_matrix[i,i] = 0\n",
    "#     with open('./output/CSV/original_dis_matrix'+str(index)+'.csv', mode='w') as my_csv:\n",
    "#         csvWriter = csv.writer(my_csv,delimiter=',')\n",
    "#         csvWriter.writerows(original_dis_matrix)\n",
    "#     with open('./output/CSV/new_dis_matrix'+str(index)+'.csv', mode='w') as my_csv:\n",
    "#         csvWriter = csv.writer(my_csv,delimiter=',')\n",
    "#         csvWriter.writerows(new_dis_matrix)\n",
    "#     taxon_namespace = dendropy.TaxonSet()\n",
    "#     pdm_origin = dendropy.PhylogeneticDistanceMatrix.from_csv(\n",
    "#             src=open('./output/CSV/original_dis_matrix'+str(index)+'.csv'),\n",
    "#             is_first_row_column_names=False,\n",
    "#             is_first_column_row_names=False,\n",
    "#             delimiter=\",\",\n",
    "#             taxon_namespace = taxon_namespace)\n",
    "#     pdm_new = dendropy.PhylogeneticDistanceMatrix.from_csv(\n",
    "#             src=open('./output/CSV/new_dis_matrix'+str(index)+'.csv'),\n",
    "#             is_first_row_column_names=False,\n",
    "#             is_first_column_row_names=False,\n",
    "#             delimiter=\",\",\n",
    "#             taxon_namespace = taxon_namespace)\n",
    "#     tree_origin = pdm_origin.nj_tree()\n",
    "#     tree_new = pdm_new.nj_tree()\n",
    "#     RF_distance = treecompare.symmetric_difference(tree_origin, tree_new)\n",
    "#     RF_list_distance.append(RF_distance)\n",
    "# RF_list_distance_epoch.append(RF_list_distance)\n",
    "# RF_avg_distance_epoch.append(sum(RF_list_distance) / len(RF_list_distance))\n",
    "# print(\"RF_list_distance: \", RF_list_distance)\n",
    "# print(\"RF_avg_distance_epoch: \", RF_avg_distance_epoch)"
   ]
  },
  {
   "cell_type": "code",
   "execution_count": 13,
   "metadata": {
    "scrolled": true
   },
   "outputs": [],
   "source": [
    "# # (5) Train\n",
    "# # history = model.fit(X_train, Y_train_flatten, validation_data=(X_test, Y_test_flatten), batch_size=16, epochs=10, verbose=1)\n",
    "# for i in range(5):\n",
    "#     print(\"******** Start fitting model ********\")\n",
    "#     history = model.fit(X_train, Y_train_flatten, validation_data=(X_test, Y_test_flatten), batch_size=40, epochs=50, verbose=1)\n",
    "#     print(history.history['loss'])\n",
    "#     loss_list_epoch.append(history.history['loss'][0])\n",
    "\n",
    "#     print(\"******** Start calculating RF Distance ********\")\n",
    "#     RF_list_distance = []\n",
    "#     for index in range(len(X_train)):\n",
    "#         tips_num = np.count_nonzero(np.sum(X_train[index], axis=1) != 0) \n",
    "# #         print(\"tips_num: \", tips_num)\n",
    "#         array_selection_length = int((tips_num + 1) * tips_num / 2)\n",
    "#         Y_train_flatten_vec_sel = Y_train_flatten[index][0:array_selection_length]\n",
    "#         X_train_results = model.predict(X_train[index].reshape((1, 100, 1000, 1)))\n",
    "#         X_train_results_vec_sel = X_train_results[0][0:array_selection_length]\n",
    "#         original_dis_matrix = utri2mat(Y_train_flatten_vec_sel)\n",
    "#         new_dis_matrix = utri2mat(X_train_results_vec_sel)\n",
    "#         for i in range(len(new_dis_matrix)):\n",
    "#             new_dis_matrix[i,i] = 0\n",
    "#         with open('./output/CSV/original_dis_matrix'+str(index)+'.csv', mode='w') as my_csv:\n",
    "#             csvWriter = csv.writer(my_csv,delimiter=',')\n",
    "#             csvWriter.writerows(original_dis_matrix)\n",
    "#         with open('./output/CSV/new_dis_matrix'+str(index)+'.csv', mode='w') as my_csv:\n",
    "#             csvWriter = csv.writer(my_csv,delimiter=',')\n",
    "#             csvWriter.writerows(new_dis_matrix)\n",
    "#         taxon_namespace = dendropy.TaxonSet()\n",
    "#         pdm_origin = dendropy.PhylogeneticDistanceMatrix.from_csv(\n",
    "#                 src=open('./output/CSV/original_dis_matrix'+str(index)+'.csv'),\n",
    "#                 is_first_row_column_names=False,\n",
    "#                 is_first_column_row_names=False,\n",
    "#                 delimiter=\",\",\n",
    "#                 taxon_namespace = taxon_namespace)\n",
    "#         pdm_new = dendropy.PhylogeneticDistanceMatrix.from_csv(\n",
    "#                 src=open('./output/CSV/new_dis_matrix'+str(index)+'.csv'),\n",
    "#                 is_first_row_column_names=False,\n",
    "#                 is_first_column_row_names=False,\n",
    "#                 delimiter=\",\",\n",
    "#                 taxon_namespace = taxon_namespace)\n",
    "#         tree_origin = pdm_origin.nj_tree()\n",
    "#         tree_new = pdm_new.nj_tree()\n",
    "#         RF_distance = treecompare.symmetric_difference(tree_origin, tree_new)\n",
    "#         RF_list_distance.append(RF_distance)\n",
    "#     RF_list_distance_epoch.append(RF_list_distance)\n",
    "#     RF_avg_distance_epoch.append(sum(RF_list_distance) / len(RF_list_distance))\n",
    "#     print(\"RF_list_distance: \", RF_list_distance)\n",
    "#     print(\"RF_avg_distance_epoch: \", RF_avg_distance_epoch)"
   ]
  },
  {
   "cell_type": "code",
   "execution_count": 14,
   "metadata": {},
   "outputs": [],
   "source": [
    "model.save('./output/CNN_model_03.h5')"
   ]
  },
  {
   "cell_type": "code",
   "execution_count": 16,
   "metadata": {},
   "outputs": [
    {
     "name": "stdout",
     "output_type": "stream",
     "text": [
      "424/424 [==============================] - 2s 5ms/step\n",
      "75/75 [==============================] - 0s 4ms/step\n",
      "Train Acc:  [0.1299978972605939, 0.6084905862808228]\n",
      "Test Acc:  [2.0800620460510255, 0.03999999910593033]\n"
     ]
    }
   ],
   "source": [
    "train_result = model.evaluate(X_train, Y_train)\n",
    "test_result = model.evaluate(X_test, Y_test)\n",
    "print(\"Train Acc: \", train_result)\n",
    "print(\"Test Acc: \", test_result)"
   ]
  },
  {
   "cell_type": "markdown",
   "metadata": {},
   "source": [
    "## Load the Model"
   ]
  },
  {
   "cell_type": "code",
   "execution_count": 17,
   "metadata": {},
   "outputs": [],
   "source": [
    "# model = keras.models.load_model('./output/CNN_model_03.h5')"
   ]
  },
  {
   "cell_type": "markdown",
   "metadata": {},
   "source": [
    "## X_train plot"
   ]
  },
  {
   "cell_type": "code",
   "execution_count": 18,
   "metadata": {},
   "outputs": [],
   "source": [
    "X_train_results = model.predict(X_train)"
   ]
  },
  {
   "cell_type": "code",
   "execution_count": 19,
   "metadata": {},
   "outputs": [],
   "source": [
    "train_show_index = 0"
   ]
  },
  {
   "cell_type": "code",
   "execution_count": 21,
   "metadata": {},
   "outputs": [
    {
     "data": {
      "text/plain": [
       "Text(0, 0.5, 'Distance Matrix Value')"
      ]
     },
     "execution_count": 21,
     "metadata": {},
     "output_type": "execute_result"
    },
    {
     "data": {
      "image/png": "[encoded data removed]",
      "text/plain": [
       "<Figure size 432x288 with 1 Axes>"
      ]
     },
     "metadata": {
      "needs_background": "light"
     },
     "output_type": "display_data"
    }
   ],
   "source": [
    "plt.scatter(range(X_train_results[train_show_index].shape[0]), X_train_results[train_show_index], c='r', s = 2)\n",
    "plt.scatter(range(Y_train[train_show_index].shape[0]), Y_train[train_show_index], c='g', s = 2)\n",
    "plt.xlabel ('Flatten Distance Matrix Index')\n",
    "plt.ylabel ('Distance Matrix Value')"
   ]
  },
  {
   "cell_type": "code",
   "execution_count": 22,
   "metadata": {},
   "outputs": [
    {
     "data": {
      "text/plain": [
       "<function matplotlib.pyplot.show(*args, **kw)>"
      ]
     },
     "execution_count": 22,
     "metadata": {},
     "output_type": "execute_result"
    },
    {
     "data": {
      "image/png": "[encoded data removed]",
      "text/plain": [
       "<Figure size 432x288 with 1 Axes>"
      ]
     },
     "metadata": {
      "needs_background": "light"
     },
     "output_type": "display_data"
    }
   ],
   "source": [
    "plt.scatter(X_train_results[train_show_index], Y_train[train_show_index], c='r', s = 2)\n",
    "plt.xlabel ('Training Data Prediction')\n",
    "plt.ylabel ('Training Data Label')\n",
    "plt.show"
   ]
  },
  {
   "cell_type": "code",
   "execution_count": 25,
   "metadata": {},
   "outputs": [],
   "source": [
    "X_train_results_resh= X_train_results.reshape((1, 424*100))\n",
    "Y_train_resh = Y_train.reshape((1, 424*100))"
   ]
  },
  {
   "cell_type": "code",
   "execution_count": 26,
   "metadata": {},
   "outputs": [
    {
     "data": {
      "text/plain": [
       "<function matplotlib.pyplot.show(*args, **kw)>"
      ]
     },
     "execution_count": 26,
     "metadata": {},
     "output_type": "execute_result"
    },
    {
     "data": {
      "image/png": "[encoded data removed]",
      "text/plain": [
       "<Figure size 432x288 with 1 Axes>"
      ]
     },
     "metadata": {
      "needs_background": "light"
     },
     "output_type": "display_data"
    }
   ],
   "source": [
    "plt.scatter(X_train_results_resh, Y_train_resh, c='r', s = 2)\n",
    "plt.xlabel ('Training Data Prediction')\n",
    "plt.ylabel ('Training Data Label')\n",
    "plt.show"
   ]
  },
  {
   "cell_type": "markdown",
   "metadata": {},
   "source": [
    "## X_test plot"
   ]
  },
  {
   "cell_type": "code",
   "execution_count": 27,
   "metadata": {},
   "outputs": [],
   "source": [
    "X_test_results = model.predict(X_test)"
   ]
  },
  {
   "cell_type": "code",
   "execution_count": 28,
   "metadata": {},
   "outputs": [],
   "source": [
    "test_show_index = 10"
   ]
  },
  {
   "cell_type": "code",
   "execution_count": 29,
   "metadata": {},
   "outputs": [
    {
     "data": {
      "text/plain": [
       "Text(0, 0.5, 'Distance Matrix Value')"
      ]
     },
     "execution_count": 29,
     "metadata": {},
     "output_type": "execute_result"
    },
    {
     "data": {
      "image/png": "[encoded data removed]",
      "text/plain": [
       "<Figure size 432x288 with 1 Axes>"
      ]
     },
     "metadata": {
      "needs_background": "light"
     },
     "output_type": "display_data"
    }
   ],
   "source": [
    "plt.scatter(range(X_test_results[test_show_index].shape[0]), X_test_results[test_show_index], c='r', s = 2)\n",
    "plt.scatter(range(Y_test[test_show_index].shape[0]), Y_test[test_show_index], c='g', s = 2)\n",
    "plt.xlabel ('Flatten Distance Matrix Index')\n",
    "plt.ylabel ('Distance Matrix Value')"
   ]
  },
  {
   "cell_type": "code",
   "execution_count": 31,
   "metadata": {
    "scrolled": true
   },
   "outputs": [
    {
     "data": {
      "text/plain": [
       "<function matplotlib.pyplot.show(*args, **kw)>"
      ]
     },
     "execution_count": 31,
     "metadata": {},
     "output_type": "execute_result"
    },
    {
     "data": {
      "image/png": "[encoded data removed]",
      "text/plain": [
       "<Figure size 432x288 with 1 Axes>"
      ]
     },
     "metadata": {
      "needs_background": "light"
     },
     "output_type": "display_data"
    }
   ],
   "source": [
    "plt.scatter(X_test_results[train_show_index], Y_test[train_show_index], c='r', s = 2)\n",
    "plt.xlabel ('Validation Data Prediction')\n",
    "plt.ylabel ('Validation Data Label')\n",
    "plt.show"
   ]
  },
  {
   "cell_type": "code",
   "execution_count": 32,
   "metadata": {},
   "outputs": [],
   "source": [
    "X_test_results_resh= X_test_results.reshape((1, 75*100))\n",
    "Y_test_resh = Y_test.reshape((1, 75*100))"
   ]
  },
  {
   "cell_type": "code",
   "execution_count": 33,
   "metadata": {},
   "outputs": [
    {
     "data": {
      "text/plain": [
       "<function matplotlib.pyplot.show(*args, **kw)>"
      ]
     },
     "execution_count": 33,
     "metadata": {},
     "output_type": "execute_result"
    },
    {
     "data": {
      "image/png": "[encoded data removed]",
      "text/plain": [
       "<Figure size 432x288 with 1 Axes>"
      ]
     },
     "metadata": {
      "needs_background": "light"
     },
     "output_type": "display_data"
    }
   ],
   "source": [
    "plt.scatter(X_test_results_resh, Y_test_resh, c='r', s = 2)\n",
    "plt.xlabel ('Training Data Prediction')\n",
    "plt.ylabel ('Training Data Label')\n",
    "plt.show"
   ]
  },
  {
   "cell_type": "markdown",
   "metadata": {},
   "source": [
    "## Plot Loss "
   ]
  },
  {
   "cell_type": "code",
   "execution_count": 42,
   "metadata": {},
   "outputs": [
    {
     "data": {
      "image/png": "[encoded data removed]",
      "text/plain": [
       "<Figure size 432x288 with 1 Axes>"
      ]
     },
     "metadata": {
      "needs_background": "light"
     },
     "output_type": "display_data"
    }
   ],
   "source": [
    "plt.plot(history.history['loss'])\n",
    "plt.show()"
   ]
  },
  {
   "cell_type": "markdown",
   "metadata": {},
   "source": [
    "## Plot RF distance"
   ]
  },
  {
   "cell_type": "code",
   "execution_count": null,
   "metadata": {},
   "outputs": [],
   "source": [
    "for index in range(15):\n",
    "    index_RF_dist = [each[index] for each in RF_list_distance_epoch]\n",
    "    plt.plot(index_RF_dist)\n",
    "    plt.xlabel ('Epochs Index')\n",
    "    plt.ylabel ('RFR Distance')\n",
    "    plt.show()"
   ]
  },
  {
   "cell_type": "code",
   "execution_count": null,
   "metadata": {},
   "outputs": [],
   "source": [
    "plt.plot(RF_avg_distance_epoch)\n",
    "plt.xlabel ('Epochs Index')\n",
    "plt.ylabel ('RFR Distance')\n",
    "plt.show()"
   ]
  },
  {
   "cell_type": "code",
   "execution_count": null,
   "metadata": {},
   "outputs": [],
   "source": []
  }
 ],
 "metadata": {
  "kernelspec": {
   "display_name": "Python 3",
   "language": "python",
   "name": "python3"
  },
  "language_info": {
   "codemirror_mode": {
    "name": "ipython",
    "version": 3
   },
   "file_extension": ".py",
   "mimetype": "text/x-python",
   "name": "python",
   "nbconvert_exporter": "python",
   "pygments_lexer": "ipython3",
   "version": "3.7.4"
  }
 },
 "nbformat": 4,
 "nbformat_minor": 4
}
