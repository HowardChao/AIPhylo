{
 "cells": [
  {
   "cell_type": "code",
   "execution_count": 1,
   "metadata": {},
   "outputs": [
    {
     "name": "stderr",
     "output_type": "stream",
     "text": [
      "Using TensorFlow backend.\n"
     ]
    }
   ],
   "source": [
    "import numpy as np\n",
    "import keras\n",
    "from keras.models import Sequential\n",
    "from keras.layers import Dense, Activation, Dropout, Flatten, Conv2D, MaxPooling2D, ZeroPadding2D\n",
    "from keras.layers.normalization import BatchNormalization\n",
    "from PIL import Image\n",
    "import random\n",
    "import math"
   ]
  },
  {
   "cell_type": "code",
   "execution_count": 2,
   "metadata": {},
   "outputs": [],
   "source": [
    "training_data = np.load('./output/training_data.npy')\n",
    "training_labels = np.load('./output/training_dists.npy')\n",
    "\n",
    "#pad the training data matrix so it is 100x1024\n",
    "\n",
    "#(500, 100, 1000, 1)\n",
    "\n",
    "# zero_padding_array = np.zeros((500,100,600,1))"
   ]
  },
  {
   "cell_type": "code",
   "execution_count": 6,
   "metadata": {},
   "outputs": [],
   "source": [
    "BRANCH_NUM = 100\n",
    "SEQUENCE_LEN = 1000\n",
    "\n",
    "OUTPUT_DIST_NUM = int((BRANCH_NUM + 1) * BRANCH_NUM / 2)"
   ]
  },
  {
   "cell_type": "code",
   "execution_count": 3,
   "metadata": {},
   "outputs": [
    {
     "data": {
      "text/plain": [
       "(500, 100, 1000, 1)"
      ]
     },
     "execution_count": 3,
     "metadata": {},
     "output_type": "execute_result"
    }
   ],
   "source": [
    "training_data.shape"
   ]
  },
  {
   "cell_type": "code",
   "execution_count": 4,
   "metadata": {},
   "outputs": [
    {
     "data": {
      "text/plain": [
       "(500, 5050)"
      ]
     },
     "execution_count": 4,
     "metadata": {},
     "output_type": "execute_result"
    }
   ],
   "source": [
    "training_labels.shape"
   ]
  },
  {
   "cell_type": "code",
   "execution_count": 5,
   "metadata": {},
   "outputs": [],
   "source": [
    "# zero_padding_array.shape"
   ]
  },
  {
   "cell_type": "code",
   "execution_count": 7,
   "metadata": {},
   "outputs": [
    {
     "name": "stdout",
     "output_type": "stream",
     "text": [
      "(500, 5050)\n",
      "train_size:  425\n",
      "samples_count:  500\n",
      "X_train.shape :  (425, 100, 1000, 1)\n",
      "X_test.shape :  (75, 100, 1000, 1)\n",
      "Y_train.shape :  (425, 5050)\n",
      "Y_test.shape :  (75, 5050)\n",
      "Model: \"sequential_1\"\n",
      "_________________________________________________________________\n",
      "Layer (type)                 Output Shape              Param #   \n",
      "=================================================================\n",
      "conv2d_1 (Conv2D)            (None, 98, 998, 64)       640       \n",
      "_________________________________________________________________\n",
      "batch_normalization_1 (Batch (None, 98, 998, 64)       256       \n",
      "_________________________________________________________________\n",
      "activation_1 (Activation)    (None, 98, 998, 64)       0         \n",
      "_________________________________________________________________\n",
      "conv2d_2 (Conv2D)            (None, 96, 996, 32)       18464     \n",
      "_________________________________________________________________\n",
      "batch_normalization_2 (Batch (None, 96, 996, 32)       128       \n",
      "_________________________________________________________________\n",
      "activation_2 (Activation)    (None, 96, 996, 32)       0         \n",
      "_________________________________________________________________\n",
      "conv2d_3 (Conv2D)            (None, 94, 994, 16)       4624      \n",
      "_________________________________________________________________\n",
      "batch_normalization_3 (Batch (None, 94, 994, 16)       64        \n",
      "_________________________________________________________________\n",
      "activation_3 (Activation)    (None, 94, 994, 16)       0         \n",
      "_________________________________________________________________\n",
      "conv2d_4 (Conv2D)            (None, 92, 992, 1)        145       \n",
      "_________________________________________________________________\n",
      "batch_normalization_4 (Batch (None, 92, 992, 1)        4         \n",
      "_________________________________________________________________\n",
      "activation_4 (Activation)    (None, 92, 992, 1)        0         \n",
      "_________________________________________________________________\n",
      "flatten_1 (Flatten)          (None, 91264)             0         \n",
      "_________________________________________________________________\n",
      "dense_1 (Dense)              (None, 5050)              460888250 \n",
      "=================================================================\n",
      "Total params: 460,912,575\n",
      "Trainable params: 460,912,349\n",
      "Non-trainable params: 226\n",
      "_________________________________________________________________\n"
     ]
    }
   ],
   "source": [
    "# print(training_data.shape)\n",
    "# training_data = np.concatenate([training_data, zero_padding_array], axis=2)\n",
    "# print(training_data.shape)\n",
    "\n",
    "print(training_labels.shape)\n",
    "\n",
    "samples_count = training_data.shape[0]\n",
    "\n",
    "train_size = math.floor(0.85*training_data.shape[0])\n",
    "\n",
    "shuffle_indices = random.sample(range(0, samples_count), samples_count)\n",
    "\n",
    "print('train_size: ', train_size)\n",
    "print('samples_count: ', samples_count)\n",
    "indices_train = shuffle_indices[0:train_size]\n",
    "indices_test = shuffle_indices[train_size:samples_count]\n",
    "\n",
    "X_train = training_data[indices_train,:]\n",
    "Y_train = training_labels[indices_train]\n",
    "\n",
    "X_test = training_data[indices_test,:]\n",
    "Y_test = training_labels[indices_test]\n",
    "\n",
    "print('X_train.shape : ', X_train.shape)\n",
    "print('X_test.shape : ', X_test.shape)\n",
    "\n",
    "print('Y_train.shape : ', Y_train.shape)\n",
    "print('Y_test.shape : ', Y_test.shape)\n",
    "\n",
    "np.save('X_test.npy', X_test)\n",
    "np.save('Y_test.npy', Y_test)\n",
    "\n",
    "model = Sequential()\n",
    "\n",
    "# Layer 1\n",
    "model.add(Conv2D(64, input_shape=(BRANCH_NUM,SEQUENCE_LEN,1),  kernel_size=(3,3), strides=(1,1)))\n",
    "#model.add(Conv2D(48, input_shape=(400,11,1), kernel_size=(2,2), strides=(1,1), padding='same'))\n",
    "model.add(BatchNormalization())\n",
    "model.add(Activation('relu'))\n",
    "# model.add(MaxPooling2D(pool_size=(1, 2)))\n",
    "\n",
    "# Layer 2\n",
    "model.add(Conv2D(32, (3, 3)))\n",
    "model.add(BatchNormalization())\n",
    "model.add(Activation('relu'))\n",
    "# model.add(MaxPooling2D(pool_size=(1, 2)))\n",
    "\n",
    "# Layer 3\n",
    "model.add(Conv2D(16, (3, 3)))\n",
    "model.add(BatchNormalization())\n",
    "model.add(Activation('relu'))\n",
    "# model.add(MaxPooling2D(pool_size=(1, 2)))\n",
    "\n",
    "# Layer 4\n",
    "model.add(Conv2D(1, (3, 3)))\n",
    "model.add(BatchNormalization())\n",
    "model.add(Activation('relu'))\n",
    "model.add(Flatten())\n",
    "model.add(Dense(OUTPUT_DIST_NUM, activation='softmax'))\n",
    "# model.add(Dense(num_classes, activation='softmax'))\n",
    "# model.add(MaxPooling2D(pool_size=(1, 2)))\n",
    "\n",
    "model.summary()"
   ]
  },
  {
   "cell_type": "code",
   "execution_count": 8,
   "metadata": {},
   "outputs": [],
   "source": [
    "# (4) Compile \n",
    "#model.compile(loss='mse', optimizer='adam', metrics=['accuracy'])\n",
    "model.compile(loss=keras.losses.categorical_crossentropy, optimizer='adam', metrics=['accuracy'])"
   ]
  },
  {
   "cell_type": "code",
   "execution_count": null,
   "metadata": {},
   "outputs": [
    {
     "name": "stdout",
     "output_type": "stream",
     "text": [
      "Train on 425 samples, validate on 75 samples\n",
      "Epoch 1/4\n",
      "400/425 [===========================>..] - ETA: 1:07 - loss: 19919.1568 - accuracy: 0.0000e+00"
     ]
    }
   ],
   "source": [
    "# (5) Train\n",
    "model.fit(X_train, Y_train, validation_data=(X_test, Y_test), batch_size=16, epochs=4, verbose=1)\n",
    "\n",
    "model.save('./output/CNN_model_03.h5')"
   ]
  },
  {
   "cell_type": "code",
   "execution_count": 11,
   "metadata": {},
   "outputs": [
    {
     "name": "stdout",
     "output_type": "stream",
     "text": [
      "425/425 [==============================] - 41s 96ms/step\n",
      "75/75 [==============================] - 7s 99ms/step\n",
      "Training Acc:  [0.2648667133205077, 0.6456983685493469]\n",
      "Testing Acc:  [0.2524347738424937, 0.6556559801101685]\n"
     ]
    }
   ],
   "source": [
    "training_result = model.evaluate(X_train, Y_train)\n",
    "testing_result = model.evaluate(X_test, Y_test)"
   ]
  },
  {
   "cell_type": "code",
   "execution_count": 12,
   "metadata": {},
   "outputs": [
    {
     "name": "stdout",
     "output_type": "stream",
     "text": [
      "Training Acc:  0.6456983685493469\n",
      "Testing Acc:  0.6556559801101685\n"
     ]
    }
   ],
   "source": [
    "print('Training Acc: ', training_result[1])\n",
    "print('Testing Acc: ', testing_result[1])"
   ]
  },
  {
   "cell_type": "code",
   "execution_count": null,
   "metadata": {},
   "outputs": [],
   "source": []
  }
 ],
 "metadata": {
  "kernelspec": {
   "display_name": "Python 3",
   "language": "python",
   "name": "python3"
  },
  "language_info": {
   "codemirror_mode": {
    "name": "ipython",
    "version": 3
   },
   "file_extension": ".py",
   "mimetype": "text/x-python",
   "name": "python",
   "nbconvert_exporter": "python",
   "pygments_lexer": "ipython3",
   "version": "3.7.3"
  }
 },
 "nbformat": 4,
 "nbformat_minor": 2
}
