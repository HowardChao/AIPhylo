{
 "cells": [
  {
   "cell_type": "code",
   "execution_count": 1,
   "metadata": {},
   "outputs": [],
   "source": [
    "import random\n",
    "import numpy as np\n",
    "import math\n",
    "import matplotlib.pyplot as plt"
   ]
  },
  {
   "cell_type": "code",
   "execution_count": 2,
   "metadata": {},
   "outputs": [],
   "source": [
    "whole_data = np.load('../Data_Preprocessing/output/28630_Dataset/training_data.npy')\n",
    "whole_labels_flatten = np.load('../Data_Preprocessing/output/28630_Dataset/training_dists_flatten.npy')"
   ]
  },
  {
   "cell_type": "code",
   "execution_count": 3,
   "metadata": {},
   "outputs": [
    {
     "name": "stdout",
     "output_type": "stream",
     "text": [
      "(28630, 100, 1000, 1)\n",
      "(28630, 4950)\n"
     ]
    }
   ],
   "source": [
    "print(whole_data.shape)\n",
    "print(whole_labels_flatten.shape)"
   ]
  },
  {
   "cell_type": "markdown",
   "metadata": {},
   "source": [
    "## Shuffle each input sample (28630*100, 1000)\n",
    "\n",
    "Shuffle the **rows and the columns (100, 1000)** for each sample"
   ]
  },
  {
   "cell_type": "code",
   "execution_count": 4,
   "metadata": {},
   "outputs": [],
   "source": [
    "for i in range(whole_data.shape[0]):\n",
    "    shuffle_indices_100 = random.sample(range(0, 100), 100)\n",
    "    shuffle_indices_1000 = random.sample(range(0, 1000), 1000)\n",
    "    tmp = whole_data[i][shuffle_indices_100]\n",
    "    tmp = tmp[:, shuffle_indices_1000]\n",
    "    whole_data[i] = tmp"
   ]
  },
  {
   "cell_type": "markdown",
   "metadata": {},
   "source": [
    "## Training / Testing Dataset Partition (random seed 30)\n",
    "Shuffle the order of samples"
   ]
  },
  {
   "cell_type": "code",
   "execution_count": 5,
   "metadata": {},
   "outputs": [
    {
     "name": "stdout",
     "output_type": "stream",
     "text": [
      "28630\n"
     ]
    }
   ],
   "source": [
    "samples_count = whole_data.shape[0]\n",
    "\n",
    "train_size = math.floor(0.85*whole_data.shape[0])\n",
    "\n",
    "random.seed(30)\n",
    "\n",
    "shuffle_indices = random.sample(range(0, samples_count), samples_count)\n",
    "\n",
    "print(len(np.unique(shuffle_indices)))"
   ]
  },
  {
   "cell_type": "code",
   "execution_count": 6,
   "metadata": {},
   "outputs": [],
   "source": [
    "indices_train = shuffle_indices[0:train_size]\n",
    "indices_test = shuffle_indices[train_size:samples_count]"
   ]
  },
  {
   "cell_type": "code",
   "execution_count": 7,
   "metadata": {},
   "outputs": [
    {
     "name": "stdout",
     "output_type": "stream",
     "text": [
      "######## Training Data ########\n",
      "######## Validation Data ########\n",
      "X_train.shape :  (24335, 100, 1000, 1)\n",
      "Y_train_flatten.shape :  (24335, 4950)\n",
      "Y_test_flatten.shape :  (4295, 4950)\n"
     ]
    }
   ],
   "source": [
    "print(\"######## Training Data ########\")\n",
    "X_train = whole_data[indices_train,:]\n",
    "Y_train_flatten = whole_labels_flatten[indices_train]\n",
    "\n",
    "print(\"######## Validation Data ########\")\n",
    "X_test = whole_data[indices_test,:]\n",
    "Y_test_flatten = whole_labels_flatten[indices_test]\n",
    "\n",
    "print('X_train.shape : ', X_train.shape)\n",
    "\n",
    "print('Y_train_flatten.shape : ', Y_train_flatten.shape)\n",
    "print('Y_test_flatten.shape : ', Y_test_flatten.shape)# Training Testing Dataset Partition"
   ]
  },
  {
   "cell_type": "code",
   "execution_count": 8,
   "metadata": {},
   "outputs": [],
   "source": [
    "np.save('./output/28630_Dataset/X_train_seed_30.npy', X_train)\n",
    "np.save('./output/28630_Dataset/Y_train_flatten_seed_30.npy', Y_train_flatten)\n",
    "\n",
    "np.save('./output/28630_Dataset/X_test_seed_30.npy', X_test)\n",
    "np.save('./output/28630_Dataset/Y_test_flatten_seed_30.npy', Y_test_flatten)"
   ]
  },
  {
   "cell_type": "code",
   "execution_count": null,
   "metadata": {},
   "outputs": [],
   "source": []
  }
 ],
 "metadata": {
  "kernelspec": {
   "display_name": "Python 3",
   "language": "python",
   "name": "python3"
  },
  "language_info": {
   "codemirror_mode": {
    "name": "ipython",
    "version": 3
   },
   "file_extension": ".py",
   "mimetype": "text/x-python",
   "name": "python",
   "nbconvert_exporter": "python",
   "pygments_lexer": "ipython3",
   "version": "3.7.4"
  }
 },
 "nbformat": 4,
 "nbformat_minor": 4
}
