{
 "cells": [
  {
   "cell_type": "code",
   "execution_count": 1,
   "metadata": {},
   "outputs": [],
   "source": [
    "import pandas\n",
    "from itertools import product\n",
    "import sys, argparse, os\n",
    "import numpy as np\n",
    "from math import log, ceil\n",
    "from scipy.stats import multinomial, chi2\n",
    "from math import factorial\n",
    "import re\n",
    "import os"
   ]
  },
  {
   "cell_type": "code",
   "execution_count": 2,
   "metadata": {},
   "outputs": [],
   "source": [
    "from Bio import Phylo\n",
    "from io import BytesIO     # for handling byte strings\n",
    "from io import StringIO    # for handling unicode strings"
   ]
  },
  {
   "cell_type": "markdown",
   "metadata": {},
   "source": [
    "## Define Bandelt_Node Class"
   ]
  },
  {
   "cell_type": "code",
   "execution_count": 3,
   "metadata": {},
   "outputs": [],
   "source": [
    "class Bandelt_Node:\n",
    "    def __init__(self, data):\n",
    "        self.parent = None\n",
    "        self.left = None\n",
    "        self.right = None\n",
    "        self.data = data\n",
    "        \n",
    "    def find_node(self, val):\n",
    "        if self.data == val:\n",
    "            return self\n",
    "        else:\n",
    "            if (self.left == None) and (self.right == None):\n",
    "                return None\n",
    "            if self.left != None:\n",
    "                find_left = self.left.find_node(val)\n",
    "                if find_left != None:\n",
    "                    return find_left\n",
    "            if self.right != None:\n",
    "                find_right = self.right.find_node(val)\n",
    "                if find_right != None:\n",
    "                    return find_right\n",
    "            return None\n",
    "        \n",
    "    def print_details(self):\n",
    "        parent_data = self.parent.data if (self.parent != None) else self.parent\n",
    "        left_data = self.left.data if (self.left != None) else self.left\n",
    "        right_data = self.right.data if (self.right != None) else self.right\n",
    "        print(\"Current Value: \", self.data, \"; Parent: \", parent_data, \"; left: \", left_data, \"; right: \", right_data)\n",
    "        \n",
    "    def print_subtree(self, indent_num = 1):\n",
    "        if indent_num == 1:\n",
    "            print(self.data)\n",
    "        if self.left != None:\n",
    "            print('___'*indent_num, self.left.data)\n",
    "            self.left.print_subtree(indent_num + 1)\n",
    "        if self.right != None:\n",
    "            print('___'*indent_num, self.right.data)\n",
    "            self.right.print_subtree(indent_num + 1)\n",
    "            \n",
    "    def compare_subtree(self, compared_root_node):\n",
    "        if self.data != compared_root_node.data:\n",
    "#             print(\"Current number is not equal!\")\n",
    "            return False\n",
    "        \n",
    "        self_left_data = self.left.data if (self.left != None) else None\n",
    "        self_right_data = self.right.data if (self.right != None) else None\n",
    "\n",
    "        compared_root_node_left_data = compared_root_node.left.data if (compared_root_node.left != None) else None\n",
    "        compared_root_node_right_data = compared_root_node.right.data if (compared_root_node.right != None) else None\n",
    "\n",
    "        \n",
    "        if (self_left_data in [compared_root_node_left_data, compared_root_node_right_data]) and (self_right_data in [compared_root_node_left_data, compared_root_node_right_data]):\n",
    "#             print(\"Children are same !!\")\n",
    "            if (self_left_data == compared_root_node_left_data):\n",
    "#                 print(\"Order are same !!\")\n",
    "                if self.left != None:\n",
    "                    compare_ans_left = self.left.compare_subtree(compared_root_node.left)\n",
    "                    if not compare_ans_left:\n",
    "                        return False\n",
    "                if self.right != None:\n",
    "                    compare_ans_right = self.right.compare_subtree(compared_root_node.right)\n",
    "                    if not compare_ans_right:\n",
    "                        return False\n",
    "                \n",
    "            elif (self_left_data == compared_root_node_right_data):\n",
    "#                 print(\"Order are not same !!\")\n",
    "                if self.left != None:\n",
    "                    compare_ans_left = self.left.compare_subtree(compared_root_node.right)\n",
    "                    if not compare_ans_left:\n",
    "                        return False\n",
    "                if self.right != None:\n",
    "                    compare_ans_right = self.right.compare_subtree(compared_root_node.left)\n",
    "                    if not compare_ans_right:\n",
    "                        return False\n",
    "        else:\n",
    "#             print(\"Children are not same !!\")\n",
    "            return False\n",
    "        return True"
   ]
  },
  {
   "cell_type": "markdown",
   "metadata": {},
   "source": [
    "## Read files and get name mapping dictionary"
   ]
  },
  {
   "cell_type": "code",
   "execution_count": 4,
   "metadata": {},
   "outputs": [],
   "source": [
    "folder_list = ['Bergsten_2013']"
   ]
  },
  {
   "cell_type": "code",
   "execution_count": 5,
   "metadata": {},
   "outputs": [],
   "source": [
    "training_dataset_prefix = \"../training_small\""
   ]
  },
  {
   "cell_type": "code",
   "execution_count": 6,
   "metadata": {},
   "outputs": [],
   "source": [
    "dic={'A':'1', 'T':'2', 'C':'3', 'G':'4', '-':'0', '?':'0'}"
   ]
  },
  {
   "cell_type": "code",
   "execution_count": 7,
   "metadata": {},
   "outputs": [],
   "source": [
    "mapping_dic_dic = {}"
   ]
  },
  {
   "cell_type": "code",
   "execution_count": 8,
   "metadata": {},
   "outputs": [],
   "source": [
    "BRANCH_NUM = 100\n",
    "SEQUENCE_LEN = 1000"
   ]
  },
  {
   "cell_type": "code",
   "execution_count": 9,
   "metadata": {},
   "outputs": [
    {
     "name": "stdout",
     "output_type": "stream",
     "text": [
      "****:  alignment_H3_3rdpos-out.nex\n",
      "****:  alignment_H3_2ndpos-out.nex\n",
      "****:  alignment_COI_2ndpos-out.nex\n",
      "****:  alignment_COI_3rdpos-out.nex\n",
      "****:  alignment_H3_1stpos-out.nex\n",
      "****:  alignment_COI_1stpos-out.nex\n",
      "****:  alignment_18S-out.nex\n",
      "****:  alignment_16S-out.nex\n"
     ]
    }
   ],
   "source": [
    "# data preprocessing\n",
    "for folder in folder_list:\n",
    "    file_path = os.path.join(training_dataset_prefix, folder)\n",
    "    files_list = os.listdir(file_path)\n",
    "    for file in files_list:\n",
    "        if file.find('.nex.treefile.dist') > 0:\n",
    "            file_base_name = file[0:file.find('.nex.treefile.dist')]\n",
    "            #######################\n",
    "            # Input Processing !! #\n",
    "            #######################\n",
    "            print(\"****: \", file_base_name+'.nex')\n",
    "            seq_data_raw = open(os.path.join(file_path, file_base_name+'.nex'))\n",
    "            seq_data = seq_data_raw.readlines()[6:]\n",
    "            species_mapping_dic = {}\n",
    "            for idx, line in enumerate(seq_data):\n",
    "                curr_line = line.split()\n",
    "                if len(curr_line) < 2:\n",
    "                    break\n",
    "#                 print(curr_line[0])\n",
    "                if int(idx) == 0:\n",
    "                    species_mapping_dic[curr_line[0]] = sys.maxsize\n",
    "                else: \n",
    "                    species_mapping_dic[curr_line[0]] = int(idx-1)\n",
    "        mapping_dic_dic[file_base_name+'.nex'] = species_mapping_dic"
   ]
  },
  {
   "cell_type": "markdown",
   "metadata": {},
   "source": [
    "## Run all tree examples"
   ]
  },
  {
   "cell_type": "code",
   "execution_count": 10,
   "metadata": {
    "scrolled": true
   },
   "outputs": [],
   "source": [
    "# for folder in folder_list:\n",
    "#     file_path = os.path.join(training_dataset_prefix, folder)\n",
    "#     files_list = os.listdir(file_path)\n",
    "#     for file in files_list:\n",
    "#         if file.find('.nex.treefile.dist') > 0:\n",
    "#             file_base_name = file[0:file.find('.nex.treefile.dist')]\n",
    "#             #######################\n",
    "#             # Input Processing !! #\n",
    "#             #######################\n",
    "#             print(\"****: \", file_base_name+'.nex.treefile')\n",
    "#             seq_data_raw = open(os.path.join(file_path, file_base_name+'.nex.treefile'))\n",
    "#             seq_data = seq_data_raw.readline()\n",
    "            "
   ]
  },
  {
   "cell_type": "markdown",
   "metadata": {},
   "source": [
    "## Run one dictionary example"
   ]
  },
  {
   "cell_type": "code",
   "execution_count": 11,
   "metadata": {},
   "outputs": [],
   "source": [
    "tree = Phylo.read(os.path.join(file_path, 'alignment_H3_3rdpos-out.nex.treefile'), 'newick')"
   ]
  },
  {
   "cell_type": "code",
   "execution_count": 12,
   "metadata": {},
   "outputs": [
    {
     "data": {
      "image/png": "[encoded data removed]",
      "text/plain": [
       "<Figure size 432x288 with 1 Axes>"
      ]
     },
     "metadata": {
      "needs_background": "light"
     },
     "output_type": "display_data"
    }
   ],
   "source": [
    "Phylo.draw(tree)"
   ]
  },
  {
   "cell_type": "code",
   "execution_count": 13,
   "metadata": {},
   "outputs": [
    {
     "data": {
      "text/plain": [
       "Clade(branch_length=0.0815684251, name='Andex_insignis')"
      ]
     },
     "execution_count": 13,
     "metadata": {},
     "output_type": "execute_result"
    }
   ],
   "source": [
    "tree.root[0]"
   ]
  },
  {
   "cell_type": "code",
   "execution_count": 14,
   "metadata": {},
   "outputs": [
    {
     "data": {
      "text/plain": [
       "True"
      ]
     },
     "execution_count": 14,
     "metadata": {},
     "output_type": "execute_result"
    }
   ],
   "source": [
    "tree.is_bifurcating()"
   ]
  },
  {
   "cell_type": "code",
   "execution_count": 15,
   "metadata": {},
   "outputs": [
    {
     "data": {
      "text/plain": [
       "3"
      ]
     },
     "execution_count": 15,
     "metadata": {},
     "output_type": "execute_result"
    }
   ],
   "source": [
    "len(tree.clade)"
   ]
  },
  {
   "cell_type": "code",
   "execution_count": 16,
   "metadata": {},
   "outputs": [
    {
     "data": {
      "text/plain": [
       "{'Andex_insignis': 9223372036854775807,\n",
       " 'Canthyporus_hottentotus': 0,\n",
       " 'Heterosternusa_pulcher': 1,\n",
       " 'Hovahydrus_minutissimus': 2,\n",
       " 'Hydrocolus_sahlbergi': 3,\n",
       " 'Hydroporus_appalachius': 4,\n",
       " 'Hydroporus_axillaris': 5,\n",
       " 'Hydroporus_carri': 6,\n",
       " 'Hydroporus_erythrocephalus': 7,\n",
       " 'Hydroporus_fortis': 8,\n",
       " 'Hydroporus_kraatzii': 9,\n",
       " 'Hydroporus_lapponum': 10,\n",
       " 'Hydroporus_longiusculus': 11,\n",
       " 'Hydroporus_mannerheimi': 12,\n",
       " 'Hydroporus_memnonius': 13,\n",
       " 'Hydroporus_neglectus': 14,\n",
       " 'Hydroporus_nigellus': 15,\n",
       " 'Hydroporus_niger': 16,\n",
       " 'Hydroporus_nigrita': 17,\n",
       " 'Hydroporus_notabilis': 18,\n",
       " 'Hydroporus_obscurus': 19,\n",
       " 'Hydroporus_pilosus': 20,\n",
       " 'Hydroporus_puberulus': 21,\n",
       " 'Hydroporus_pubescens': 22,\n",
       " 'Hydroporus_rufifrons': 23,\n",
       " 'Hydroporus_scalesianus': 24,\n",
       " 'Hydroporus_sinuatipes': 25,\n",
       " 'Hydroporus_submuticus': 26,\n",
       " 'Hydroporus_tessellatus': 27,\n",
       " 'Hydroporus_tristis': 28,\n",
       " 'Hydroporus_vagepictus': 29,\n",
       " 'Hyphydrus_ovatus': 30,\n",
       " 'Laccornellus_copelatoides': 31,\n",
       " 'Neoporus_arizonicus': 32,\n",
       " 'Neoporus_undulatus': 33,\n",
       " 'Sanfilippodytes_terminalis': 34,\n",
       " 'Suphrodytes_dorsalis': 35,\n",
       " 'Suphrodytes_figuratus': 36}"
      ]
     },
     "execution_count": 16,
     "metadata": {},
     "output_type": "execute_result"
    }
   ],
   "source": [
    "mapping_dic_dic['alignment_18S-out.nex']"
   ]
  },
  {
   "cell_type": "markdown",
   "metadata": {},
   "source": [
    "# Implement Encoding Method"
   ]
  },
  {
   "cell_type": "code",
   "execution_count": 17,
   "metadata": {},
   "outputs": [],
   "source": [
    "def create_Bandelt_Tree(clade, parent_node, file_name):\n",
    "    for idx in range(len(clade)):\n",
    "        if idx == 0:\n",
    "            if clade[idx].is_terminal():\n",
    "                children_node = Bandelt_Node(int(mapping_dic_dic[file_name+'.nex'][clade[idx].name]))\n",
    "#                 # Parent add \n",
    "                parent_node.left = children_node\n",
    "                children_node.parent = parent_node\n",
    "#                 print(clade[idx].name)\n",
    "            else:\n",
    "                children_node = Bandelt_Node(int(-100))\n",
    "                parent_node.left = children_node\n",
    "                children_node.parent = parent_node\n",
    "#                 print(clade[idx])\n",
    "        if idx == 1:  \n",
    "            if clade[idx].is_terminal():\n",
    "                children_node = Bandelt_Node(int(mapping_dic_dic[file_name+'.nex'][clade[idx].name]))\n",
    "#                 # Parent add \n",
    "                parent_node.right = children_node\n",
    "                children_node.parent = parent_node\n",
    "#                 print(clade[idx].name)\n",
    "            else:\n",
    "                children_node = Bandelt_Node(int(-100))\n",
    "                parent_node.right = children_node\n",
    "                children_node.parent = parent_node\n",
    "#                 print(clade[idx])\n",
    "        create_Bandelt_Tree(clade[idx], children_node, file_name)"
   ]
  },
  {
   "cell_type": "code",
   "execution_count": 18,
   "metadata": {},
   "outputs": [],
   "source": [
    "def find_Bandelt_encode(target_node, val):\n",
    "    visited_nodes = []\n",
    "    queue = []\n",
    "    visited_nodes.append(target_node.data)\n",
    "    queue.append(target_node)\n",
    "    encode_num = None\n",
    "    while queue:\n",
    "        current_node = queue.pop(0)\n",
    "        if current_node != None:\n",
    "#             print (\"**** current_node: \", current_node.data) \n",
    "            if current_node.data != '*' and abs(int(current_node.data)) < abs(int(val)):\n",
    "                encode_num = current_node.data\n",
    "        if current_node.left != None:\n",
    "            if current_node.left.data not in visited_nodes:\n",
    "                visited_nodes.append(current_node.left.data)\n",
    "                queue.append(current_node.left)\n",
    "                \n",
    "        if current_node.right != None:\n",
    "            if current_node.right.data not in visited_nodes:\n",
    "                visited_nodes.append(current_node.right.data)\n",
    "                queue.append(current_node.right)   \n",
    "        if encode_num != None:\n",
    "            break\n",
    "    return encode_num"
   ]
  },
  {
   "cell_type": "code",
   "execution_count": 19,
   "metadata": {},
   "outputs": [],
   "source": [
    "def inner_node_indexation(current_node):\n",
    "#     print(current_node.data)\n",
    "    if current_node.left != None:\n",
    "        left_data = inner_node_indexation(current_node.left)\n",
    "    if current_node.right != None:\n",
    "        right_data = inner_node_indexation(current_node.right)\n",
    "    \n",
    "    if current_node.left != None and current_node.right != None:\n",
    "        # This is the inner node\n",
    "        if len(left_data) == 0:\n",
    "            current_node.data = int(-right_data[0])\n",
    "            return []\n",
    "        if len(right_data) == 0:\n",
    "            current_node.data = int(-left_data[0])\n",
    "            return []\n",
    "        if len(left_data) != 0 and len(right_data) != 0:\n",
    "            if abs(left_data[0]) > abs(right_data[0]):\n",
    "                current_node.data = int(-left_data[0])\n",
    "                return [right_data[0]]\n",
    "            elif abs(left_data[0]) < abs(right_data[0]):\n",
    "                current_node.data = int(-right_data[0])\n",
    "                return [left_data[0]]\n",
    "    elif current_node.left != None and current_node.right == None:\n",
    "        print(\"Finish!\")\n",
    "    else:\n",
    "        # This is the terminal node\n",
    "        return [current_node.data]\n",
    "#     if current_node.left == None and current_node.right == None:     \n",
    "# #         # This node is the terminal vertex\n",
    "#         return str(current_node.data)\n",
    "\n",
    "#     if current_node.left != None and current_node.right != None:\n",
    "#         newick_string = '(' + left_newick_string + ',' + right_newick_string + ')' + str(current_node.data)"
   ]
  },
  {
   "cell_type": "code",
   "execution_count": 23,
   "metadata": {},
   "outputs": [
    {
     "data": {
      "text/plain": [
       "Clade(branch_length=0.0852594043, name='Hovahydrus_minutissimus')"
      ]
     },
     "execution_count": 23,
     "metadata": {},
     "output_type": "execute_result"
    }
   ],
   "source": [
    "tree.root[2]"
   ]
  },
  {
   "cell_type": "code",
   "execution_count": 24,
   "metadata": {},
   "outputs": [],
   "source": [
    "def Bandelt_Encode(file_name):\n",
    "    tree = Phylo.read(os.path.join(file_path, file_name+'.nex.treefile'), 'newick')\n",
    "    Phylo.draw(tree)\n",
    "    \n",
    "    # This is the root\n",
    "    root_node = Bandelt_Node(sys.maxsize)\n",
    "    print(tree.root[0].name)\n",
    "    inner_root = Bandelt_Node(-100)\n",
    "    \n",
    "    if tree.root[1].is_terminal():\n",
    "        left_node = Bandelt_Node(int(mapping_dic_dic[file_name+'.nex'][tree.root[1].name]))\n",
    "        inner_root.left = left_node\n",
    "        left_node.parent = inner_root\n",
    "#                 print(clade[idx].name)\n",
    "    else:\n",
    "        left_node = Bandelt_Node(int(-100))\n",
    "        inner_root.left = left_node\n",
    "        left_node.parent = inner_root\n",
    "#                 print(clade[idx])\n",
    "\n",
    "    if tree.root[2].is_terminal():\n",
    "        right_node = Bandelt_Node(int(mapping_dic_dic[file_name+'.nex'][tree.root[2].name]))\n",
    "        inner_root.right = right_node\n",
    "        right_node.parent = inner_root\n",
    "#                 print(clade[idx].name)\n",
    "    else:\n",
    "        right_node = Bandelt_Node(int(-100))\n",
    "        inner_root.right = right_node\n",
    "        right_node.parent = inner_root\n",
    "        \n",
    "    # Add linkage for the first three node\n",
    "    root_node.left = inner_root\n",
    "    inner_root.parent = root_node\n",
    "    \n",
    "    create_Bandelt_Tree(tree.root[1], left_node, file_name)\n",
    "    create_Bandelt_Tree(tree.root[2], right_node, file_name)\n",
    "    \n",
    "    inner_node_indexation(root_node)\n",
    "    \n",
    "    encode_num_list = []\n",
    "    for i in range(0, tree.count_terminals()-2):\n",
    "        target_node_val = -(i+1)\n",
    "        found_node = root_node.find_node(target_node_val)\n",
    "#         print(found_node.print_details(), '\\n')\n",
    "        encode_num = find_Bandelt_encode(found_node, target_node_val)\n",
    "        encode_num_list.append(encode_num)\n",
    "    return (root_node, encode_num_list)"
   ]
  },
  {
   "cell_type": "code",
   "execution_count": 25,
   "metadata": {
    "scrolled": false
   },
   "outputs": [
    {
     "data": {
      "image/png": "[encoded data removed]",
      "text/plain": [
       "<Figure size 432x288 with 1 Axes>"
      ]
     },
     "metadata": {
      "needs_background": "light"
     },
     "output_type": "display_data"
    },
    {
     "name": "stdout",
     "output_type": "stream",
     "text": [
      "Andex_insignis\n",
      "Finish!\n"
     ]
    }
   ],
   "source": [
    "encode_tree, bandelt_encode_num = Bandelt_Encode('alignment_16S-out')"
   ]
  },
  {
   "cell_type": "code",
   "execution_count": 26,
   "metadata": {},
   "outputs": [
    {
     "name": "stdout",
     "output_type": "stream",
     "text": [
      "9223372036854775807\n",
      "___ -2\n",
      "______ -30\n",
      "_________ -1\n",
      "____________ -31\n",
      "_______________ 0\n",
      "_______________ 31\n",
      "____________ -3\n",
      "_______________ -4\n",
      "__________________ -34\n",
      "_____________________ -33\n",
      "________________________ -32\n",
      "___________________________ 1\n",
      "___________________________ 32\n",
      "________________________ 33\n",
      "_____________________ 34\n",
      "__________________ -5\n",
      "_____________________ -9\n",
      "________________________ -10\n",
      "___________________________ -16\n",
      "______________________________ -7\n",
      "_________________________________ -19\n",
      "____________________________________ -6\n",
      "_______________________________________ -12\n",
      "__________________________________________ 4\n",
      "__________________________________________ 12\n",
      "_______________________________________ -15\n",
      "__________________________________________ -11\n",
      "_____________________________________________ 6\n",
      "_____________________________________________ 11\n",
      "__________________________________________ 15\n",
      "____________________________________ 19\n",
      "_________________________________ -23\n",
      "____________________________________ 7\n",
      "____________________________________ 23\n",
      "______________________________ -18\n",
      "_________________________________ 16\n",
      "_________________________________ -25\n",
      "____________________________________ 18\n",
      "____________________________________ 25\n",
      "___________________________ -26\n",
      "______________________________ 10\n",
      "______________________________ 26\n",
      "________________________ -35\n",
      "___________________________ -14\n",
      "______________________________ -17\n",
      "_________________________________ -13\n",
      "____________________________________ 9\n",
      "____________________________________ 13\n",
      "_________________________________ -20\n",
      "____________________________________ -27\n",
      "_______________________________________ 17\n",
      "_______________________________________ 27\n",
      "____________________________________ -22\n",
      "_______________________________________ 20\n",
      "_______________________________________ 22\n",
      "______________________________ -21\n",
      "_________________________________ -28\n",
      "____________________________________ -24\n",
      "_______________________________________ 14\n",
      "_______________________________________ 24\n",
      "____________________________________ -29\n",
      "_______________________________________ 28\n",
      "_______________________________________ 29\n",
      "_________________________________ 21\n",
      "___________________________ -36\n",
      "______________________________ 35\n",
      "______________________________ 36\n",
      "_____________________ -8\n",
      "________________________ 5\n",
      "________________________ 8\n",
      "_______________ 3\n",
      "_________ 30\n",
      "______ 2\n"
     ]
    }
   ],
   "source": [
    "encode_tree.print_subtree()"
   ]
  },
  {
   "cell_type": "code",
   "execution_count": 27,
   "metadata": {},
   "outputs": [
    {
     "data": {
      "text/plain": [
       "[0,\n",
       " -1,\n",
       " 1,\n",
       " 1,\n",
       " 4,\n",
       " 4,\n",
       " -6,\n",
       " 5,\n",
       " -7,\n",
       " -7,\n",
       " 6,\n",
       " 4,\n",
       " 9,\n",
       " -13,\n",
       " -11,\n",
       " -7,\n",
       " -13,\n",
       " 16,\n",
       " -6,\n",
       " 17,\n",
       " 14,\n",
       " 20,\n",
       " 7,\n",
       " 14,\n",
       " 18,\n",
       " 10,\n",
       " 17,\n",
       " -24,\n",
       " 28,\n",
       " -1,\n",
       " 0,\n",
       " 1,\n",
       " -32,\n",
       " -33,\n",
       " -14,\n",
       " 35]"
      ]
     },
     "execution_count": 27,
     "metadata": {},
     "output_type": "execute_result"
    }
   ],
   "source": [
    "bandelt_encode_num"
   ]
  },
  {
   "cell_type": "code",
   "execution_count": null,
   "metadata": {},
   "outputs": [],
   "source": []
  },
  {
   "cell_type": "code",
   "execution_count": 35,
   "metadata": {},
   "outputs": [
    {
     "data": {
      "image/png": "[encoded data removed]",
      "text/plain": [
       "<Figure size 432x288 with 1 Axes>"
      ]
     },
     "metadata": {
      "needs_background": "light"
     },
     "output_type": "display_data"
    },
    {
     "name": "stdout",
     "output_type": "stream",
     "text": [
      "Andex_insignis\n",
      "Finish!\n"
     ]
    }
   ],
   "source": [
    "encode_tree_2, bandelt_encode_num_2 = Bandelt_Encode('alignment_COI_1stpos-out')"
   ]
  },
  {
   "cell_type": "code",
   "execution_count": 36,
   "metadata": {},
   "outputs": [
    {
     "name": "stdout",
     "output_type": "stream",
     "text": [
      "9223372036854775807\n",
      "___ -1\n",
      "______ -25\n",
      "_________ -28\n",
      "____________ -3\n",
      "_______________ -29\n",
      "__________________ -4\n",
      "_____________________ -30\n",
      "________________________ -31\n",
      "___________________________ -2\n",
      "______________________________ 0\n",
      "______________________________ 2\n",
      "___________________________ 31\n",
      "________________________ 30\n",
      "_____________________ -9\n",
      "________________________ -35\n",
      "___________________________ -34\n",
      "______________________________ -36\n",
      "_________________________________ -5\n",
      "____________________________________ -15\n",
      "_______________________________________ -10\n",
      "__________________________________________ -7\n",
      "_____________________________________________ -12\n",
      "________________________________________________ -16\n",
      "___________________________________________________ 4\n",
      "___________________________________________________ -23\n",
      "______________________________________________________ 16\n",
      "______________________________________________________ 23\n",
      "________________________________________________ 12\n",
      "_____________________________________________ -18\n",
      "________________________________________________ -19\n",
      "___________________________________________________ 7\n",
      "___________________________________________________ 19\n",
      "________________________________________________ 18\n",
      "__________________________________________ -26\n",
      "_____________________________________________ 10\n",
      "_____________________________________________ 26\n",
      "_______________________________________ 15\n",
      "____________________________________ -11\n",
      "_______________________________________ -6\n",
      "__________________________________________ -8\n",
      "_____________________________________________ 5\n",
      "_____________________________________________ 8\n",
      "__________________________________________ 6\n",
      "_______________________________________ 11\n",
      "_________________________________ 36\n",
      "______________________________ 34\n",
      "___________________________ 35\n",
      "________________________ -22\n",
      "___________________________ -20\n",
      "______________________________ -21\n",
      "_________________________________ -17\n",
      "____________________________________ -14\n",
      "_______________________________________ -13\n",
      "__________________________________________ 9\n",
      "__________________________________________ 13\n",
      "_______________________________________ -24\n",
      "__________________________________________ 14\n",
      "__________________________________________ 24\n",
      "____________________________________ 17\n",
      "_________________________________ -27\n",
      "____________________________________ 21\n",
      "____________________________________ 27\n",
      "______________________________ 20\n",
      "___________________________ 22\n",
      "__________________ 29\n",
      "_______________ 3\n",
      "____________ 28\n",
      "_________ 25\n",
      "______ -32\n",
      "_________ 1\n",
      "_________ -33\n",
      "____________ 32\n",
      "____________ 33\n"
     ]
    }
   ],
   "source": [
    "encode_tree_2.print_subtree()"
   ]
  },
  {
   "cell_type": "code",
   "execution_count": 37,
   "metadata": {},
   "outputs": [
    {
     "data": {
      "text/plain": [
       "[0,\n",
       " 0,\n",
       " -2,\n",
       " -2,\n",
       " 4,\n",
       " 5,\n",
       " 4,\n",
       " 5,\n",
       " -5,\n",
       " -7,\n",
       " -6,\n",
       " 4,\n",
       " 9,\n",
       " -13,\n",
       " -10,\n",
       " 4,\n",
       " -14,\n",
       " 7,\n",
       " 7,\n",
       " -17,\n",
       " -17,\n",
       " -20,\n",
       " 16,\n",
       " 14,\n",
       " -3,\n",
       " 10,\n",
       " 21,\n",
       " -3,\n",
       " -4,\n",
       " -2,\n",
       " -2,\n",
       " 1,\n",
       " 32,\n",
       " -5,\n",
       " -34,\n",
       " -5]"
      ]
     },
     "execution_count": 37,
     "metadata": {},
     "output_type": "execute_result"
    }
   ],
   "source": [
    "bandelt_encode_num_2"
   ]
  },
  {
   "cell_type": "markdown",
   "metadata": {},
   "source": [
    "# Implement Decoding Method"
   ]
  },
  {
   "cell_type": "code",
   "execution_count": 38,
   "metadata": {},
   "outputs": [],
   "source": [
    "def post_order_traversal_newick_string(current_node):\n",
    "#     print(current_node.data)\n",
    "    if current_node.left != None:\n",
    "        left_newick_string = post_order_traversal_newick_string(current_node.left)\n",
    "    if current_node.right != None:\n",
    "        right_newick_string = post_order_traversal_newick_string(current_node.right)\n",
    "\n",
    "    if current_node.left == None and current_node.right == None:     \n",
    "#         # This node is the terminal vertex\n",
    "        return str(current_node.data)\n",
    "\n",
    "    if current_node.left != None and current_node.right != None:\n",
    "        newick_string = '(' + left_newick_string + ',' + right_newick_string + ')' + str(current_node.data)\n",
    "    return newick_string"
   ]
  },
  {
   "cell_type": "code",
   "execution_count": 39,
   "metadata": {},
   "outputs": [],
   "source": [
    "def Bandelt_Decode(Bandelt_Encode_list):\n",
    "    BANDELT_NUM = len(Bandelt_Encode_list)\n",
    "    # Initial with three nodes\n",
    "    root_node = Bandelt_Node(sys.maxsize)\n",
    "    node_1 = Bandelt_Node(1)\n",
    "    node_neg_1 = Bandelt_Node(-1)\n",
    "    node_0 = Bandelt_Node(0)\n",
    "    # Create links between initial three nodes\n",
    "    root_node.left = node_neg_1\n",
    "    node_neg_1.parent = root_node\n",
    "    node_neg_1.left = node_0\n",
    "    node_neg_1.right = node_1\n",
    "    node_1.parent = node_neg_1\n",
    "    node_0.parent = node_neg_1\n",
    "    \n",
    "    for i in range(1, BANDELT_NUM):\n",
    "        added_node_val = -(i+1)\n",
    "#         print('Node going to be added: ', added_node_val)\n",
    "#         print('Need to find: ', Bandelt_Encode_list[i], ' node')\n",
    "\n",
    "        added_node_neg = Bandelt_Node(added_node_val)\n",
    "        added_node_pos = Bandelt_Node(-added_node_val)\n",
    "\n",
    "        target_node = root_node.find_node(Bandelt_Encode_list[i])\n",
    "\n",
    "        # If target node is the left child \n",
    "        if target_node.parent.left == target_node:\n",
    "            target_node.parent.left = added_node_neg\n",
    "            added_node_neg.parent = target_node.parent\n",
    "            added_node_neg.left = target_node\n",
    "            target_node.parent = added_node_neg\n",
    "\n",
    "            added_node_neg.right = added_node_pos\n",
    "            added_node_pos.parent = added_node_neg\n",
    "\n",
    "        # If target node is the right child\n",
    "        if target_node.parent.right == target_node:\n",
    "            target_node.parent.right = added_node_neg\n",
    "            added_node_neg.parent = target_node.parent\n",
    "            added_node_neg.right = target_node\n",
    "            target_node.parent = added_node_neg\n",
    "\n",
    "            added_node_neg.left = added_node_pos\n",
    "            added_node_pos.parent = added_node_neg\n",
    "    decode_tree = post_order_traversal_newick_string(root_node.left)\n",
    "    decode_tree_newick = decode_tree + ';'\n",
    "    return (root_node, decode_tree_newick)"
   ]
  },
  {
   "cell_type": "code",
   "execution_count": 40,
   "metadata": {},
   "outputs": [
    {
     "data": {
      "text/plain": [
       "[0,\n",
       " -1,\n",
       " 1,\n",
       " 1,\n",
       " 4,\n",
       " 4,\n",
       " -6,\n",
       " 5,\n",
       " -7,\n",
       " -7,\n",
       " 6,\n",
       " 4,\n",
       " 9,\n",
       " -13,\n",
       " -11,\n",
       " -7,\n",
       " -13,\n",
       " 16,\n",
       " -6,\n",
       " 17,\n",
       " 14,\n",
       " 20,\n",
       " 7,\n",
       " 14,\n",
       " 18,\n",
       " 10,\n",
       " 17,\n",
       " -24,\n",
       " 28,\n",
       " -1,\n",
       " 0,\n",
       " 1,\n",
       " -32,\n",
       " -33,\n",
       " -14,\n",
       " 35]"
      ]
     },
     "execution_count": 40,
     "metadata": {},
     "output_type": "execute_result"
    }
   ],
   "source": [
    "bandelt_encode_num"
   ]
  },
  {
   "cell_type": "code",
   "execution_count": 41,
   "metadata": {},
   "outputs": [],
   "source": [
    "decode_tree, bandelt_decode_num = Bandelt_Decode(bandelt_encode_num)"
   ]
  },
  {
   "cell_type": "code",
   "execution_count": 42,
   "metadata": {},
   "outputs": [
    {
     "name": "stdout",
     "output_type": "stream",
     "text": [
      "9223372036854775807\n",
      "___ -2\n",
      "______ -30\n",
      "_________ -1\n",
      "____________ -31\n",
      "_______________ 0\n",
      "_______________ 31\n",
      "____________ -3\n",
      "_______________ 3\n",
      "_______________ -4\n",
      "__________________ -5\n",
      "_____________________ -9\n",
      "________________________ -10\n",
      "___________________________ -16\n",
      "______________________________ -7\n",
      "_________________________________ -19\n",
      "____________________________________ -6\n",
      "_______________________________________ -12\n",
      "__________________________________________ 4\n",
      "__________________________________________ 12\n",
      "_______________________________________ -15\n",
      "__________________________________________ 15\n",
      "__________________________________________ -11\n",
      "_____________________________________________ 11\n",
      "_____________________________________________ 6\n",
      "____________________________________ 19\n",
      "_________________________________ -23\n",
      "____________________________________ 23\n",
      "____________________________________ 7\n",
      "______________________________ -18\n",
      "_________________________________ -25\n",
      "____________________________________ 18\n",
      "____________________________________ 25\n",
      "_________________________________ 16\n",
      "___________________________ -26\n",
      "______________________________ 26\n",
      "______________________________ 10\n",
      "________________________ -35\n",
      "___________________________ -36\n",
      "______________________________ 35\n",
      "______________________________ 36\n",
      "___________________________ -14\n",
      "______________________________ -21\n",
      "_________________________________ -28\n",
      "____________________________________ -24\n",
      "_______________________________________ 14\n",
      "_______________________________________ 24\n",
      "____________________________________ -29\n",
      "_______________________________________ 29\n",
      "_______________________________________ 28\n",
      "_________________________________ 21\n",
      "______________________________ -17\n",
      "_________________________________ -20\n",
      "____________________________________ -27\n",
      "_______________________________________ 17\n",
      "_______________________________________ 27\n",
      "____________________________________ -22\n",
      "_______________________________________ 22\n",
      "_______________________________________ 20\n",
      "_________________________________ -13\n",
      "____________________________________ 13\n",
      "____________________________________ 9\n",
      "_____________________ -8\n",
      "________________________ 8\n",
      "________________________ 5\n",
      "__________________ -34\n",
      "_____________________ 34\n",
      "_____________________ -33\n",
      "________________________ 33\n",
      "________________________ -32\n",
      "___________________________ 32\n",
      "___________________________ 1\n",
      "_________ 30\n",
      "______ 2\n"
     ]
    }
   ],
   "source": [
    "decode_tree.print_subtree()"
   ]
  },
  {
   "cell_type": "code",
   "execution_count": 43,
   "metadata": {},
   "outputs": [
    {
     "data": {
      "text/plain": [
       "True"
      ]
     },
     "execution_count": 43,
     "metadata": {},
     "output_type": "execute_result"
    }
   ],
   "source": [
    "decode_tree.compare_subtree(encode_tree)"
   ]
  },
  {
   "cell_type": "code",
   "execution_count": null,
   "metadata": {},
   "outputs": [],
   "source": []
  },
  {
   "cell_type": "code",
   "execution_count": 48,
   "metadata": {},
   "outputs": [],
   "source": [
    "decode_tree_2, bandelt_decode_num_2 = Bandelt_Decode(bandelt_encode_num_2)"
   ]
  },
  {
   "cell_type": "code",
   "execution_count": 49,
   "metadata": {},
   "outputs": [
    {
     "name": "stdout",
     "output_type": "stream",
     "text": [
      "9223372036854775807\n",
      "___ -1\n",
      "______ -25\n",
      "_________ -28\n",
      "____________ -3\n",
      "_______________ -29\n",
      "__________________ -4\n",
      "_____________________ -30\n",
      "________________________ -31\n",
      "___________________________ -2\n",
      "______________________________ 0\n",
      "______________________________ 2\n",
      "___________________________ 31\n",
      "________________________ 30\n",
      "_____________________ -9\n",
      "________________________ -22\n",
      "___________________________ -20\n",
      "______________________________ -21\n",
      "_________________________________ -17\n",
      "____________________________________ -14\n",
      "_______________________________________ -13\n",
      "__________________________________________ 9\n",
      "__________________________________________ 13\n",
      "_______________________________________ -24\n",
      "__________________________________________ 24\n",
      "__________________________________________ 14\n",
      "____________________________________ 17\n",
      "_________________________________ -27\n",
      "____________________________________ 27\n",
      "____________________________________ 21\n",
      "______________________________ 20\n",
      "___________________________ 22\n",
      "________________________ -35\n",
      "___________________________ 35\n",
      "___________________________ -34\n",
      "______________________________ 34\n",
      "______________________________ -36\n",
      "_________________________________ 36\n",
      "_________________________________ -5\n",
      "____________________________________ -11\n",
      "_______________________________________ -6\n",
      "__________________________________________ -8\n",
      "_____________________________________________ 5\n",
      "_____________________________________________ 8\n",
      "__________________________________________ 6\n",
      "_______________________________________ 11\n",
      "____________________________________ -15\n",
      "_______________________________________ 15\n",
      "_______________________________________ -10\n",
      "__________________________________________ -26\n",
      "_____________________________________________ 10\n",
      "_____________________________________________ 26\n",
      "__________________________________________ -7\n",
      "_____________________________________________ -18\n",
      "________________________________________________ -19\n",
      "___________________________________________________ 7\n",
      "___________________________________________________ 19\n",
      "________________________________________________ 18\n",
      "_____________________________________________ -12\n",
      "________________________________________________ 12\n",
      "________________________________________________ -16\n",
      "___________________________________________________ -23\n",
      "______________________________________________________ 16\n",
      "______________________________________________________ 23\n",
      "___________________________________________________ 4\n",
      "__________________ 29\n",
      "_______________ 3\n",
      "____________ 28\n",
      "_________ 25\n",
      "______ -32\n",
      "_________ -33\n",
      "____________ 32\n",
      "____________ 33\n",
      "_________ 1\n"
     ]
    }
   ],
   "source": [
    "decode_tree_2.print_subtree()"
   ]
  },
  {
   "cell_type": "code",
   "execution_count": 53,
   "metadata": {},
   "outputs": [
    {
     "data": {
      "text/plain": [
       "True"
      ]
     },
     "execution_count": 53,
     "metadata": {},
     "output_type": "execute_result"
    }
   ],
   "source": [
    "decode_tree_2.compare_subtree(encode_tree_2)"
   ]
  },
  {
   "cell_type": "code",
   "execution_count": null,
   "metadata": {},
   "outputs": [],
   "source": []
  }
 ],
 "metadata": {
  "kernelspec": {
   "display_name": "Python 3",
   "language": "python",
   "name": "python3"
  },
  "language_info": {
   "codemirror_mode": {
    "name": "ipython",
    "version": 3
   },
   "file_extension": ".py",
   "mimetype": "text/x-python",
   "name": "python",
   "nbconvert_exporter": "python",
   "pygments_lexer": "ipython3",
   "version": "3.7.4"
  }
 },
 "nbformat": 4,
 "nbformat_minor": 4
}
