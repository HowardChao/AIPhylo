{
 "cells": [
  {
   "cell_type": "code",
   "execution_count": 1,
   "metadata": {},
   "outputs": [],
   "source": [
    "import pandas\n",
    "from itertools import product\n",
    "import sys, argparse, os\n",
    "import numpy as np\n",
    "from math import log, ceil\n",
    "from scipy.stats import multinomial, chi2\n",
    "from math import factorial\n",
    "import re\n",
    "import os"
   ]
  },
  {
   "cell_type": "code",
   "execution_count": 2,
   "metadata": {},
   "outputs": [],
   "source": [
    "from Bio import Phylo\n",
    "from io import BytesIO     # for handling byte strings\n",
    "from io import StringIO    # for handling unicode strings"
   ]
  },
  {
   "cell_type": "markdown",
   "metadata": {},
   "source": [
    "## Define Bandelt_Node Class"
   ]
  },
  {
   "cell_type": "code",
   "execution_count": 3,
   "metadata": {},
   "outputs": [],
   "source": [
    "class Bandelt_Node:\n",
    "    def __init__(self, data):\n",
    "        self.parent = None\n",
    "        self.left = None\n",
    "        self.right = None\n",
    "        self.data = data\n",
    "        \n",
    "    def find_node(self, val):\n",
    "        if self.data == val:\n",
    "            return self\n",
    "        else:\n",
    "            if (self.left == None) and (self.right == None):\n",
    "                return None\n",
    "            if self.left != None:\n",
    "                find_left = self.left.find_node(val)\n",
    "                if find_left != None:\n",
    "                    return find_left\n",
    "            if self.right != None:\n",
    "                find_right = self.right.find_node(val)\n",
    "                if find_right != None:\n",
    "                    return find_right\n",
    "            return None\n",
    "        \n",
    "    def print_details(self):\n",
    "        parent_data = self.parent.data if (self.parent != None) else self.parent\n",
    "        left_data = self.left.data if (self.left != None) else self.left\n",
    "        right_data = self.right.data if (self.right != None) else self.right\n",
    "        print(\"Current Value: \", self.data, \"; Parent: \", parent_data, \"; left: \", left_data, \"; right: \", right_data)\n",
    "        \n",
    "    def print_subtree(self, indent_num = 1):\n",
    "        if indent_num == 1:\n",
    "            print(self.data)\n",
    "        if self.left != None:\n",
    "            print('___'*indent_num, self.left.data)\n",
    "            self.left.print_subtree(indent_num + 1)\n",
    "        if self.right != None:\n",
    "            print('___'*indent_num, self.right.data)\n",
    "            self.right.print_subtree(indent_num + 1)\n",
    "            \n",
    "    def compare_subtree(self, compared_root_node):\n",
    "        if self.data != compared_root_node.data:\n",
    "#             print(\"Current number is not equal!\")\n",
    "            return False\n",
    "        \n",
    "        self_left_data = self.left.data if (self.left != None) else None\n",
    "        self_right_data = self.right.data if (self.right != None) else None\n",
    "\n",
    "        compared_root_node_left_data = compared_root_node.left.data if (compared_root_node.left != None) else None\n",
    "        compared_root_node_right_data = compared_root_node.right.data if (compared_root_node.right != None) else None\n",
    "\n",
    "        \n",
    "        if (self_left_data in [compared_root_node_left_data, compared_root_node_right_data]) and (self_right_data in [compared_root_node_left_data, compared_root_node_right_data]):\n",
    "#             print(\"Children are same !!\")\n",
    "            if (self_left_data == compared_root_node_left_data):\n",
    "#                 print(\"Order are same !!\")\n",
    "                if self.left != None:\n",
    "                    compare_ans_left = self.left.compare_subtree(compared_root_node.left)\n",
    "                    if not compare_ans_left:\n",
    "                        return False\n",
    "                if self.right != None:\n",
    "                    compare_ans_right = self.right.compare_subtree(compared_root_node.right)\n",
    "                    if not compare_ans_right:\n",
    "                        return False\n",
    "                \n",
    "            elif (self_left_data == compared_root_node_right_data):\n",
    "#                 print(\"Order are not same !!\")\n",
    "                if self.left != None:\n",
    "                    compare_ans_left = self.left.compare_subtree(compared_root_node.right)\n",
    "                    if not compare_ans_left:\n",
    "                        return False\n",
    "                if self.right != None:\n",
    "                    compare_ans_right = self.right.compare_subtree(compared_root_node.left)\n",
    "                    if not compare_ans_right:\n",
    "                        return False\n",
    "        else:\n",
    "#             print(\"Children are not same !!\")\n",
    "            return False\n",
    "        return True"
   ]
  },
  {
   "cell_type": "markdown",
   "metadata": {},
   "source": [
    "# Implement Encoding Method"
   ]
  },
  {
   "cell_type": "code",
   "execution_count": 4,
   "metadata": {},
   "outputs": [],
   "source": [
    "def create_Bandelt_Tree(clade, parent_node):\n",
    "    for idx in range(len(clade)):\n",
    "        if idx == 0:\n",
    "            if clade[idx].is_terminal():\n",
    "                children_node = Bandelt_Node(int(clade[idx].name))\n",
    "                # Parent add \n",
    "                parent_node.left = children_node\n",
    "                children_node.parent = parent_node\n",
    "#                 print(clade[idx].name)\n",
    "            else:\n",
    "                children_node = Bandelt_Node(int(clade[idx].confidence))\n",
    "                parent_node.left = children_node\n",
    "                children_node.parent = parent_node\n",
    "#                 print(clade[idx].confidence)\n",
    "        if idx == 1:  \n",
    "            if clade[idx].is_terminal():\n",
    "                children_node = Bandelt_Node(int(clade[idx].name))\n",
    "                # Parent add \n",
    "                parent_node.right = children_node\n",
    "                children_node.parent = parent_node\n",
    "#                 print(clade[idx].name)\n",
    "            else:\n",
    "                children_node = Bandelt_Node(int(clade[idx].confidence))\n",
    "                parent_node.right = children_node\n",
    "                children_node.parent = parent_node\n",
    "#                 print(clade[idx].confidence)\n",
    "        create_Bandelt_Tree(clade[idx], children_node)"
   ]
  },
  {
   "cell_type": "code",
   "execution_count": 5,
   "metadata": {},
   "outputs": [],
   "source": [
    "def find_Bandelt_encode(target_node, val):\n",
    "    visited_nodes = []\n",
    "    queue = []\n",
    "    visited_nodes.append(target_node.data)\n",
    "    queue.append(target_node)\n",
    "    encode_num = None\n",
    "    while queue:\n",
    "        current_node = queue.pop(0)\n",
    "        if current_node != None:\n",
    "#             print (\"**** current_node: \", current_node.data) \n",
    "            if current_node.data != '*' and abs(int(current_node.data)) < abs(int(val)):\n",
    "                encode_num = current_node.data\n",
    "        if current_node.left != None:\n",
    "            if current_node.left.data not in visited_nodes:\n",
    "                visited_nodes.append(current_node.left.data)\n",
    "                queue.append(current_node.left)\n",
    "                \n",
    "        if current_node.right != None:\n",
    "            if current_node.right.data not in visited_nodes:\n",
    "                visited_nodes.append(current_node.right.data)\n",
    "                queue.append(current_node.right)   \n",
    "        if encode_num != None:\n",
    "            break\n",
    "    return encode_num"
   ]
  },
  {
   "cell_type": "code",
   "execution_count": 6,
   "metadata": {},
   "outputs": [],
   "source": [
    "def Bandelt_Encode(tree_string):\n",
    "    handle = StringIO(tree_string)\n",
    "    tree = Phylo.read(handle, \"newick\")\n",
    "    BANDELT_NUM = tree.count_terminals() - 1\n",
    "    root_node = Bandelt_Node(sys.maxsize)\n",
    "    inner_root = Bandelt_Node(int(tree.root.confidence))\n",
    "    root_node.left = inner_root\n",
    "    inner_root.parent = root_node\n",
    "    create_Bandelt_Tree(tree.root, inner_root)\n",
    "    encode_num_list = []\n",
    "    for i in range(0, BANDELT_NUM):\n",
    "        target_node_val = -(i+1)\n",
    "        found_node = root_node.find_node(target_node_val)\n",
    "#         print(found_node.print_details(), '\\n')\n",
    "        encode_num = find_Bandelt_encode(found_node, target_node_val)\n",
    "        encode_num_list.append(encode_num)\n",
    "    return (root_node, encode_num_list)"
   ]
  },
  {
   "cell_type": "markdown",
   "metadata": {},
   "source": [
    "### First Tree Encode Example"
   ]
  },
  {
   "cell_type": "markdown",
   "metadata": {},
   "source": [
    "#### Get Bandelt Encoding Result"
   ]
  },
  {
   "cell_type": "code",
   "execution_count": 7,
   "metadata": {},
   "outputs": [],
   "source": [
    "first_tree_encode, first_Bandelt_encode = Bandelt_Encode(\"(1,(2,(((6,4)-6,5)-5,(0,((7,3)-7,(8,9)-9)-8)-3)-4)-2)-1;\")"
   ]
  },
  {
   "cell_type": "markdown",
   "metadata": {},
   "source": [
    "#### Check Tree Topology"
   ]
  },
  {
   "cell_type": "code",
   "execution_count": 8,
   "metadata": {},
   "outputs": [
    {
     "data": {
      "text/plain": [
       "[0, 0, 0, -3, 4, 4, 3, -7, 8]"
      ]
     },
     "execution_count": 8,
     "metadata": {},
     "output_type": "execute_result"
    }
   ],
   "source": [
    "first_Bandelt_encode"
   ]
  },
  {
   "cell_type": "code",
   "execution_count": 9,
   "metadata": {},
   "outputs": [
    {
     "name": "stdout",
     "output_type": "stream",
     "text": [
      "9223372036854775807\n",
      "___ -1\n",
      "______ 1\n",
      "______ -2\n",
      "_________ 2\n",
      "_________ -4\n",
      "____________ -5\n",
      "_______________ -6\n",
      "__________________ 6\n",
      "__________________ 4\n",
      "_______________ 5\n",
      "____________ -3\n",
      "_______________ 0\n",
      "_______________ -8\n",
      "__________________ -7\n",
      "_____________________ 7\n",
      "_____________________ 3\n",
      "__________________ -9\n",
      "_____________________ 8\n",
      "_____________________ 9\n"
     ]
    }
   ],
   "source": [
    "first_tree_encode.print_subtree()"
   ]
  },
  {
   "cell_type": "code",
   "execution_count": 10,
   "metadata": {},
   "outputs": [
    {
     "data": {
      "image/png": "[encoded data removed]",
      "text/plain": [
       "<Figure size 432x288 with 1 Axes>"
      ]
     },
     "metadata": {
      "needs_background": "light"
     },
     "output_type": "display_data"
    }
   ],
   "source": [
    "treedata = \"(1,(2,(((6,4)-6,5)-5,(0,((7,3)-7,(8,9)-9)-8)-3)-4)-2)-1;\"\n",
    "handle = StringIO(treedata)\n",
    "tree = Phylo.read(handle, \"newick\")\n",
    "# tree.ladderize()   # Flip branches so deeper clades are displayed at top\n",
    "Phylo.draw(tree)"
   ]
  },
  {
   "cell_type": "code",
   "execution_count": 11,
   "metadata": {},
   "outputs": [
    {
     "name": "stdout",
     "output_type": "stream",
     "text": [
      "Tree(rooted=False, weight=1.0)\n",
      "    Clade(confidence=-1.0)\n",
      "        Clade(name='1')\n",
      "        Clade(confidence=-2.0)\n",
      "            Clade(name='2')\n",
      "            Clade(confidence=-4.0)\n",
      "                Clade(confidence=-5.0)\n",
      "                    Clade(confidence=-6.0)\n",
      "                        Clade(name='6')\n",
      "                        Clade(name='4')\n",
      "                    Clade(name='5')\n",
      "                Clade(confidence=-3.0)\n",
      "                    Clade(name='0')\n",
      "                    Clade(confidence=-8.0)\n",
      "                        Clade(confidence=-7.0)\n",
      "                            Clade(name='7')\n",
      "                            Clade(name='3')\n",
      "                        Clade(confidence=-9.0)\n",
      "                            Clade(name='8')\n",
      "                            Clade(name='9')\n"
     ]
    }
   ],
   "source": [
    "print(tree)"
   ]
  },
  {
   "cell_type": "markdown",
   "metadata": {},
   "source": [
    "### Second Tree Encode Example"
   ]
  },
  {
   "cell_type": "markdown",
   "metadata": {},
   "source": [
    "#### Get Bandelt Encoding Result"
   ]
  },
  {
   "cell_type": "code",
   "execution_count": 12,
   "metadata": {},
   "outputs": [],
   "source": [
    "second_tree_encode, second_Bandelt_encode  = Bandelt_Encode(\"(((0,4)-4,(1,(5,2)-5)-2)-1,3)-3;\")"
   ]
  },
  {
   "cell_type": "markdown",
   "metadata": {},
   "source": [
    "#### Check Tree Topology"
   ]
  },
  {
   "cell_type": "code",
   "execution_count": 13,
   "metadata": {},
   "outputs": [
    {
     "data": {
      "text/plain": [
       "[0, 1, -1, 0, 2]"
      ]
     },
     "execution_count": 13,
     "metadata": {},
     "output_type": "execute_result"
    }
   ],
   "source": [
    "second_Bandelt_encode"
   ]
  },
  {
   "cell_type": "code",
   "execution_count": 14,
   "metadata": {},
   "outputs": [
    {
     "name": "stdout",
     "output_type": "stream",
     "text": [
      "9223372036854775807\n",
      "___ -3\n",
      "______ -1\n",
      "_________ -4\n",
      "____________ 0\n",
      "____________ 4\n",
      "_________ -2\n",
      "____________ 1\n",
      "____________ -5\n",
      "_______________ 5\n",
      "_______________ 2\n",
      "______ 3\n"
     ]
    }
   ],
   "source": [
    "second_tree_encode.print_subtree()"
   ]
  },
  {
   "cell_type": "code",
   "execution_count": 15,
   "metadata": {},
   "outputs": [
    {
     "data": {
      "image/png": "[encoded data removed]",
      "text/plain": [
       "<Figure size 432x288 with 1 Axes>"
      ]
     },
     "metadata": {
      "needs_background": "light"
     },
     "output_type": "display_data"
    }
   ],
   "source": [
    "# treedata = \"(((A,B),(C,(D,E))),F);\"\n",
    "treedata = \"(((0,4)-4,(1,(5,2)-5)-2)-1,3)-3;\"\n",
    "# treedata = \"(A,(B,C),(D,E));\"\n",
    "handle = StringIO(treedata)\n",
    "tree = Phylo.read(handle, \"newick\")\n",
    "\n",
    "# tree.ladderize()   # Flip branches so deeper clades are displayed at top\n",
    "Phylo.draw(tree)"
   ]
  },
  {
   "cell_type": "code",
   "execution_count": 16,
   "metadata": {},
   "outputs": [
    {
     "name": "stdout",
     "output_type": "stream",
     "text": [
      "Tree(rooted=False, weight=1.0)\n",
      "    Clade(confidence=-3.0)\n",
      "        Clade(confidence=-1.0)\n",
      "            Clade(confidence=-4.0)\n",
      "                Clade(name='0')\n",
      "                Clade(name='4')\n",
      "            Clade(confidence=-2.0)\n",
      "                Clade(name='1')\n",
      "                Clade(confidence=-5.0)\n",
      "                    Clade(name='5')\n",
      "                    Clade(name='2')\n",
      "        Clade(name='3')\n"
     ]
    }
   ],
   "source": [
    "print(tree)"
   ]
  },
  {
   "cell_type": "markdown",
   "metadata": {},
   "source": [
    "---"
   ]
  },
  {
   "cell_type": "markdown",
   "metadata": {},
   "source": [
    "# Implement Decoding Method"
   ]
  },
  {
   "cell_type": "code",
   "execution_count": 17,
   "metadata": {},
   "outputs": [],
   "source": [
    "def post_order_traversal(current_node):\n",
    "#     print(current_node.data)\n",
    "    if current_node.left != None:\n",
    "        left_newick_string = post_order_traversal(current_node.left)\n",
    "    if current_node.right != None:\n",
    "        right_newick_string = post_order_traversal(current_node.right)\n",
    "\n",
    "    if current_node.left == None and current_node.right == None:     \n",
    "#         # This node is the terminal vertex\n",
    "        return str(current_node.data)\n",
    "\n",
    "    if current_node.left != None and current_node.right != None:\n",
    "        newick_string = '(' + left_newick_string + ',' + right_newick_string + ')' + str(current_node.data)\n",
    "    return newick_string"
   ]
  },
  {
   "cell_type": "code",
   "execution_count": 18,
   "metadata": {},
   "outputs": [],
   "source": [
    "def Bandelt_Decode(Bandelt_Encode_list):\n",
    "    BANDELT_NUM = len(Bandelt_Encode_list)\n",
    "    # Initial with three nodes\n",
    "    root_node = Bandelt_Node(sys.maxsize)\n",
    "    node_1 = Bandelt_Node(1)\n",
    "    node_neg_1 = Bandelt_Node(-1)\n",
    "    node_0 = Bandelt_Node(0)\n",
    "    # Create links between initial three nodes\n",
    "    root_node.left = node_neg_1\n",
    "    node_neg_1.parent = root_node\n",
    "    node_neg_1.left = node_0\n",
    "    node_neg_1.right = node_1\n",
    "    node_1.parent = node_neg_1\n",
    "    node_0.parent = node_neg_1\n",
    "    \n",
    "    for i in range(1, BANDELT_NUM):\n",
    "        added_node_val = -(i+1)\n",
    "#         print('Node going to be added: ', added_node_val)\n",
    "#         print('Need to find: ', Bandelt_Encode_list[i], ' node')\n",
    "\n",
    "        added_node_neg = Bandelt_Node(added_node_val)\n",
    "        added_node_pos = Bandelt_Node(-added_node_val)\n",
    "\n",
    "        target_node = root_node.find_node(Bandelt_Encode_list[i])\n",
    "\n",
    "        # If target node is the left child \n",
    "        if target_node.parent.left == target_node:\n",
    "            target_node.parent.left = added_node_neg\n",
    "            added_node_neg.parent = target_node.parent\n",
    "            added_node_neg.left = target_node\n",
    "            target_node.parent = added_node_neg\n",
    "\n",
    "            added_node_neg.right = added_node_pos\n",
    "            added_node_pos.parent = added_node_neg\n",
    "\n",
    "        # If target node is the right child\n",
    "        if target_node.parent.right == target_node:\n",
    "            target_node.parent.right = added_node_neg\n",
    "            added_node_neg.parent = target_node.parent\n",
    "            added_node_neg.right = target_node\n",
    "            target_node.parent = added_node_neg\n",
    "\n",
    "            added_node_neg.left = added_node_pos\n",
    "            added_node_pos.parent = added_node_neg\n",
    "    decode_tree = post_order_traversal(root_node.left)\n",
    "    decode_tree_newick = decode_tree + ';'\n",
    "    return (root_node, decode_tree_newick)"
   ]
  },
  {
   "cell_type": "markdown",
   "metadata": {},
   "source": [
    "### First Tree Decode Example"
   ]
  },
  {
   "cell_type": "code",
   "execution_count": 19,
   "metadata": {},
   "outputs": [],
   "source": [
    "first_tree_decode, first_Bandelt_encode = Bandelt_Decode(first_Bandelt_encode)"
   ]
  },
  {
   "cell_type": "code",
   "execution_count": 20,
   "metadata": {},
   "outputs": [
    {
     "data": {
      "text/plain": [
       "'((((0,((8,9)-9,(7,3)-7)-8)-3,(5,(6,4)-6)-5)-4,2)-2,1)-1;'"
      ]
     },
     "execution_count": 20,
     "metadata": {},
     "output_type": "execute_result"
    }
   ],
   "source": [
    "first_Bandelt_encode"
   ]
  },
  {
   "cell_type": "code",
   "execution_count": 21,
   "metadata": {},
   "outputs": [
    {
     "name": "stdout",
     "output_type": "stream",
     "text": [
      "9223372036854775807\n",
      "___ -1\n",
      "______ 1\n",
      "______ -2\n",
      "_________ 2\n",
      "_________ -4\n",
      "____________ -5\n",
      "_______________ -6\n",
      "__________________ 6\n",
      "__________________ 4\n",
      "_______________ 5\n",
      "____________ -3\n",
      "_______________ 0\n",
      "_______________ -8\n",
      "__________________ -7\n",
      "_____________________ 7\n",
      "_____________________ 3\n",
      "__________________ -9\n",
      "_____________________ 8\n",
      "_____________________ 9\n"
     ]
    }
   ],
   "source": [
    "first_tree_encode.print_subtree()"
   ]
  },
  {
   "cell_type": "code",
   "execution_count": 22,
   "metadata": {},
   "outputs": [
    {
     "name": "stdout",
     "output_type": "stream",
     "text": [
      "9223372036854775807\n",
      "___ -1\n",
      "______ -2\n",
      "_________ -4\n",
      "____________ -3\n",
      "_______________ 0\n",
      "_______________ -8\n",
      "__________________ -9\n",
      "_____________________ 8\n",
      "_____________________ 9\n",
      "__________________ -7\n",
      "_____________________ 7\n",
      "_____________________ 3\n",
      "____________ -5\n",
      "_______________ 5\n",
      "_______________ -6\n",
      "__________________ 6\n",
      "__________________ 4\n",
      "_________ 2\n",
      "______ 1\n"
     ]
    }
   ],
   "source": [
    "first_tree_decode.print_subtree()"
   ]
  },
  {
   "cell_type": "code",
   "execution_count": 23,
   "metadata": {},
   "outputs": [
    {
     "data": {
      "text/plain": [
       "True"
      ]
     },
     "execution_count": 23,
     "metadata": {},
     "output_type": "execute_result"
    }
   ],
   "source": [
    "first_tree_encode.compare_subtree(first_tree_decode)"
   ]
  },
  {
   "cell_type": "markdown",
   "metadata": {},
   "source": [
    "### Second Tree Decode Example"
   ]
  },
  {
   "cell_type": "code",
   "execution_count": 24,
   "metadata": {},
   "outputs": [],
   "source": [
    "second_tree_decode, second_Bandelt_encode = Bandelt_Decode(second_Bandelt_encode)"
   ]
  },
  {
   "cell_type": "code",
   "execution_count": 25,
   "metadata": {},
   "outputs": [
    {
     "data": {
      "text/plain": [
       "'(((0,4)-4,((2,5)-5,1)-2)-1,3)-3;'"
      ]
     },
     "execution_count": 25,
     "metadata": {},
     "output_type": "execute_result"
    }
   ],
   "source": [
    "second_Bandelt_encode"
   ]
  },
  {
   "cell_type": "code",
   "execution_count": 26,
   "metadata": {},
   "outputs": [
    {
     "name": "stdout",
     "output_type": "stream",
     "text": [
      "9223372036854775807\n",
      "___ -3\n",
      "______ -1\n",
      "_________ -4\n",
      "____________ 0\n",
      "____________ 4\n",
      "_________ -2\n",
      "____________ 1\n",
      "____________ -5\n",
      "_______________ 5\n",
      "_______________ 2\n",
      "______ 3\n"
     ]
    }
   ],
   "source": [
    "second_tree_encode.print_subtree()"
   ]
  },
  {
   "cell_type": "code",
   "execution_count": 27,
   "metadata": {
    "scrolled": true
   },
   "outputs": [
    {
     "name": "stdout",
     "output_type": "stream",
     "text": [
      "9223372036854775807\n",
      "___ -3\n",
      "______ -1\n",
      "_________ -4\n",
      "____________ 0\n",
      "____________ 4\n",
      "_________ -2\n",
      "____________ -5\n",
      "_______________ 2\n",
      "_______________ 5\n",
      "____________ 1\n",
      "______ 3\n"
     ]
    }
   ],
   "source": [
    "second_tree_decode.print_subtree()"
   ]
  },
  {
   "cell_type": "code",
   "execution_count": 28,
   "metadata": {},
   "outputs": [
    {
     "data": {
      "text/plain": [
       "True"
      ]
     },
     "execution_count": 28,
     "metadata": {},
     "output_type": "execute_result"
    }
   ],
   "source": [
    "second_tree_encode.compare_subtree(second_tree_decode)"
   ]
  },
  {
   "cell_type": "code",
   "execution_count": 29,
   "metadata": {},
   "outputs": [],
   "source": [
    "# def bread_first_search(root_node):\n",
    "#     visited_nodes.append(root_node.data)\n",
    "#     queue.append(root_node)\n",
    "    \n",
    "#     while queue:\n",
    "#         current_node = queue.pop(0)\n",
    "#         if current_node != None:\n",
    "#             print (current_node.data, end = \" \") \n",
    "#         if current_node.left != None:\n",
    "#             if current_node.left.data not in visited_nodes:\n",
    "#                 visited_nodes.append(current_node.left.data)\n",
    "#                 queue.append(current_node.left)\n",
    "#         if current_node.right != None:\n",
    "#             if current_node.right.data not in visited_nodes:\n",
    "#                 visited_nodes.append(current_node.right.data)\n",
    "#                 queue.append(current_node.right)    "
   ]
  },
  {
   "cell_type": "code",
   "execution_count": 30,
   "metadata": {},
   "outputs": [],
   "source": [
    "# def depth_first_search(root_node):\n",
    "#     visited_nodes = []\n",
    "#     stack = []\n",
    "    \n",
    "#     visited_nodes.append(root_node.data)\n",
    "#     stack.append(root_node)\n",
    "    \n",
    "#     while stack:\n",
    "#         current_node = stack.pop(len(stack)-1)\n",
    "        \n",
    "#         if current_node != None:\n",
    "#             print (current_node.data, end = \" \") \n",
    "#         if current_node.left != None:\n",
    "#             if current_node.left.data not in visited_nodes:\n",
    "#                 visited_nodes.append(current_node.left.data)\n",
    "#                 stack.append(current_node.left)\n",
    "#         if current_node.right != None:\n",
    "#             if current_node.right.data not in visited_nodes:\n",
    "#                 visited_nodes.append(current_node.right.data)\n",
    "#                 stack.append(current_node.right)    "
   ]
  },
  {
   "cell_type": "code",
   "execution_count": null,
   "metadata": {},
   "outputs": [],
   "source": []
  },
  {
   "cell_type": "code",
   "execution_count": null,
   "metadata": {},
   "outputs": [],
   "source": []
  },
  {
   "cell_type": "markdown",
   "metadata": {},
   "source": [
    "## More Encoding / Decoding Examples"
   ]
  },
  {
   "cell_type": "code",
   "execution_count": 31,
   "metadata": {},
   "outputs": [],
   "source": [
    "third_tree_encode, third_Bandelt_encode = Bandelt_Encode(\"(((((0,1)-1,2)-2,3)-3,4)-4,((((6,5)-6,7)-7,8)-8,9)-9)-5;\")"
   ]
  },
  {
   "cell_type": "code",
   "execution_count": 32,
   "metadata": {},
   "outputs": [
    {
     "name": "stdout",
     "output_type": "stream",
     "text": [
      "9223372036854775807\n",
      "___ -5\n",
      "______ -4\n",
      "_________ -3\n",
      "____________ -2\n",
      "_______________ -1\n",
      "__________________ 0\n",
      "__________________ 1\n",
      "_______________ 2\n",
      "____________ 3\n",
      "_________ 4\n",
      "______ -9\n",
      "_________ -8\n",
      "____________ -7\n",
      "_______________ -6\n",
      "__________________ 6\n",
      "__________________ 5\n",
      "_______________ 7\n",
      "____________ 8\n",
      "_________ 9\n"
     ]
    }
   ],
   "source": [
    "third_tree_encode.print_subtree()"
   ]
  },
  {
   "cell_type": "code",
   "execution_count": 33,
   "metadata": {},
   "outputs": [
    {
     "data": {
      "text/plain": [
       "[0, -1, -2, -3, -4, 5, -6, -7, -8]"
      ]
     },
     "execution_count": 33,
     "metadata": {},
     "output_type": "execute_result"
    }
   ],
   "source": [
    "third_Bandelt_encode"
   ]
  },
  {
   "cell_type": "code",
   "execution_count": 34,
   "metadata": {},
   "outputs": [],
   "source": [
    "third_tree_decode, third_Bandelt_Decode = Bandelt_Decode(third_Bandelt_encode)"
   ]
  },
  {
   "cell_type": "code",
   "execution_count": 35,
   "metadata": {},
   "outputs": [
    {
     "data": {
      "text/plain": [
       "'(((((0,1)-1,2)-2,3)-3,4)-4,(9,(8,(7,(6,5)-6)-7)-8)-9)-5;'"
      ]
     },
     "execution_count": 35,
     "metadata": {},
     "output_type": "execute_result"
    }
   ],
   "source": [
    "third_Bandelt_Decode"
   ]
  },
  {
   "cell_type": "code",
   "execution_count": 37,
   "metadata": {},
   "outputs": [
    {
     "name": "stdout",
     "output_type": "stream",
     "text": [
      "9223372036854775807\n",
      "___ -5\n",
      "______ -4\n",
      "_________ -3\n",
      "____________ -2\n",
      "_______________ -1\n",
      "__________________ 0\n",
      "__________________ 1\n",
      "_______________ 2\n",
      "____________ 3\n",
      "_________ 4\n",
      "______ -9\n",
      "_________ 9\n",
      "_________ -8\n",
      "____________ 8\n",
      "____________ -7\n",
      "_______________ 7\n",
      "_______________ -6\n",
      "__________________ 6\n",
      "__________________ 5\n"
     ]
    }
   ],
   "source": [
    "third_tree_decode.print_subtree()"
   ]
  },
  {
   "cell_type": "code",
   "execution_count": 38,
   "metadata": {},
   "outputs": [
    {
     "data": {
      "text/plain": [
       "True"
      ]
     },
     "execution_count": 38,
     "metadata": {},
     "output_type": "execute_result"
    }
   ],
   "source": [
    "third_tree_encode.compare_subtree(third_tree_decode)"
   ]
  },
  {
   "cell_type": "code",
   "execution_count": null,
   "metadata": {},
   "outputs": [],
   "source": []
  }
 ],
 "metadata": {
  "kernelspec": {
   "display_name": "Python 3",
   "language": "python",
   "name": "python3"
  },
  "language_info": {
   "codemirror_mode": {
    "name": "ipython",
    "version": 3
   },
   "file_extension": ".py",
   "mimetype": "text/x-python",
   "name": "python",
   "nbconvert_exporter": "python",
   "pygments_lexer": "ipython3",
   "version": "3.7.4"
  }
 },
 "nbformat": 4,
 "nbformat_minor": 4
}
