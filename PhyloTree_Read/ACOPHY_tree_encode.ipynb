{
 "cells": [
  {
   "cell_type": "code",
   "execution_count": 40,
   "metadata": {},
   "outputs": [],
   "source": [
    "import pandas\n",
    "from itertools import product\n",
    "import sys, argparse, os\n",
    "import numpy as np\n",
    "from math import log, ceil\n",
    "from scipy.stats import multinomial, chi2\n",
    "from math import factorial\n",
    "import re\n",
    "import os"
   ]
  },
  {
   "cell_type": "code",
   "execution_count": 41,
   "metadata": {},
   "outputs": [],
   "source": [
    "from Bio import Phylo\n",
    "\n",
    "from io import BytesIO     # for handling byte strings\n",
    "from io import StringIO    # for handling unicode strings"
   ]
  },
  {
   "cell_type": "code",
   "execution_count": 42,
   "metadata": {},
   "outputs": [
    {
     "data": {
      "image/png": "[encoded data removed]",
      "text/plain": [
       "<Figure size 432x288 with 1 Axes>"
      ]
     },
     "metadata": {
      "needs_background": "light"
     },
     "output_type": "display_data"
    }
   ],
   "source": [
    "# treedata = \"(((A,B),(C,(D,E))),F);\"\n",
    "treedata = \"(((0,4)-4,(1,(5,2)-5)-2)-1,3)-3;\"\n",
    "# treedata = \"(A,(B,C),(D,E));\"\n",
    "handle = StringIO(treedata)\n",
    "tree = Phylo.read(handle, \"newick\")\n",
    "\n",
    "tree.ladderize()   # Flip branches so deeper clades are displayed at top\n",
    "Phylo.draw(tree)"
   ]
  },
  {
   "cell_type": "code",
   "execution_count": 43,
   "metadata": {},
   "outputs": [
    {
     "name": "stdout",
     "output_type": "stream",
     "text": [
      "Tree(rooted=False, weight=1.0)\n",
      "    Clade(confidence=-3.0)\n",
      "        Clade(name='3')\n",
      "        Clade(confidence=-1.0)\n",
      "            Clade(confidence=-4.0)\n",
      "                Clade(name='0')\n",
      "                Clade(name='4')\n",
      "            Clade(confidence=-2.0)\n",
      "                Clade(name='1')\n",
      "                Clade(confidence=-5.0)\n",
      "                    Clade(name='5')\n",
      "                    Clade(name='2')\n"
     ]
    }
   ],
   "source": [
    "print(tree)"
   ]
  },
  {
   "cell_type": "code",
   "execution_count": 44,
   "metadata": {},
   "outputs": [],
   "source": [
    "def get_children_num(clade):\n",
    "    for idx in range(len(clade)):\n",
    "        if clade[idx].is_terminal():\n",
    "            print(clade[idx].name)\n",
    "        else:\n",
    "            print(clade[idx].confidence)\n",
    "        get_children_num(clade[idx])"
   ]
  },
  {
   "cell_type": "code",
   "execution_count": 45,
   "metadata": {},
   "outputs": [
    {
     "name": "stdout",
     "output_type": "stream",
     "text": [
      "3\n",
      "-1.0\n",
      "-4.0\n",
      "0\n",
      "4\n",
      "-2.0\n",
      "1\n",
      "-5.0\n",
      "5\n",
      "2\n"
     ]
    }
   ],
   "source": [
    "get_children_num(tree.root)"
   ]
  },
  {
   "cell_type": "code",
   "execution_count": 63,
   "metadata": {},
   "outputs": [],
   "source": [
    "class Bandelt_Node:\n",
    "    def __init__(self, data):\n",
    "        self.parent = None\n",
    "        self.left = None\n",
    "        self.right = None\n",
    "        self.data = data\n",
    "        \n",
    "    def find_node(self, val):\n",
    "        if self.data == val:\n",
    "            return self\n",
    "        else:\n",
    "            if (self.left == None) and (self.right == None):\n",
    "                return None\n",
    "            if self.left != None:\n",
    "                find_left = self.left.find_node(val)\n",
    "                if find_left != None:\n",
    "                    return find_left\n",
    "            if self.right != None:\n",
    "                find_right = self.right.find_node(val)\n",
    "                if find_right != None:\n",
    "                    return find_right\n",
    "            return None\n",
    "        \n",
    "    def print_details(self):\n",
    "        parent_data = self.parent.data if (self.parent != None) else self.parent\n",
    "        left_data = self.left.data if (self.left != None) else self.left\n",
    "        right_data = self.right.data if (self.right != None) else self.right\n",
    "        print(\"Current Value: \", self.data, \"; Parent: \", parent_data, \"; left: \", left_data, \"; right: \", right_data)"
   ]
  },
  {
   "cell_type": "code",
   "execution_count": 64,
   "metadata": {},
   "outputs": [],
   "source": [
    "def create_Bandelt_Tree(clade, parent_node):\n",
    "    for idx in range(len(clade)):\n",
    "        if idx == 0:\n",
    "            if clade[idx].is_terminal():\n",
    "                children_node = Bandelt_Node(str(clade[idx].name))\n",
    "                # Parent add \n",
    "                parent_node.left = children_node\n",
    "                children_node.parent = parent_node\n",
    "                print(clade[idx].name)\n",
    "            else:\n",
    "                children_node = Bandelt_Node(str(int(clade[idx].confidence)))\n",
    "                parent_node.left = children_node\n",
    "                children_node.parent = parent_node\n",
    "                print(clade[idx].confidence)\n",
    "        if idx == 1:  \n",
    "            if clade[idx].is_terminal():\n",
    "                children_node = Bandelt_Node(str(clade[idx].name))\n",
    "                # Parent add \n",
    "                parent_node.right = children_node\n",
    "                children_node.parent = parent_node\n",
    "                print(clade[idx].name)\n",
    "            else:\n",
    "                children_node = Bandelt_Node(str(int(clade[idx].confidence)))\n",
    "                parent_node.right = children_node\n",
    "                children_node.parent = parent_node\n",
    "                print(clade[idx].confidence)\n",
    "        create_Bandelt_Tree(clade[idx], children_node)"
   ]
  },
  {
   "cell_type": "code",
   "execution_count": null,
   "metadata": {},
   "outputs": [],
   "source": [
    "# def find_Bandelt_encode(target_node, val):\n",
    "#     encode_num = None\n",
    "#     if target_node.left != None:        \n",
    "#         if abs(target_node.left.data) < abs(val):\n",
    "#             encode_num = target_node.left.data\n",
    "#     if target_node.right != None:        \n",
    "#         if abs(target_node.right.data) < abs(val):\n",
    "#             encode_num = target_node.right.data\n",
    "#     if encode_num == None:\n",
    "#         find_Bandelt_encode\n",
    "#     if encode_num != None:\n",
    "        \n",
    "        \n",
    "    "
   ]
  },
  {
   "cell_type": "code",
   "execution_count": 90,
   "metadata": {},
   "outputs": [],
   "source": [
    "visited_nodes = []\n",
    "queue = []"
   ]
  },
  {
   "cell_type": "code",
   "execution_count": 91,
   "metadata": {},
   "outputs": [],
   "source": [
    "def bread_first_search(root_node):\n",
    "    visited_nodes.append(root_node.data)\n",
    "    queue.append(root_node)\n",
    "    \n",
    "    while queue:\n",
    "        current_node = queue.pop(0)\n",
    "        if current_node != None:\n",
    "            print (current_node.data, end = \" \") \n",
    "        if current_node.left != None:\n",
    "            if current_node.left.data not in visited_nodes:\n",
    "                visited_nodes.append(current_node.left.data)\n",
    "                queue.append(current_node.left)\n",
    "                \n",
    "        if current_node.right != None:\n",
    "            if current_node.right.data not in visited_nodes:\n",
    "                visited_nodes.append(current_node.right.data)\n",
    "                queue.append(current_node.right)    "
   ]
  },
  {
   "cell_type": "code",
   "execution_count": 92,
   "metadata": {},
   "outputs": [
    {
     "name": "stdout",
     "output_type": "stream",
     "text": [
      "* -3 3 -1 -4 -2 0 4 1 -5 5 2 "
     ]
    }
   ],
   "source": [
    "bread_first_search(root_node)"
   ]
  },
  {
   "cell_type": "code",
   "execution_count": 65,
   "metadata": {},
   "outputs": [],
   "source": [
    "root_node = Bandelt_Node('*')"
   ]
  },
  {
   "cell_type": "code",
   "execution_count": 66,
   "metadata": {},
   "outputs": [],
   "source": [
    "inner_root = Bandelt_Node(str(int(tree.root.confidence)))\n",
    "root_node.left = inner_root\n",
    "inner_root.parent = root_node"
   ]
  },
  {
   "cell_type": "code",
   "execution_count": 67,
   "metadata": {},
   "outputs": [
    {
     "name": "stdout",
     "output_type": "stream",
     "text": [
      "3\n",
      "-1.0\n",
      "-4.0\n",
      "0\n",
      "4\n",
      "-2.0\n",
      "1\n",
      "-5.0\n",
      "5\n",
      "2\n"
     ]
    }
   ],
   "source": [
    "create_Bandelt_Tree(tree.root, inner_root)"
   ]
  },
  {
   "cell_type": "code",
   "execution_count": 68,
   "metadata": {},
   "outputs": [
    {
     "data": {
      "text/plain": [
       "True"
      ]
     },
     "execution_count": 68,
     "metadata": {},
     "output_type": "execute_result"
    }
   ],
   "source": [
    "root_node.left.right.data == '-1'"
   ]
  },
  {
   "cell_type": "code",
   "execution_count": 69,
   "metadata": {},
   "outputs": [
    {
     "name": "stdout",
     "output_type": "stream",
     "text": [
      "Tree(rooted=False, weight=1.0)\n",
      "    Clade(confidence=-3.0)\n",
      "        Clade(name='3')\n",
      "        Clade(confidence=-1.0)\n",
      "            Clade(confidence=-4.0)\n",
      "                Clade(name='0')\n",
      "                Clade(name='4')\n",
      "            Clade(confidence=-2.0)\n",
      "                Clade(name='1')\n",
      "                Clade(confidence=-5.0)\n",
      "                    Clade(name='5')\n",
      "                    Clade(name='2')\n"
     ]
    }
   ],
   "source": [
    "print(tree)"
   ]
  },
  {
   "cell_type": "code",
   "execution_count": 72,
   "metadata": {},
   "outputs": [],
   "source": [
    "found_node = root_node.find_node('5')"
   ]
  },
  {
   "cell_type": "code",
   "execution_count": 75,
   "metadata": {},
   "outputs": [
    {
     "name": "stdout",
     "output_type": "stream",
     "text": [
      "Current Value:  5 ; Parent:  -5 ; left:  None ; right:  None\n"
     ]
    }
   ],
   "source": [
    "found_node.print_details()"
   ]
  },
  {
   "cell_type": "code",
   "execution_count": 78,
   "metadata": {},
   "outputs": [
    {
     "name": "stdout",
     "output_type": "stream",
     "text": [
      "-1\n",
      "Current Value:  -1 ; Parent:  -3 ; left:  -4 ; right:  -2\n",
      "None\n",
      "-2\n",
      "Current Value:  -2 ; Parent:  -1 ; left:  1 ; right:  -5\n",
      "None\n",
      "-3\n",
      "Current Value:  -3 ; Parent:  * ; left:  3 ; right:  -1\n",
      "None\n",
      "-4\n",
      "Current Value:  -4 ; Parent:  -1 ; left:  0 ; right:  4\n",
      "None\n",
      "-5\n",
      "Current Value:  -5 ; Parent:  -2 ; left:  5 ; right:  2\n",
      "None\n"
     ]
    }
   ],
   "source": [
    "for i in range(0, 5):\n",
    "    target_node_val = -(i+1)\n",
    "    found_node = root_node.find_node(str(target_node_val))\n",
    "    print(found_node.print_details())"
   ]
  },
  {
   "cell_type": "code",
   "execution_count": null,
   "metadata": {},
   "outputs": [],
   "source": []
  },
  {
   "cell_type": "code",
   "execution_count": null,
   "metadata": {},
   "outputs": [],
   "source": []
  },
  {
   "cell_type": "code",
   "execution_count": null,
   "metadata": {},
   "outputs": [],
   "source": []
  },
  {
   "cell_type": "code",
   "execution_count": null,
   "metadata": {},
   "outputs": [],
   "source": []
  },
  {
   "cell_type": "code",
   "execution_count": null,
   "metadata": {},
   "outputs": [],
   "source": []
  },
  {
   "cell_type": "code",
   "execution_count": null,
   "metadata": {},
   "outputs": [],
   "source": []
  },
  {
   "cell_type": "code",
   "execution_count": 8,
   "metadata": {},
   "outputs": [],
   "source": [
    "root = ACOPHY_Node(10)"
   ]
  },
  {
   "cell_type": "code",
   "execution_count": 10,
   "metadata": {},
   "outputs": [
    {
     "name": "stdout",
     "output_type": "stream",
     "text": [
      "10\n"
     ]
    }
   ],
   "source": [
    "root.print_tree()"
   ]
  },
  {
   "cell_type": "code",
   "execution_count": null,
   "metadata": {},
   "outputs": [],
   "source": []
  },
  {
   "cell_type": "code",
   "execution_count": null,
   "metadata": {},
   "outputs": [],
   "source": []
  },
  {
   "cell_type": "code",
   "execution_count": null,
   "metadata": {},
   "outputs": [],
   "source": []
  },
  {
   "cell_type": "code",
   "execution_count": null,
   "metadata": {},
   "outputs": [],
   "source": []
  },
  {
   "cell_type": "code",
   "execution_count": 38,
   "metadata": {},
   "outputs": [],
   "source": [
    "import dendropy\n",
    "from dendropy.calculate import treecompare\n",
    "import random"
   ]
  },
  {
   "cell_type": "code",
   "execution_count": 39,
   "metadata": {},
   "outputs": [
    {
     "name": "stderr",
     "output_type": "stream",
     "text": [
      "/home/howard/miniconda3/lib/python3.7/site-packages/ipykernel_launcher.py:1: CriticalDeprecationWarning: Deprecated since DendroPy 4: 'TaxonSet' will no longer be supported in future releases; use 'TaxonNamespace' instead\n",
      "  \"\"\"Entry point for launching an IPython kernel.\n"
     ]
    }
   ],
   "source": [
    "taxon_namespace = dendropy.TaxonSet()\n",
    "tree = dendropy.Tree.get(path=\"./simple_tree.nwk\", schema=\"newick\", taxon_set=taxon_namespace)"
   ]
  },
  {
   "cell_type": "code",
   "execution_count": 41,
   "metadata": {},
   "outputs": [
    {
     "name": "stdout",
     "output_type": "stream",
     "text": [
      "                                                                    /---------------------- 0\n",
      "                      /---------------------------------------------+                        \n",
      "                      |                                             \\---------------------- 4\n",
      "/---------------------+                                                                      \n",
      "|                     |                      /--------------------------------------------- 1\n",
      "|                     \\----------------------+                                               \n",
      "+                                            |                      /---------------------- 5\n",
      "|                                            \\----------------------+                        \n",
      "|                                                                   \\---------------------- 2\n",
      "|                                                                                            \n",
      "\\------------------------------------------------------------------------------------------ 3\n",
      "                                                                                             \n",
      "                                                                                             \n"
     ]
    }
   ],
   "source": [
    "s = tree.as_ascii_plot()\n",
    "print(s)"
   ]
  },
  {
   "cell_type": "code",
   "execution_count": null,
   "metadata": {},
   "outputs": [],
   "source": [
    "tree"
   ]
  },
  {
   "cell_type": "code",
   "execution_count": 42,
   "metadata": {},
   "outputs": [],
   "source": [
    "num = 6"
   ]
  },
  {
   "cell_type": "code",
   "execution_count": 49,
   "metadata": {
    "scrolled": true
   },
   "outputs": [
    {
     "name": "stdout",
     "output_type": "stream",
     "text": [
      "<Node object at 0x7f8c69296350: 'None' (<Taxon 0x7f8c692963d0 '0'>)>\n",
      "<Node object at 0x7f8c69296490: 'None' (<Taxon 0x7f8c69296510 '4'>)>\n",
      "<Node object at 0x7f8c692962d0: '-4' (None)>\n",
      "<Node object at 0x7f8c69296690: 'None' (<Taxon 0x7f8c69296710 '1'>)>\n",
      "<Node object at 0x7f8c69296850: 'None' (<Taxon 0x7f8c692968d0 '5'>)>\n",
      "<Node object at 0x7f8c69296990: 'None' (<Taxon 0x7f8c69296a10 '2'>)>\n",
      "<Node object at 0x7f8c692967d0: '-5' (None)>\n",
      "<Node object at 0x7f8c69296610: '-2' (None)>\n",
      "<Node object at 0x7f8c69296250: '-1' (None)>\n",
      "<Node object at 0x7f8c69296bd0: 'None' (<Taxon 0x7f8c69296c50 '3'>)>\n",
      "<Node object at 0x7f8c692961d0: '-3' (None)>\n"
     ]
    }
   ],
   "source": [
    "Postorder = {}\n",
    "for node in tree.postorder_node_iter():\n",
    "    node = str(node)\n",
    "    print(node)\n",
    "    Arg = str(\"Taxon\" in node)\n",
    "    # internal nodes only\n",
    "    if Arg != \"True\":\n",
    "        num = num+1\n",
    "        # unique node identifier as hash key\n",
    "        Postorder[node[16:27]] = num"
   ]
  },
  {
   "cell_type": "code",
   "execution_count": 44,
   "metadata": {},
   "outputs": [
    {
     "data": {
      "text/plain": [
       "{'0x7f8c69296': 11}"
      ]
     },
     "execution_count": 44,
     "metadata": {},
     "output_type": "execute_result"
    }
   ],
   "source": [
    "Postorder"
   ]
  },
  {
   "cell_type": "code",
   "execution_count": null,
   "metadata": {},
   "outputs": [],
   "source": []
  },
  {
   "cell_type": "code",
   "execution_count": null,
   "metadata": {},
   "outputs": [],
   "source": []
  },
  {
   "cell_type": "code",
   "execution_count": null,
   "metadata": {},
   "outputs": [],
   "source": []
  },
  {
   "cell_type": "code",
   "execution_count": 50,
   "metadata": {},
   "outputs": [],
   "source": [
    "treedata = \"(((0,4)-4,(1,(5,2)-5)-2)-1,3)-3;\""
   ]
  },
  {
   "cell_type": "code",
   "execution_count": null,
   "metadata": {},
   "outputs": [],
   "source": []
  }
 ],
 "metadata": {
  "kernelspec": {
   "display_name": "Python 3",
   "language": "python",
   "name": "python3"
  },
  "language_info": {
   "codemirror_mode": {
    "name": "ipython",
    "version": 3
   },
   "file_extension": ".py",
   "mimetype": "text/x-python",
   "name": "python",
   "nbconvert_exporter": "python",
   "pygments_lexer": "ipython3",
   "version": "3.7.4"
  }
 },
 "nbformat": 4,
 "nbformat_minor": 4
}
